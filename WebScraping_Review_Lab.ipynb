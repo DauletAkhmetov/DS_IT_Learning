{
 "cells": [
  {
   "cell_type": "markdown",
   "metadata": {},
   "source": [
    "<center>\n",
    "    <img src=\"https://gitlab.com/ibm/skills-network/courses/placeholder101/-/raw/master/labs/module%201/images/IDSNlogo.png\" width=\"300\" alt=\"cognitiveclass.ai logo\"  />\n",
    "</center>\n"
   ]
  },
  {
   "cell_type": "markdown",
   "metadata": {},
   "source": [
    "# **Web Scraping Lab**\n"
   ]
  },
  {
   "cell_type": "markdown",
   "metadata": {},
   "source": [
    "Estimated time needed: **30** minutes\n"
   ]
  },
  {
   "cell_type": "markdown",
   "metadata": {},
   "source": [
    "## Objectives\n"
   ]
  },
  {
   "cell_type": "markdown",
   "metadata": {},
   "source": [
    "After completing this lab you will be able to:\n"
   ]
  },
  {
   "cell_type": "markdown",
   "metadata": {},
   "source": [
    "<h2>Table of Contents</h2>\n",
    "<div class=\"alert alert-block alert-info\" style=\"margin-top: 20px\">\n",
    "    <ul>\n",
    "        <li>\n",
    "            <a href=\"https://bso/?utm_medium=Exinfluencer&utm_source=Exinfluencer&utm_content=000026UJ&utm_term=10006555&utm_id=NA-SkillsNetwork-Channel-SkillsNetworkCoursesIBMDeveloperSkillsNetworkPY0220ENSkillsNetwork23455606-2021-01-01\">Beautiful Soup Object</a>\n",
    "            <ul>\n",
    "                <li>Tag</li>\n",
    "                <li>Children, Parents, and Siblings</li>\n",
    "                <li>HTML Attributes</li>\n",
    "                <li>Navigable String</li>\n",
    "            </ul>\n",
    "        </li>\n",
    "     </ul>\n",
    "    <ul>\n",
    "        <li>\n",
    "            <a href=\"https://filter/?utm_medium=Exinfluencer&utm_source=Exinfluencer&utm_content=000026UJ&utm_term=10006555&utm_id=NA-SkillsNetwork-Channel-SkillsNetworkCoursesIBMDeveloperSkillsNetworkPY0220ENSkillsNetwork23455606-2021-01-01\">Filter</a>\n",
    "            <ul>\n",
    "                <li>find All</li>\n",
    "                <li>find </li>\n",
    "                <li>HTML Attributes</li>\n",
    "                <li>Navigable String</li>\n",
    "            </ul>\n",
    "        </li>\n",
    "     </ul>\n",
    "     <ul>\n",
    "        <li>\n",
    "            <a href=\"https://dscw/?utm_medium=Exinfluencer&utm_source=Exinfluencer&utm_content=000026UJ&utm_term=10006555&utm_id=NA-SkillsNetwork-Channel-SkillsNetworkCoursesIBMDeveloperSkillsNetworkPY0220ENSkillsNetwork23455606-2021-01-01\">Downloading And Scraping The Contents Of A Web</a>\n",
    "    </li>\n",
    "         </ul>\n",
    "    <p>\n",
    "        Estimated time needed: <strong>25 min</strong>\n",
    "    </p>\n",
    "\n",
    "</div>\n",
    "\n",
    "<hr>\n"
   ]
  },
  {
   "cell_type": "markdown",
   "metadata": {},
   "source": [
    "For this lab, we are going to be using Python and several Python libraries. Some of these libraries might be installed in your lab environment or in SN Labs. Others may need to be installed by you. The cells below will install these libraries when executed.\n"
   ]
  },
  {
   "cell_type": "code",
   "execution_count": 3,
   "metadata": {},
   "outputs": [
    {
     "name": "stdout",
     "output_type": "stream",
     "text": [
      "\n",
      "                  __    __    __    __\n",
      "                 /  \\  /  \\  /  \\  /  \\\n",
      "                /    \\/    \\/    \\/    \\\n",
      "███████████████/  /██/  /██/  /██/  /████████████████████████\n",
      "              /  / \\   / \\   / \\   / \\  \\____\n",
      "             /  /   \\_/   \\_/   \\_/   \\    o \\__,\n",
      "            / _/                       \\_____/  `\n",
      "            |/\n",
      "        ███╗   ███╗ █████╗ ███╗   ███╗██████╗  █████╗\n",
      "        ████╗ ████║██╔══██╗████╗ ████║██╔══██╗██╔══██╗\n",
      "        ██╔████╔██║███████║██╔████╔██║██████╔╝███████║\n",
      "        ██║╚██╔╝██║██╔══██║██║╚██╔╝██║██╔══██╗██╔══██║\n",
      "        ██║ ╚═╝ ██║██║  ██║██║ ╚═╝ ██║██████╔╝██║  ██║\n",
      "        ╚═╝     ╚═╝╚═╝  ╚═╝╚═╝     ╚═╝╚═════╝ ╚═╝  ╚═╝\n",
      "\n",
      "        mamba (0.15.3) supported by @QuantStack\n",
      "\n",
      "        GitHub:  https://github.com/mamba-org/mamba\n",
      "        Twitter: https://twitter.com/QuantStack\n",
      "\n",
      "█████████████████████████████████████████████████████████████\n",
      "\n",
      "\n",
      "Looking for: ['bs4==4.10.0']\n",
      "\n",
      "pkgs/main/noarch         [<=>                 ] (00m:00s) \n",
      "pkgs/main/noarch         [=>                ] (00m:00s) 400  B / ?? (2.58 KB/s)\n",
      "pkgs/main/noarch         [<=>               ] (00m:00s) 400  B / ?? (2.58 KB/s)\n",
      "pkgs/main/noarch         [<=>               ] (00m:00s) 732 KB / ?? (2.37 MB/s)\n",
      "pkgs/main/noarch         [<=>               ] (00m:00s) 732 KB / ?? (2.37 MB/s)\n",
      "pkgs/r/linux-64          [<=>                 ] (00m:00s) \n",
      "pkgs/main/noarch         [<=>               ] (00m:00s) 732 KB / ?? (2.37 MB/s)\n",
      "pkgs/r/linux-64          [=>                ] (00m:00s) 664 KB / ?? (2.15 MB/s)\n",
      "pkgs/main/noarch         [<=>               ] (00m:00s) 732 KB / ?? (2.37 MB/s)\n",
      "pkgs/r/linux-64          [=>                ] (00m:00s) 664 KB / ?? (2.15 MB/s)\n",
      "pkgs/r/noarch            [<=>                 ] (00m:00s) \n",
      "pkgs/main/noarch         [<=>               ] (00m:00s) 732 KB / ?? (2.37 MB/s)\n",
      "pkgs/r/linux-64          [=>                ] (00m:00s) 664 KB / ?? (2.15 MB/s)\n",
      "pkgs/r/noarch            [=>                ] (00m:00s) 432 KB / ?? (1.40 MB/s)\n",
      "pkgs/main/noarch         [<=>               ] (00m:00s) 732 KB / ?? (2.37 MB/s)\n",
      "pkgs/r/linux-64          [=>                ] (00m:00s) 664 KB / ?? (2.15 MB/s)\n",
      "pkgs/r/noarch            [=>                ] (00m:00s) 432 KB / ?? (1.40 MB/s)\n",
      "pkgs/main/linux-64       [<=>                 ] (00m:00s) \n",
      "pkgs/main/noarch         [<=>               ] (00m:00s) 732 KB / ?? (2.37 MB/s)\n",
      "pkgs/r/linux-64          [=>                ] (00m:00s) 664 KB / ?? (2.15 MB/s)\n",
      "pkgs/r/noarch            [=>                ] (00m:00s) 432 KB / ?? (1.40 MB/s)\n",
      "pkgs/main/linux-64       [=>                ] (00m:00s) 700 KB / ?? (2.26 MB/s)\n",
      "pkgs/main/noarch         [ <=>                ] (00m:00s) Finalizing...\n",
      "pkgs/r/linux-64          [=>                ] (00m:00s) 664 KB / ?? (2.15 MB/s)\n",
      "pkgs/r/noarch            [=>                ] (00m:00s) 432 KB / ?? (1.40 MB/s)\n",
      "pkgs/main/linux-64       [=>                ] (00m:00s) 700 KB / ?? (2.26 MB/s)\n",
      "pkgs/main/noarch         [ <=>                ] (00m:00s) Done\n",
      "pkgs/r/linux-64          [=>                ] (00m:00s) 664 KB / ?? (2.15 MB/s)\n",
      "pkgs/r/noarch            [=>                ] (00m:00s) 432 KB / ?? (1.40 MB/s)\n",
      "pkgs/main/linux-64       [=>                ] (00m:00s) 700 KB / ?? (2.26 MB/s)\n",
      "pkgs/main/noarch         [====================] (00m:00s) Done\n",
      "pkgs/r/linux-64          [=>                ] (00m:00s) 664 KB / ?? (2.15 MB/s)\n",
      "pkgs/r/noarch            [=>                ] (00m:00s) 432 KB / ?? (1.40 MB/s)\n",
      "pkgs/main/linux-64       [=>                ] (00m:00s) 700 KB / ?? (2.26 MB/s)\n",
      "pkgs/r/linux-64          [=>                ] (00m:00s) 664 KB / ?? (2.15 MB/s)\n",
      "pkgs/r/noarch            [<=>                 ] (00m:00s) Finalizing...\n",
      "pkgs/main/linux-64       [=>                ] (00m:00s) 700 KB / ?? (2.26 MB/s)\n",
      "pkgs/r/linux-64          [=>                ] (00m:00s) 664 KB / ?? (2.15 MB/s)\n",
      "pkgs/r/noarch            [<=>                 ] (00m:00s) Done\n",
      "pkgs/main/linux-64       [=>                ] (00m:00s) 700 KB / ?? (2.26 MB/s)\n",
      "pkgs/r/noarch            [====================] (00m:00s) Done\n",
      "pkgs/r/linux-64          [=>                ] (00m:00s) 664 KB / ?? (2.15 MB/s)\n",
      "pkgs/main/linux-64       [=>                ] (00m:00s) 700 KB / ?? (2.26 MB/s)\n",
      "pkgs/r/linux-64          [<=>                 ] (00m:00s) Finalizing...\n",
      "pkgs/main/linux-64       [=>                ] (00m:00s) 700 KB / ?? (2.26 MB/s)\n",
      "pkgs/r/linux-64          [<=>                 ] (00m:00s) Done\n",
      "pkgs/main/linux-64       [=>                ] (00m:00s) 700 KB / ?? (2.26 MB/s)\n",
      "pkgs/r/linux-64          [====================] (00m:00s) Done\n",
      "pkgs/main/linux-64       [=>                ] (00m:00s) 700 KB / ?? (2.26 MB/s)\n",
      "pkgs/main/linux-64       [<=>               ] (00m:00s) 700 KB / ?? (2.26 MB/s)\n",
      "pkgs/main/linux-64       [ <=>                ] (00m:00s) 1 MB / ?? (3.28 MB/s)\n",
      "pkgs/main/linux-64       [  <=>               ] (00m:00s) 1 MB / ?? (3.28 MB/s)\n",
      "pkgs/main/linux-64       [  <=>               ] (00m:00s) 2 MB / ?? (3.64 MB/s)\n",
      "pkgs/main/linux-64       [   <=>              ] (00m:00s) 2 MB / ?? (3.64 MB/s)\n",
      "pkgs/main/linux-64       [   <=>              ] (00m:00s) 3 MB / ?? (3.88 MB/s)\n",
      "pkgs/main/linux-64       [    <=>             ] (00m:00s) 3 MB / ?? (3.88 MB/s)\n",
      "pkgs/main/linux-64       [    <=>             ] (00m:00s) 4 MB / ?? (4.08 MB/s)\n",
      "pkgs/main/linux-64       [    <=>             ] (00m:00s) Finalizing...\n",
      "pkgs/main/linux-64       [    <=>             ] (00m:00s) Done\n",
      "pkgs/main/linux-64       [====================] (00m:00s) Done\n",
      "\n",
      "Pinned packages:\n",
      "  - python 3.7.*\n",
      "\n",
      "\n",
      "Transaction\n",
      "\n",
      "  Prefix: /home/jupyterlab/conda/envs/python\n",
      "\n",
      "  Updating specs:\n",
      "\n",
      "   - bs4==4.10.0\n",
      "   - ca-certificates\n",
      "   - certifi\n",
      "   - openssl\n",
      "\n",
      "\n",
      "  Package               Version  Build           Channel                  Size\n",
      "────────────────────────────────────────────────────────────────────────────────\n",
      "  Install:\n",
      "────────────────────────────────────────────────────────────────────────────────\n",
      "\n",
      "\u001b[32m  + beautifulsoup4 \u001b[00m      4.10.0  pyh06a4308_0    pkgs/main/noarch        85 KB\n",
      "\u001b[32m  + bs4            \u001b[00m      4.10.0  hd3eb1b0_0      pkgs/main/noarch        10 KB\n",
      "\u001b[32m  + soupsieve      \u001b[00m       2.3.1  pyhd3eb1b0_0    pkgs/main/noarch        34 KB\n",
      "\n",
      "  Change:\n",
      "────────────────────────────────────────────────────────────────────────────────\n",
      "\n",
      "\u001b[31m  - certifi        \u001b[00m   2021.10.8  py37h89c1867_1  installed                    \n",
      "\u001b[32m  + certifi        \u001b[00m   2021.10.8  py37h06a4308_2  pkgs/main/linux-64     151 KB\n",
      "\n",
      "  Upgrade:\n",
      "────────────────────────────────────────────────────────────────────────────────\n",
      "\n",
      "\u001b[31m  - ca-certificates\u001b[00m   2021.10.8  ha878542_0      installed                    \n",
      "\u001b[32m  + ca-certificates\u001b[00m  2021.10.26  h06a4308_2      pkgs/main/linux-64     115 KB\n",
      "\u001b[31m  - openssl        \u001b[00m      1.1.1l  h7f98852_0      installed                    \n",
      "\u001b[32m  + openssl        \u001b[00m      1.1.1m  h7f8727e_0      pkgs/main/linux-64       3 MB\n",
      "\n",
      "  Summary:\n",
      "\n",
      "  Install: 3 packages\n",
      "  Change: 1 packages\n",
      "  Upgrade: 2 packages\n",
      "\n",
      "  Total download: 3 MB\n",
      "\n",
      "────────────────────────────────────────────────────────────────────────────────\n",
      "\n",
      "Downloading  [>                                        ] (00m:00s)  683.79 KB/s\n",
      "Extracting   [>                                                      ] (--:--) \n",
      "\u001b[2A\u001b[0KFinished soupsieve                            (00m:00s)              34 KB    696 KB/s\n",
      "Downloading  [>                                        ] (00m:00s)  683.79 KB/s\n",
      "Extracting   [>                                                      ] (--:--) \n",
      "Downloading  [>                                        ] (00m:00s)  683.79 KB/s\n",
      "Extracting   [>                                                      ] (--:--) \n",
      "Downloading  [>                                        ] (00m:00s)  683.79 KB/s\n",
      "Extracting   [>                                                      ] (--:--) \n",
      "Downloading  [>                                        ] (00m:00s)  683.79 KB/s\n",
      "Extracting   [======>                                  ] (00m:00s)        1 / 6\n",
      "Downloading  [===================================>     ] (00m:00s)   41.77 MB/s\n",
      "Extracting   [======>                                  ] (00m:00s)        1 / 6\n",
      "Downloading  [=====================================>   ] (00m:00s)   42.22 MB/s\n",
      "Extracting   [======>                                  ] (00m:00s)        1 / 6\n",
      "\u001b[2A\u001b[0KFinished ca-certificates                      (00m:00s)             115 KB      2 MB/s\n",
      "Downloading  [=====================================>   ] (00m:00s)   42.22 MB/s\n",
      "Extracting   [======>                                  ] (00m:00s)        1 / 6\n",
      "Downloading  [=====================================>   ] (00m:00s)   42.22 MB/s\n",
      "Extracting   [======>                                  ] (00m:00s)        1 / 6\n",
      "Downloading  [=====================================>   ] (00m:00s)   42.22 MB/s\n",
      "Extracting   [======>                                  ] (00m:00s)        1 / 6\n",
      "Downloading  [=====================================>   ] (00m:00s)   42.38 MB/s\n",
      "Extracting   [======>                                  ] (00m:00s)        1 / 6\n",
      "Downloading  [=======================================> ] (00m:00s)   44.02 MB/s\n",
      "Extracting   [======>                                  ] (00m:00s)        1 / 6\n",
      "\u001b[2A\u001b[0KFinished bs4                                  (00m:00s)              10 KB    159 KB/s\n",
      "Downloading  [=======================================> ] (00m:00s)   44.02 MB/s\n",
      "Extracting   [======>                                  ] (00m:00s)        1 / 6\n",
      "Downloading  [=======================================> ] (00m:00s)   44.02 MB/s\n",
      "Extracting   [======>                                  ] (00m:00s)        1 / 6\n",
      "\u001b[2A\u001b[0KFinished certifi                              (00m:00s)             151 KB      2 MB/s\n",
      "Downloading  [=======================================> ] (00m:00s)   44.02 MB/s\n",
      "Extracting   [======>                                  ] (00m:00s)        1 / 6\n",
      "Downloading  [=======================================> ] (00m:00s)   44.02 MB/s\n",
      "Extracting   [======>                                  ] (00m:00s)        1 / 6\n",
      "Downloading  [=======================================> ] (00m:00s)   44.02 MB/s\n",
      "Extracting   [=============>                           ] (00m:00s)        2 / 6\n",
      "Downloading  [=======================================> ] (00m:00s)   44.02 MB/s\n",
      "Extracting   [=============>                           ] (00m:00s)        2 / 6\n",
      "Downloading  [=======================================> ] (00m:00s)   44.02 MB/s\n",
      "Extracting   [====================>                    ] (00m:00s)        3 / 6\n",
      "Downloading  [=======================================> ] (00m:00s)   44.02 MB/s\n",
      "Extracting   [====================>                    ] (00m:00s)        3 / 6\n",
      "\u001b[2A\u001b[0KFinished openssl                              (00m:00s)               3 MB     41 MB/s\n",
      "Downloading  [=======================================> ] (00m:00s)   44.02 MB/s\n",
      "Extracting   [====================>                    ] (00m:00s)        3 / 6\n",
      "Downloading  [=======================================> ] (00m:00s)   44.02 MB/s\n",
      "Extracting   [====================>                    ] (00m:00s)        3 / 6\n",
      "Downloading  [=======================================> ] (00m:00s)   44.02 MB/s\n",
      "Extracting   [===========================>             ] (00m:00s)        4 / 6\n",
      "Downloading  [=======================================> ] (00m:00s)   44.02 MB/s\n",
      "Extracting   [===========================>             ] (00m:00s)        4 / 6\n",
      "Downloading  [=========================================] (00m:00s)   37.66 MB/s\n",
      "Extracting   [===========================>             ] (00m:00s)        4 / 6\n",
      "\u001b[2A\u001b[0KFinished beautifulsoup4                       (00m:00s)              85 KB      1 MB/s\n",
      "Downloading  [=========================================] (00m:00s)   37.66 MB/s\n",
      "Extracting   [===========================>             ] (00m:00s)        4 / 6\n",
      "Downloading  [=========================================] (00m:00s)   37.66 MB/s\n",
      "Extracting   [===========================>             ] (00m:00s)        4 / 6\n",
      "Downloading  [=========================================] (00m:00s)   37.66 MB/s\n",
      "Extracting   [==================================>      ] (00m:00s)        5 / 6\n",
      "Downloading  [=========================================] (00m:00s)   37.66 MB/s\n",
      "Extracting   [==================================>      ] (00m:00s)        5 / 6\n",
      "Downloading  [=========================================] (00m:00s)   37.66 MB/s\n",
      "Extracting   [=========================================] (00m:00s)        6 / 6\n",
      "Preparing transaction: done\n",
      "Verifying transaction: done\n",
      "Executing transaction: done\n",
      "Requirement already satisfied: lxml==4.6.4 in /home/jupyterlab/conda/envs/python/lib/python3.7/site-packages (4.6.4)\n",
      "\n",
      "                  __    __    __    __\n",
      "                 /  \\  /  \\  /  \\  /  \\\n",
      "                /    \\/    \\/    \\/    \\\n",
      "███████████████/  /██/  /██/  /██/  /████████████████████████\n",
      "              /  / \\   / \\   / \\   / \\  \\____\n",
      "             /  /   \\_/   \\_/   \\_/   \\    o \\__,\n",
      "            / _/                       \\_____/  `\n",
      "            |/\n",
      "        ███╗   ███╗ █████╗ ███╗   ███╗██████╗  █████╗\n",
      "        ████╗ ████║██╔══██╗████╗ ████║██╔══██╗██╔══██╗\n",
      "        ██╔████╔██║███████║██╔████╔██║██████╔╝███████║\n",
      "        ██║╚██╔╝██║██╔══██║██║╚██╔╝██║██╔══██╗██╔══██║\n",
      "        ██║ ╚═╝ ██║██║  ██║██║ ╚═╝ ██║██████╔╝██║  ██║\n",
      "        ╚═╝     ╚═╝╚═╝  ╚═╝╚═╝     ╚═╝╚═════╝ ╚═╝  ╚═╝\n",
      "\n",
      "        mamba (0.15.3) supported by @QuantStack\n",
      "\n",
      "        GitHub:  https://github.com/mamba-org/mamba\n",
      "        Twitter: https://twitter.com/QuantStack\n",
      "\n",
      "█████████████████████████████████████████████████████████████\n",
      "\n",
      "\n",
      "Looking for: ['html5lib==1.1']\n",
      "\n",
      "pkgs/main/linux-64       Using cache\n",
      "pkgs/main/noarch         Using cache\n",
      "pkgs/r/linux-64          Using cache\n",
      "pkgs/r/noarch            Using cache\n",
      "\n",
      "Pinned packages:\n",
      "  - python 3.7.*\n",
      "\n",
      "\n",
      "Transaction\n",
      "\n",
      "  Prefix: /home/jupyterlab/conda/envs/python\n",
      "\n",
      "  Updating specs:\n",
      "\n",
      "   - html5lib==1.1\n",
      "   - ca-certificates\n",
      "   - certifi\n",
      "   - openssl\n",
      "\n",
      "\n",
      "  Package         Version  Build         Channel                 Size\n",
      "───────────────────────────────────────────────────────────────────────\n",
      "  Install:\n",
      "───────────────────────────────────────────────────────────────────────\n",
      "\n",
      "\u001b[32m  + html5lib    \u001b[00m      1.1  pyhd3eb1b0_0  pkgs/main/noarch       91 KB\n",
      "\u001b[32m  + webencodings\u001b[00m    0.5.1  py37_1        pkgs/main/linux-64     19 KB\n",
      "\n",
      "  Summary:\n",
      "\n",
      "  Install: 2 packages\n",
      "\n",
      "  Total download: 110 KB\n",
      "\n",
      "───────────────────────────────────────────────────────────────────────\n",
      "\n",
      "Downloading  [======>                                  ] (00m:00s)  145.76 KB/s\n",
      "Extracting   [>                                                      ] (--:--) \n",
      "\u001b[2A\u001b[0KFinished webencodings                         (00m:00s)              19 KB    146 KB/s\n",
      "Downloading  [======>                                  ] (00m:00s)  145.76 KB/s\n",
      "Extracting   [>                                                      ] (--:--) \n",
      "Downloading  [======>                                  ] (00m:00s)  145.76 KB/s\n",
      "Extracting   [>                                                      ] (--:--) \n",
      "Downloading  [======>                                  ] (00m:00s)  145.76 KB/s\n",
      "Extracting   [>                                                      ] (--:--) \n",
      "Downloading  [======>                                  ] (00m:00s)  145.76 KB/s\n",
      "Extracting   [====================>                    ] (00m:00s)        1 / 2\n",
      "Downloading  [======>                                  ] (00m:00s)  117.56 KB/s\n",
      "Extracting   [====================>                    ] (00m:00s)        1 / 2\n",
      "Downloading  [======>                                  ] (00m:00s)  117.56 KB/s\n",
      "Extracting   [====================>                    ] (00m:00s)        1 / 2\n",
      "Downloading  [=========================================] (00m:00s)  658.19 KB/s\n",
      "Extracting   [====================>                    ] (00m:00s)        1 / 2\n",
      "\u001b[2A\u001b[0KFinished html5lib                             (00m:00s)              91 KB    543 KB/s\n",
      "Downloading  [=========================================] (00m:00s)  658.19 KB/s\n",
      "Extracting   [====================>                    ] (00m:00s)        1 / 2\n",
      "Downloading  [=========================================] (00m:00s)  658.19 KB/s\n",
      "Extracting   [====================>                    ] (00m:00s)        1 / 2\n",
      "Downloading  [=========================================] (00m:00s)  658.19 KB/s\n",
      "Extracting   [====================>                    ] (00m:00s)        1 / 2\n",
      "Downloading  [=========================================] (00m:00s)  658.19 KB/s\n",
      "Extracting   [=========================================] (00m:00s)        2 / 2\n",
      "Preparing transaction: done\n",
      "Verifying transaction: done\n",
      "Executing transaction: done\n"
     ]
    }
   ],
   "source": [
    "!mamba install bs4==4.10.0 -y\n",
    "!pip install lxml==4.6.4\n",
    "!mamba install html5lib==1.1 -y\n",
    "# !pip install requests==2.26.0"
   ]
  },
  {
   "cell_type": "markdown",
   "metadata": {},
   "source": [
    "Import the required modules and functions\n"
   ]
  },
  {
   "cell_type": "code",
   "execution_count": 4,
   "metadata": {},
   "outputs": [],
   "source": [
    "from bs4 import BeautifulSoup # this module helps in web scrapping.\n",
    "import requests  # this module helps us to download a web page"
   ]
  },
  {
   "cell_type": "markdown",
   "metadata": {},
   "source": [
    "<h2 id=\"BSO\">Beautiful Soup Objects</h2>\n"
   ]
  },
  {
   "cell_type": "markdown",
   "metadata": {},
   "source": [
    "Beautiful Soup is a Python library for pulling data out of HTML and XML files, we will focus on HTML files. This is accomplished by representing the HTML as a set of objects with methods used to parse the HTML.  We can navigate the HTML as a tree and/or filter out what we are looking for.\n",
    "\n",
    "Consider the following HTML:\n"
   ]
  },
  {
   "cell_type": "code",
   "execution_count": 5,
   "metadata": {},
   "outputs": [
    {
     "data": {
      "text/html": [
       "<!DOCTYPE html>\n",
       "<html>\n",
       "<head>\n",
       "<title>Page Title</title>\n",
       "</head>\n",
       "<body>\n",
       "<h3><b id='boldest'>Lebron James</b></h3>\n",
       "<p> Salary: $ 92,000,000 </p>\n",
       "<h3> Stephen Curry</h3>\n",
       "<p> Salary: $85,000, 000 </p>\n",
       "<h3> Kevin Durant </h3>\n",
       "<p> Salary: $73,200, 000</p>\n",
       "</body>\n",
       "</html>\n"
      ],
      "text/plain": [
       "<IPython.core.display.HTML object>"
      ]
     },
     "metadata": {},
     "output_type": "display_data"
    }
   ],
   "source": [
    "%%html\n",
    "<!DOCTYPE html>\n",
    "<html>\n",
    "<head>\n",
    "<title>Page Title</title>\n",
    "</head>\n",
    "<body>\n",
    "<h3><b id='boldest'>Lebron James</b></h3>\n",
    "<p> Salary: $ 92,000,000 </p>\n",
    "<h3> Stephen Curry</h3>\n",
    "<p> Salary: $85,000, 000 </p>\n",
    "<h3> Kevin Durant </h3>\n",
    "<p> Salary: $73,200, 000</p>\n",
    "</body>\n",
    "</html>"
   ]
  },
  {
   "cell_type": "markdown",
   "metadata": {},
   "source": [
    "We can store it as a string in the variable HTML:\n"
   ]
  },
  {
   "cell_type": "code",
   "execution_count": 9,
   "metadata": {},
   "outputs": [],
   "source": [
    "html=\"<!DOCTYPE html><html><head><title>Page Title</title></head><body><h3><b id='boldest'>Lebron James</b></h3><p> Salary: $ 92,000,000 </p><h3> Stephen Curry</h3><p> Salary: $85,000, 000 </p><h3> Kevin Durant </h3><p> Salary: $73,200, 000</p></body></html>\""
   ]
  },
  {
   "cell_type": "markdown",
   "metadata": {},
   "source": [
    "To parse a document, pass it into the <code>BeautifulSoup</code> constructor, the <code>BeautifulSoup</code> object, which represents the document as a nested data structure:\n"
   ]
  },
  {
   "cell_type": "code",
   "execution_count": 10,
   "metadata": {},
   "outputs": [
    {
     "data": {
      "text/plain": [
       "bs4.BeautifulSoup"
      ]
     },
     "execution_count": 10,
     "metadata": {},
     "output_type": "execute_result"
    }
   ],
   "source": [
    "soup = BeautifulSoup(html, \"html.parser\")\n",
    "soup\n",
    "type(soup)"
   ]
  },
  {
   "cell_type": "markdown",
   "metadata": {},
   "source": [
    "First, the document is converted to Unicode, (similar to ASCII),  and HTML entities are converted to Unicode characters. Beautiful Soup transforms a complex HTML document into a complex tree of Python objects. The <code>BeautifulSoup</code> object can create other types of objects. In this lab, we will cover <code>BeautifulSoup</code> and <code>Tag</code> objects that for the purposes of this lab are identical, and <code>NavigableString</code> objects.\n"
   ]
  },
  {
   "cell_type": "markdown",
   "metadata": {},
   "source": [
    "We can use the method <code>prettify()</code> to display the HTML in the nested structure:\n"
   ]
  },
  {
   "cell_type": "code",
   "execution_count": 11,
   "metadata": {},
   "outputs": [
    {
     "name": "stdout",
     "output_type": "stream",
     "text": [
      "<!DOCTYPE html>\n",
      "<html>\n",
      " <head>\n",
      "  <title>\n",
      "   Page Title\n",
      "  </title>\n",
      " </head>\n",
      " <body>\n",
      "  <h3>\n",
      "   <b id=\"boldest\">\n",
      "    Lebron James\n",
      "   </b>\n",
      "  </h3>\n",
      "  <p>\n",
      "   Salary: $ 92,000,000\n",
      "  </p>\n",
      "  <h3>\n",
      "   Stephen Curry\n",
      "  </h3>\n",
      "  <p>\n",
      "   Salary: $85,000, 000\n",
      "  </p>\n",
      "  <h3>\n",
      "   Kevin Durant\n",
      "  </h3>\n",
      "  <p>\n",
      "   Salary: $73,200, 000\n",
      "  </p>\n",
      " </body>\n",
      "</html>\n"
     ]
    }
   ],
   "source": [
    "print(soup.prettify())"
   ]
  },
  {
   "cell_type": "markdown",
   "metadata": {},
   "source": [
    "## Tags\n"
   ]
  },
  {
   "cell_type": "markdown",
   "metadata": {},
   "source": [
    "Let's say we want the  title of the page and the name of the top paid player we can use the <code>Tag</code>. The <code>Tag</code> object corresponds to an HTML tag in the original document, for example, the tag title.\n"
   ]
  },
  {
   "cell_type": "code",
   "execution_count": 13,
   "metadata": {},
   "outputs": [
    {
     "name": "stdout",
     "output_type": "stream",
     "text": [
      "tag object: <title>Page Title</title>\n"
     ]
    }
   ],
   "source": [
    "tag_object=soup.title\n",
    "print(\"tag object:\",tag_object)"
   ]
  },
  {
   "cell_type": "markdown",
   "metadata": {},
   "source": [
    "we can see the tag type <code>bs4.element.Tag</code>\n"
   ]
  },
  {
   "cell_type": "code",
   "execution_count": 14,
   "metadata": {},
   "outputs": [
    {
     "name": "stdout",
     "output_type": "stream",
     "text": [
      "tag object type: <class 'bs4.element.Tag'>\n"
     ]
    }
   ],
   "source": [
    "print(\"tag object type:\",type(tag_object))"
   ]
  },
  {
   "cell_type": "markdown",
   "metadata": {},
   "source": [
    "If there is more than one <code>Tag</code>  with the same name, the first element with that <code>Tag</code> name is called, this corresponds to the most paid player:\n"
   ]
  },
  {
   "cell_type": "code",
   "execution_count": 16,
   "metadata": {},
   "outputs": [
    {
     "data": {
      "text/plain": [
       "<h3><b id=\"boldest\">Lebron James</b></h3>"
      ]
     },
     "execution_count": 16,
     "metadata": {},
     "output_type": "execute_result"
    }
   ],
   "source": [
    "tag_object=soup.h3\n",
    "tag_object\n",
    "#type(tag_object)"
   ]
  },
  {
   "cell_type": "markdown",
   "metadata": {},
   "source": [
    "Enclosed in the bold attribute <code>b</code>, it helps to use the tree representation. We can navigate down the tree using the child attribute to get the name.\n"
   ]
  },
  {
   "cell_type": "markdown",
   "metadata": {},
   "source": [
    "### Children, Parents, and Siblings\n"
   ]
  },
  {
   "cell_type": "markdown",
   "metadata": {},
   "source": [
    "As stated above the <code>Tag</code> object is a tree of objects we can access the child of the tag or navigate down the branch as follows:\n"
   ]
  },
  {
   "cell_type": "code",
   "execution_count": 34,
   "metadata": {},
   "outputs": [
    {
     "data": {
      "text/plain": [
       "<b id=\"boldest\">Lebron James</b>"
      ]
     },
     "execution_count": 34,
     "metadata": {},
     "output_type": "execute_result"
    }
   ],
   "source": [
    "tag_child =tag_object.b\n",
    "tag_child"
   ]
  },
  {
   "cell_type": "markdown",
   "metadata": {},
   "source": [
    "You can access the parent with the <code> parent</code>\n"
   ]
  },
  {
   "cell_type": "code",
   "execution_count": 11,
   "metadata": {},
   "outputs": [
    {
     "data": {
      "text/plain": [
       "<h3><b id=\"boldest\">Lebron James</b></h3>"
      ]
     },
     "execution_count": 11,
     "metadata": {},
     "output_type": "execute_result"
    }
   ],
   "source": [
    "parent_tag=tag_child.parent\n",
    "parent_tag"
   ]
  },
  {
   "cell_type": "markdown",
   "metadata": {},
   "source": [
    "this is identical to\n"
   ]
  },
  {
   "cell_type": "code",
   "execution_count": 26,
   "metadata": {},
   "outputs": [
    {
     "data": {
      "text/plain": [
       "<h3><b id=\"boldest\">Lebron James</b></h3>"
      ]
     },
     "execution_count": 26,
     "metadata": {},
     "output_type": "execute_result"
    }
   ],
   "source": [
    "tag_object"
   ]
  },
  {
   "cell_type": "markdown",
   "metadata": {},
   "source": [
    "<code>tag_object</code> parent is the <code>body</code> element.\n"
   ]
  },
  {
   "cell_type": "code",
   "execution_count": 18,
   "metadata": {},
   "outputs": [
    {
     "data": {
      "text/plain": [
       "<body><h3><b id=\"boldest\">Lebron James</b></h3><p> Salary: $ 92,000,000 </p><h3> Stephen Curry</h3><p> Salary: $85,000, 000 </p><h3> Kevin Durant </h3><p> Salary: $73,200, 000</p></body>"
      ]
     },
     "execution_count": 18,
     "metadata": {},
     "output_type": "execute_result"
    }
   ],
   "source": [
    "tag_object.parent"
   ]
  },
  {
   "cell_type": "markdown",
   "metadata": {},
   "source": [
    "<code>tag_object</code> sibling is the <code>paragraph</code> element\n"
   ]
  },
  {
   "cell_type": "code",
   "execution_count": 19,
   "metadata": {},
   "outputs": [
    {
     "data": {
      "text/plain": [
       "<p> Salary: $ 92,000,000 </p>"
      ]
     },
     "execution_count": 19,
     "metadata": {},
     "output_type": "execute_result"
    }
   ],
   "source": [
    "sibling_1=tag_object.next_sibling\n",
    "sibling_1"
   ]
  },
  {
   "cell_type": "markdown",
   "metadata": {},
   "source": [
    "`sibling_2` is the `header` element which is also a sibling of both `sibling_1` and `tag_object`\n"
   ]
  },
  {
   "cell_type": "code",
   "execution_count": 27,
   "metadata": {},
   "outputs": [
    {
     "data": {
      "text/plain": [
       "<h3> Stephen Curry</h3>"
      ]
     },
     "execution_count": 27,
     "metadata": {},
     "output_type": "execute_result"
    }
   ],
   "source": [
    "sibling_2=sibling_1.next_sibling\n",
    "sibling_2"
   ]
  },
  {
   "cell_type": "markdown",
   "metadata": {},
   "source": [
    "<h3 id=\"first_question\">Exercise: <code>next_sibling</code></h3>\n"
   ]
  },
  {
   "cell_type": "markdown",
   "metadata": {},
   "source": [
    "Using the object <code>sibling\\_2</code> and the property <code>next_sibling</code> to find the salary of Stephen Curry:\n"
   ]
  },
  {
   "cell_type": "code",
   "execution_count": 21,
   "metadata": {},
   "outputs": [
    {
     "data": {
      "text/plain": [
       "<p> Salary: $85,000, 000 </p>"
      ]
     },
     "execution_count": 21,
     "metadata": {},
     "output_type": "execute_result"
    }
   ],
   "source": [
    "sibling_3 = sibling_2.next_sibling\n",
    "sibling_3"
   ]
  },
  {
   "cell_type": "markdown",
   "metadata": {},
   "source": [
    "<details><summary>Click here for the solution</summary>\n",
    "\n",
    "```\n",
    "sibling_2.next_sibling\n",
    "\n",
    "```\n",
    "\n",
    "</details>\n"
   ]
  },
  {
   "cell_type": "markdown",
   "metadata": {},
   "source": [
    "### HTML Attributes\n"
   ]
  },
  {
   "cell_type": "markdown",
   "metadata": {},
   "source": [
    "If the tag has attributes, the tag <code>id=\"boldest\"</code> has an attribute <code>id</code> whose value is <code>boldest</code>. You can access a tag’s attributes by treating the tag like a dictionary:\n"
   ]
  },
  {
   "cell_type": "code",
   "execution_count": 22,
   "metadata": {},
   "outputs": [
    {
     "data": {
      "text/plain": [
       "'boldest'"
      ]
     },
     "execution_count": 22,
     "metadata": {},
     "output_type": "execute_result"
    }
   ],
   "source": [
    "tag_child['id']"
   ]
  },
  {
   "cell_type": "markdown",
   "metadata": {},
   "source": [
    "You can access that dictionary directly as <code>attrs</code>:\n"
   ]
  },
  {
   "cell_type": "code",
   "execution_count": 23,
   "metadata": {},
   "outputs": [
    {
     "data": {
      "text/plain": [
       "{'id': 'boldest'}"
      ]
     },
     "execution_count": 23,
     "metadata": {},
     "output_type": "execute_result"
    }
   ],
   "source": [
    "tag_child.attrs"
   ]
  },
  {
   "cell_type": "markdown",
   "metadata": {},
   "source": [
    "You can also work with Multi-valued attribute check out <a href=\"https://www.crummy.com/software/BeautifulSoup/bs4/doc/?utm_medium=Exinfluencer&utm_source=Exinfluencer&utm_content=000026UJ&utm_term=10006555&utm_id=NA-SkillsNetwork-Channel-SkillsNetworkCoursesIBMDeveloperSkillsNetworkPY0220ENSkillsNetwork23455606-2021-01-01\">\\[1]</a> for more.\n"
   ]
  },
  {
   "cell_type": "markdown",
   "metadata": {},
   "source": [
    "We can also obtain the content if the attribute of the <code>tag</code> using the Python <code>get()</code> method.\n"
   ]
  },
  {
   "cell_type": "code",
   "execution_count": 36,
   "metadata": {},
   "outputs": [
    {
     "data": {
      "text/plain": [
       "<b id=\"boldest\">Lebron James</b>"
      ]
     },
     "execution_count": 36,
     "metadata": {},
     "output_type": "execute_result"
    }
   ],
   "source": [
    "tag_child.get('id')\n",
    "tag_child"
   ]
  },
  {
   "cell_type": "markdown",
   "metadata": {},
   "source": [
    "### Navigable String\n"
   ]
  },
  {
   "cell_type": "markdown",
   "metadata": {},
   "source": [
    "A string corresponds to a bit of text or content within a tag. Beautiful Soup uses the <code>NavigableString</code> class to contain this text. In our HTML we can obtain the name of the first player by extracting the sting of the <code>Tag</code> object <code>tag_child</code> as follows:\n"
   ]
  },
  {
   "cell_type": "code",
   "execution_count": 35,
   "metadata": {},
   "outputs": [
    {
     "data": {
      "text/plain": [
       "'Lebron James'"
      ]
     },
     "execution_count": 35,
     "metadata": {},
     "output_type": "execute_result"
    }
   ],
   "source": [
    "tag_string=tag_child.string\n",
    "tag_string"
   ]
  },
  {
   "cell_type": "markdown",
   "metadata": {},
   "source": [
    "we can verify the type is Navigable String\n"
   ]
  },
  {
   "cell_type": "code",
   "execution_count": 37,
   "metadata": {},
   "outputs": [
    {
     "data": {
      "text/plain": [
       "bs4.element.NavigableString"
      ]
     },
     "execution_count": 37,
     "metadata": {},
     "output_type": "execute_result"
    }
   ],
   "source": [
    "type(tag_string)"
   ]
  },
  {
   "cell_type": "markdown",
   "metadata": {},
   "source": [
    "A NavigableString is just like a Python string or Unicode string, to be more precise. The main difference is that it also supports some  <code>BeautifulSoup</code> features. We can covert it to sting object in Python:\n"
   ]
  },
  {
   "cell_type": "code",
   "execution_count": 39,
   "metadata": {},
   "outputs": [
    {
     "data": {
      "text/plain": [
       "str"
      ]
     },
     "execution_count": 39,
     "metadata": {},
     "output_type": "execute_result"
    }
   ],
   "source": [
    "unicode_string = str(tag_string)\n",
    "unicode_string\n",
    "#type(unicode_string)"
   ]
  },
  {
   "cell_type": "markdown",
   "metadata": {},
   "source": [
    "<h2 id=\"filter\">Filter</h2>\n"
   ]
  },
  {
   "cell_type": "markdown",
   "metadata": {},
   "source": [
    "Filters allow you to find complex patterns, the simplest filter is a string. In this section we will pass a string to a different filter method and Beautiful Soup will perform a match against that exact string.  Consider the following HTML of rocket launchs:\n"
   ]
  },
  {
   "cell_type": "code",
   "execution_count": 40,
   "metadata": {},
   "outputs": [
    {
     "data": {
      "text/html": [
       "<table>\n",
       "  <tr>\n",
       "    <td id='flight' >Flight No</td>\n",
       "    <td>Launch site</td> \n",
       "    <td>Payload mass</td>\n",
       "   </tr>\n",
       "  <tr> \n",
       "    <td>1</td>\n",
       "    <td><a href='https://en.wikipedia.org/wiki/Florida'>Florida</a></td>\n",
       "    <td>300 kg</td>\n",
       "  </tr>\n",
       "  <tr>\n",
       "    <td>2</td>\n",
       "    <td><a href='https://en.wikipedia.org/wiki/Texas'>Texas</a></td>\n",
       "    <td>94 kg</td>\n",
       "  </tr>\n",
       "  <tr>\n",
       "    <td>3</td>\n",
       "    <td><a href='https://en.wikipedia.org/wiki/Florida'>Florida<a> </td>\n",
       "    <td>80 kg</td>\n",
       "  </tr>\n",
       "</table>\n"
      ],
      "text/plain": [
       "<IPython.core.display.HTML object>"
      ]
     },
     "metadata": {},
     "output_type": "display_data"
    }
   ],
   "source": [
    "%%html\n",
    "<table>\n",
    "  <tr>\n",
    "    <td id='flight' >Flight No</td>\n",
    "    <td>Launch site</td> \n",
    "    <td>Payload mass</td>\n",
    "   </tr>\n",
    "  <tr> \n",
    "    <td>1</td>\n",
    "    <td><a href='https://en.wikipedia.org/wiki/Florida'>Florida</a></td>\n",
    "    <td>300 kg</td>\n",
    "  </tr>\n",
    "  <tr>\n",
    "    <td>2</td>\n",
    "    <td><a href='https://en.wikipedia.org/wiki/Texas'>Texas</a></td>\n",
    "    <td>94 kg</td>\n",
    "  </tr>\n",
    "  <tr>\n",
    "    <td>3</td>\n",
    "    <td><a href='https://en.wikipedia.org/wiki/Florida'>Florida<a> </td>\n",
    "    <td>80 kg</td>\n",
    "  </tr>\n",
    "</table>"
   ]
  },
  {
   "cell_type": "markdown",
   "metadata": {},
   "source": [
    "We can store it as a string in the variable <code>table</code>:\n"
   ]
  },
  {
   "cell_type": "code",
   "execution_count": 41,
   "metadata": {},
   "outputs": [],
   "source": [
    "table=\"<table><tr><td id='flight'>Flight No</td><td>Launch site</td> <td>Payload mass</td></tr><tr> <td>1</td><td><a href='https://en.wikipedia.org/wiki/Florida'>Florida<a></td><td>300 kg</td></tr><tr><td>2</td><td><a href='https://en.wikipedia.org/wiki/Texas'>Texas</a></td><td>94 kg</td></tr><tr><td>3</td><td><a href='https://en.wikipedia.org/wiki/Florida'>Florida<a> </td><td>80 kg</td></tr></table>\""
   ]
  },
  {
   "cell_type": "code",
   "execution_count": 47,
   "metadata": {},
   "outputs": [
    {
     "data": {
      "text/plain": [
       "<table><tr><td id=\"flight\">Flight No</td><td>Launch site</td> <td>Payload mass</td></tr><tr> <td>1</td><td><a href=\"https://en.wikipedia.org/wiki/Florida\">Florida<a></a></a></td><td>300 kg</td></tr><tr><td>2</td><td><a href=\"https://en.wikipedia.org/wiki/Texas\">Texas</a></td><td>94 kg</td></tr><tr><td>3</td><td><a href=\"https://en.wikipedia.org/wiki/Florida\">Florida<a> </a></a></td><td>80 kg</td></tr></table>"
      ]
     },
     "execution_count": 47,
     "metadata": {},
     "output_type": "execute_result"
    }
   ],
   "source": [
    "table_bs = BeautifulSoup(table, \"html.parser\")\n",
    "table_bs\n",
    "#type(table_bs)"
   ]
  },
  {
   "cell_type": "markdown",
   "metadata": {},
   "source": [
    "## find All\n"
   ]
  },
  {
   "cell_type": "markdown",
   "metadata": {},
   "source": [
    "The <code>find_all()</code> method looks through a tag’s descendants and retrieves all descendants that match your filters.\n",
    "\n",
    "<p>\n",
    "The Method signature for <code>find_all(name, attrs, recursive, string, limit, **kwargs)<c/ode>\n",
    "</p>\n"
   ]
  },
  {
   "cell_type": "markdown",
   "metadata": {},
   "source": [
    "### Name\n"
   ]
  },
  {
   "cell_type": "markdown",
   "metadata": {},
   "source": [
    "When we set the <code>name</code> parameter to a tag name, the method will extract all the tags with that name and its children.\n"
   ]
  },
  {
   "cell_type": "code",
   "execution_count": 52,
   "metadata": {},
   "outputs": [
    {
     "data": {
      "text/plain": [
       "bs4.element.ResultSet"
      ]
     },
     "execution_count": 52,
     "metadata": {},
     "output_type": "execute_result"
    }
   ],
   "source": [
    "table_rows=table_bs.find_all('tr')\n",
    "type(table_rows)"
   ]
  },
  {
   "cell_type": "markdown",
   "metadata": {},
   "source": [
    "The result is a Python Iterable just like a list, each element is a <code>tag</code> object:\n"
   ]
  },
  {
   "cell_type": "code",
   "execution_count": 55,
   "metadata": {},
   "outputs": [
    {
     "data": {
      "text/plain": [
       "<tr><td id=\"flight\">Flight No</td><td>Launch site</td> <td>Payload mass</td></tr>"
      ]
     },
     "execution_count": 55,
     "metadata": {},
     "output_type": "execute_result"
    }
   ],
   "source": [
    "first_row = table_rows[0]\n",
    "first_row"
   ]
  },
  {
   "cell_type": "markdown",
   "metadata": {},
   "source": [
    "The type is <code>tag</code>\n"
   ]
  },
  {
   "cell_type": "code",
   "execution_count": 56,
   "metadata": {},
   "outputs": [
    {
     "name": "stdout",
     "output_type": "stream",
     "text": [
      "<class 'bs4.element.Tag'>\n"
     ]
    }
   ],
   "source": [
    "print(type(first_row))"
   ]
  },
  {
   "cell_type": "markdown",
   "metadata": {},
   "source": [
    "we can obtain the child\n"
   ]
  },
  {
   "cell_type": "code",
   "execution_count": 57,
   "metadata": {},
   "outputs": [
    {
     "data": {
      "text/plain": [
       "<td id=\"flight\">Flight No</td>"
      ]
     },
     "execution_count": 57,
     "metadata": {},
     "output_type": "execute_result"
    }
   ],
   "source": [
    "first_row.td"
   ]
  },
  {
   "cell_type": "markdown",
   "metadata": {},
   "source": [
    "If we iterate through the list, each element corresponds to a row in the table:\n"
   ]
  },
  {
   "cell_type": "code",
   "execution_count": 58,
   "metadata": {},
   "outputs": [
    {
     "name": "stdout",
     "output_type": "stream",
     "text": [
      "row 0 is <tr><td id=\"flight\">Flight No</td><td>Launch site</td> <td>Payload mass</td></tr>\n",
      "row 1 is <tr> <td>1</td><td><a href=\"https://en.wikipedia.org/wiki/Florida\">Florida<a></a></a></td><td>300 kg</td></tr>\n",
      "row 2 is <tr><td>2</td><td><a href=\"https://en.wikipedia.org/wiki/Texas\">Texas</a></td><td>94 kg</td></tr>\n",
      "row 3 is <tr><td>3</td><td><a href=\"https://en.wikipedia.org/wiki/Florida\">Florida<a> </a></a></td><td>80 kg</td></tr>\n"
     ]
    }
   ],
   "source": [
    "for i,row in enumerate(table_rows):\n",
    "    print(\"row\",i,\"is\",row)\n",
    "    "
   ]
  },
  {
   "cell_type": "markdown",
   "metadata": {},
   "source": [
    "As <code>row</code> is a <code>cell</code> object, we can apply the method <code>find_all</code> to it and extract table cells in the object <code>cells</code> using the tag <code>td</code>, this is all the children with the name <code>td</code>. The result is a list, each element corresponds to a cell and is a <code>Tag</code> object, we can iterate through this list as well. We can extract the content using the <code>string</code>  attribute.\n"
   ]
  },
  {
   "cell_type": "code",
   "execution_count": 59,
   "metadata": {},
   "outputs": [
    {
     "name": "stdout",
     "output_type": "stream",
     "text": [
      "row 0\n",
      "colunm 0 cell <td id=\"flight\">Flight No</td>\n",
      "colunm 1 cell <td>Launch site</td>\n",
      "colunm 2 cell <td>Payload mass</td>\n",
      "row 1\n",
      "colunm 0 cell <td>1</td>\n",
      "colunm 1 cell <td><a href=\"https://en.wikipedia.org/wiki/Florida\">Florida<a></a></a></td>\n",
      "colunm 2 cell <td>300 kg</td>\n",
      "row 2\n",
      "colunm 0 cell <td>2</td>\n",
      "colunm 1 cell <td><a href=\"https://en.wikipedia.org/wiki/Texas\">Texas</a></td>\n",
      "colunm 2 cell <td>94 kg</td>\n",
      "row 3\n",
      "colunm 0 cell <td>3</td>\n",
      "colunm 1 cell <td><a href=\"https://en.wikipedia.org/wiki/Florida\">Florida<a> </a></a></td>\n",
      "colunm 2 cell <td>80 kg</td>\n"
     ]
    }
   ],
   "source": [
    "for i,row in enumerate(table_rows):\n",
    "    print(\"row\",i)\n",
    "    cells=row.find_all('td')\n",
    "    for j,cell in enumerate(cells):\n",
    "        print('colunm',j,\"cell\",cell)"
   ]
  },
  {
   "cell_type": "markdown",
   "metadata": {},
   "source": [
    "If we use a list we can match against any item in that list.\n"
   ]
  },
  {
   "cell_type": "code",
   "execution_count": 64,
   "metadata": {},
   "outputs": [
    {
     "data": {
      "text/plain": [
       "[<tr><td id=\"flight\">Flight No</td><td>Launch site</td> <td>Payload mass</td></tr>,\n",
       " <td id=\"flight\">Flight No</td>,\n",
       " <td>Launch site</td>,\n",
       " <td>Payload mass</td>,\n",
       " <tr> <td>1</td><td><a href=\"https://en.wikipedia.org/wiki/Florida\">Florida<a></a></a></td><td>300 kg</td></tr>,\n",
       " <td>1</td>,\n",
       " <td><a href=\"https://en.wikipedia.org/wiki/Florida\">Florida<a></a></a></td>,\n",
       " <td>300 kg</td>,\n",
       " <tr><td>2</td><td><a href=\"https://en.wikipedia.org/wiki/Texas\">Texas</a></td><td>94 kg</td></tr>,\n",
       " <td>2</td>,\n",
       " <td><a href=\"https://en.wikipedia.org/wiki/Texas\">Texas</a></td>,\n",
       " <td>94 kg</td>,\n",
       " <tr><td>3</td><td><a href=\"https://en.wikipedia.org/wiki/Florida\">Florida<a> </a></a></td><td>80 kg</td></tr>,\n",
       " <td>3</td>,\n",
       " <td><a href=\"https://en.wikipedia.org/wiki/Florida\">Florida<a> </a></a></td>,\n",
       " <td>80 kg</td>]"
      ]
     },
     "execution_count": 64,
     "metadata": {},
     "output_type": "execute_result"
    }
   ],
   "source": [
    "list_input=table_bs .find_all(name=[\"tr\", \"td\"])\n",
    "list_input"
   ]
  },
  {
   "cell_type": "markdown",
   "metadata": {},
   "source": [
    "## Attributes\n"
   ]
  },
  {
   "cell_type": "markdown",
   "metadata": {},
   "source": [
    "If the argument is not recognized it will be turned into a filter on the tag’s attributes. For example the <code>id</code>  argument, Beautiful Soup will filter against each tag’s <code>id</code> attribute. For example, the first <code>td</code> elements have a value of <code>id</code> of <code>flight</code>, therefore we can filter based on that <code>id</code> value.\n"
   ]
  },
  {
   "cell_type": "code",
   "execution_count": 65,
   "metadata": {},
   "outputs": [
    {
     "data": {
      "text/plain": [
       "[<td id=\"flight\">Flight No</td>]"
      ]
     },
     "execution_count": 65,
     "metadata": {},
     "output_type": "execute_result"
    }
   ],
   "source": [
    "table_bs.find_all(id=\"flight\")"
   ]
  },
  {
   "cell_type": "markdown",
   "metadata": {},
   "source": [
    "We can find all the elements that have links to the Florida Wikipedia page:\n"
   ]
  },
  {
   "cell_type": "code",
   "execution_count": 66,
   "metadata": {},
   "outputs": [
    {
     "data": {
      "text/plain": [
       "[<a href=\"https://en.wikipedia.org/wiki/Florida\">Florida<a></a></a>,\n",
       " <a href=\"https://en.wikipedia.org/wiki/Florida\">Florida<a> </a></a>]"
      ]
     },
     "execution_count": 66,
     "metadata": {},
     "output_type": "execute_result"
    }
   ],
   "source": [
    "list_input=table_bs.find_all(href=\"https://en.wikipedia.org/wiki/Florida\")\n",
    "list_input"
   ]
  },
  {
   "cell_type": "markdown",
   "metadata": {},
   "source": [
    "If we set the  <code>href</code> attribute to True, regardless of what the value is, the code finds all tags with <code>href</code> value:\n"
   ]
  },
  {
   "cell_type": "code",
   "execution_count": 67,
   "metadata": {},
   "outputs": [
    {
     "data": {
      "text/plain": [
       "[<a href=\"https://en.wikipedia.org/wiki/Florida\">Florida<a></a></a>,\n",
       " <a href=\"https://en.wikipedia.org/wiki/Texas\">Texas</a>,\n",
       " <a href=\"https://en.wikipedia.org/wiki/Florida\">Florida<a> </a></a>]"
      ]
     },
     "execution_count": 67,
     "metadata": {},
     "output_type": "execute_result"
    }
   ],
   "source": [
    "table_bs.find_all(href=True)"
   ]
  },
  {
   "cell_type": "markdown",
   "metadata": {},
   "source": [
    "There are other methods for dealing with attributes and other related methods; Check out the following <a href='https://www.crummy.com/software/BeautifulSoup/bs4/doc/?utm_medium=Exinfluencer&utm_source=Exinfluencer&utm_content=000026UJ&utm_term=10006555&utm_id=NA-SkillsNetwork-Channel-SkillsNetworkCoursesIBMDeveloperSkillsNetworkPY0220ENSkillsNetwork23455606-2021-01-01#css-selectors'>link</a>\n"
   ]
  },
  {
   "cell_type": "markdown",
   "metadata": {},
   "source": [
    "<h3 id=\"exer_type\">Exercise: <code>find_all</code></h3>\n"
   ]
  },
  {
   "cell_type": "markdown",
   "metadata": {},
   "source": [
    "Using the logic above, find all the elements without <code>href</code> value\n"
   ]
  },
  {
   "cell_type": "code",
   "execution_count": 71,
   "metadata": {},
   "outputs": [
    {
     "data": {
      "text/plain": [
       "[<table><tr><td id=\"flight\">Flight No</td><td>Launch site</td> <td>Payload mass</td></tr><tr> <td>1</td><td><a href=\"https://en.wikipedia.org/wiki/Florida\">Florida<a></a></a></td><td>300 kg</td></tr><tr><td>2</td><td><a href=\"https://en.wikipedia.org/wiki/Texas\">Texas</a></td><td>94 kg</td></tr><tr><td>3</td><td><a href=\"https://en.wikipedia.org/wiki/Florida\">Florida<a> </a></a></td><td>80 kg</td></tr></table>,\n",
       " <tr><td id=\"flight\">Flight No</td><td>Launch site</td> <td>Payload mass</td></tr>,\n",
       " <td id=\"flight\">Flight No</td>,\n",
       " <td>Launch site</td>,\n",
       " <td>Payload mass</td>,\n",
       " <tr> <td>1</td><td><a href=\"https://en.wikipedia.org/wiki/Florida\">Florida<a></a></a></td><td>300 kg</td></tr>,\n",
       " <td>1</td>,\n",
       " <td><a href=\"https://en.wikipedia.org/wiki/Florida\">Florida<a></a></a></td>,\n",
       " <a></a>,\n",
       " <td>300 kg</td>,\n",
       " <tr><td>2</td><td><a href=\"https://en.wikipedia.org/wiki/Texas\">Texas</a></td><td>94 kg</td></tr>,\n",
       " <td>2</td>,\n",
       " <td><a href=\"https://en.wikipedia.org/wiki/Texas\">Texas</a></td>,\n",
       " <td>94 kg</td>,\n",
       " <tr><td>3</td><td><a href=\"https://en.wikipedia.org/wiki/Florida\">Florida<a> </a></a></td><td>80 kg</td></tr>,\n",
       " <td>3</td>,\n",
       " <td><a href=\"https://en.wikipedia.org/wiki/Florida\">Florida<a> </a></a></td>,\n",
       " <a> </a>,\n",
       " <td>80 kg</td>]"
      ]
     },
     "execution_count": 71,
     "metadata": {},
     "output_type": "execute_result"
    }
   ],
   "source": [
    "table_bs.find_all(href=False)"
   ]
  },
  {
   "cell_type": "markdown",
   "metadata": {},
   "source": [
    "<details><summary>Click here for the solution</summary>\n",
    "\n",
    "```\n",
    "table_bs.find_all(href=False)\n",
    "\n",
    "```\n",
    "\n",
    "</details>\n"
   ]
  },
  {
   "cell_type": "markdown",
   "metadata": {},
   "source": [
    "Using the soup object <code>soup</code>, find the element with the <code>id</code> attribute content set to <code>\"boldest\"</code>.\n"
   ]
  },
  {
   "cell_type": "code",
   "execution_count": 74,
   "metadata": {},
   "outputs": [
    {
     "data": {
      "text/plain": [
       "[<b id=\"boldest\">Lebron James</b>]"
      ]
     },
     "execution_count": 74,
     "metadata": {},
     "output_type": "execute_result"
    }
   ],
   "source": [
    "soup.find_all(id = 'boldest')"
   ]
  },
  {
   "cell_type": "markdown",
   "metadata": {},
   "source": [
    "<details><summary>Click here for the solution</summary>\n",
    "\n",
    "```\n",
    "soup.find_all(id=\"boldest\")\n",
    "\n",
    "```\n",
    "\n",
    "</details>\n"
   ]
  },
  {
   "cell_type": "markdown",
   "metadata": {},
   "source": [
    "### string\n"
   ]
  },
  {
   "cell_type": "markdown",
   "metadata": {},
   "source": [
    "With string you can search for strings instead of tags, where we find all the elments with Florida:\n"
   ]
  },
  {
   "cell_type": "code",
   "execution_count": 34,
   "metadata": {},
   "outputs": [
    {
     "data": {
      "text/plain": [
       "['Florida', 'Florida']"
      ]
     },
     "execution_count": 34,
     "metadata": {},
     "output_type": "execute_result"
    }
   ],
   "source": [
    "table_bs.find_all(string=\"Florida\")"
   ]
  },
  {
   "cell_type": "markdown",
   "metadata": {},
   "source": [
    "## find\n"
   ]
  },
  {
   "cell_type": "markdown",
   "metadata": {},
   "source": [
    "The <code>find_all()</code> method scans the entire document looking for results, it’s if you are looking for one element you can use the <code>find()</code> method to find the first element in the document. Consider the following two table:\n"
   ]
  },
  {
   "cell_type": "code",
   "execution_count": 79,
   "metadata": {},
   "outputs": [
    {
     "data": {
      "text/html": [
       "<h3>Rocket Launch </h3>\n",
       "\n",
       "<p>\n",
       "<table class='rocket'>\n",
       "  <tr>\n",
       "    <td>Flight No</td>\n",
       "    <td>Launch site</td> \n",
       "    <td>Payload mass</td>\n",
       "  </tr>\n",
       "  <tr>\n",
       "    <td>1</td>\n",
       "    <td>Florida</td>\n",
       "    <td>300 kg</td>\n",
       "  </tr>\n",
       "  <tr>\n",
       "    <td>2</td>\n",
       "    <td>Texas</td>\n",
       "    <td>94 kg</td>\n",
       "  </tr>\n",
       "  <tr>\n",
       "    <td>3</td>\n",
       "    <td>Florida </td>\n",
       "    <td>80 kg</td>\n",
       "  </tr>\n",
       "</table>\n",
       "</p>\n",
       "<p>\n",
       "\n",
       "<h3>Pizza Party  </h3>\n",
       "  \n",
       "    \n",
       "<table class='pizza'>\n",
       "  <tr>\n",
       "    <td>Pizza Place</td>\n",
       "    <td>Orders</td> \n",
       "    <td>Slices </td>\n",
       "   </tr>\n",
       "  <tr>\n",
       "    <td>Domino's Pizza</td>\n",
       "    <td>10</td>\n",
       "    <td>100</td>\n",
       "  </tr>\n",
       "  <tr>\n",
       "    <td>Little Caesars</td>\n",
       "    <td>12</td>\n",
       "    <td >144 </td>\n",
       "  </tr>\n",
       "  <tr>\n",
       "    <td>Papa John's </td>\n",
       "    <td>15 </td>\n",
       "    <td>165</td>\n",
       "  </tr>\n"
      ],
      "text/plain": [
       "<IPython.core.display.HTML object>"
      ]
     },
     "metadata": {},
     "output_type": "display_data"
    }
   ],
   "source": [
    "%%html\n",
    "<h3>Rocket Launch </h3>\n",
    "\n",
    "<p>\n",
    "<table class='rocket'>\n",
    "  <tr>\n",
    "    <td>Flight No</td>\n",
    "    <td>Launch site</td> \n",
    "    <td>Payload mass</td>\n",
    "  </tr>\n",
    "  <tr>\n",
    "    <td>1</td>\n",
    "    <td>Florida</td>\n",
    "    <td>300 kg</td>\n",
    "  </tr>\n",
    "  <tr>\n",
    "    <td>2</td>\n",
    "    <td>Texas</td>\n",
    "    <td>94 kg</td>\n",
    "  </tr>\n",
    "  <tr>\n",
    "    <td>3</td>\n",
    "    <td>Florida </td>\n",
    "    <td>80 kg</td>\n",
    "  </tr>\n",
    "</table>\n",
    "</p>\n",
    "<p>\n",
    "\n",
    "<h3>Pizza Party  </h3>\n",
    "  \n",
    "    \n",
    "<table class='pizza'>\n",
    "  <tr>\n",
    "    <td>Pizza Place</td>\n",
    "    <td>Orders</td> \n",
    "    <td>Slices </td>\n",
    "   </tr>\n",
    "  <tr>\n",
    "    <td>Domino's Pizza</td>\n",
    "    <td>10</td>\n",
    "    <td>100</td>\n",
    "  </tr>\n",
    "  <tr>\n",
    "    <td>Little Caesars</td>\n",
    "    <td>12</td>\n",
    "    <td >144 </td>\n",
    "  </tr>\n",
    "  <tr>\n",
    "    <td>Papa John's </td>\n",
    "    <td>15 </td>\n",
    "    <td>165</td>\n",
    "  </tr>\n"
   ]
  },
  {
   "cell_type": "markdown",
   "metadata": {},
   "source": [
    "We store the HTML as a Python string and assign <code>two_tables</code>:\n"
   ]
  },
  {
   "cell_type": "code",
   "execution_count": 80,
   "metadata": {},
   "outputs": [],
   "source": [
    "two_tables=\"<h3>Rocket Launch </h3><p><table class='rocket'><tr><td>Flight No</td><td>Launch site</td> <td>Payload mass</td></tr><tr><td>1</td><td>Florida</td><td>300 kg</td></tr><tr><td>2</td><td>Texas</td><td>94 kg</td></tr><tr><td>3</td><td>Florida </td><td>80 kg</td></tr></table></p><p><h3>Pizza Party  </h3><table class='pizza'><tr><td>Pizza Place</td><td>Orders</td> <td>Slices </td></tr><tr><td>Domino's Pizza</td><td>10</td><td>100</td></tr><tr><td>Little Caesars</td><td>12</td><td >144 </td></tr><tr><td>Papa John's </td><td>15 </td><td>165</td></tr>\""
   ]
  },
  {
   "cell_type": "markdown",
   "metadata": {},
   "source": [
    "We create a <code>BeautifulSoup</code> object  <code>two_tables_bs</code>\n"
   ]
  },
  {
   "cell_type": "code",
   "execution_count": 81,
   "metadata": {},
   "outputs": [],
   "source": [
    "two_tables_bs= BeautifulSoup(two_tables, 'html.parser')"
   ]
  },
  {
   "cell_type": "markdown",
   "metadata": {},
   "source": [
    "We can find the first table using the tag name table\n"
   ]
  },
  {
   "cell_type": "code",
   "execution_count": 82,
   "metadata": {},
   "outputs": [
    {
     "data": {
      "text/plain": [
       "<table class=\"rocket\"><tr><td>Flight No</td><td>Launch site</td> <td>Payload mass</td></tr><tr><td>1</td><td>Florida</td><td>300 kg</td></tr><tr><td>2</td><td>Texas</td><td>94 kg</td></tr><tr><td>3</td><td>Florida </td><td>80 kg</td></tr></table>"
      ]
     },
     "execution_count": 82,
     "metadata": {},
     "output_type": "execute_result"
    }
   ],
   "source": [
    "two_tables_bs.find(\"table\")"
   ]
  },
  {
   "cell_type": "markdown",
   "metadata": {},
   "source": [
    "We can filter on the class attribute to find the second table, but because class is a keyword in Python, we add an underscore.\n"
   ]
  },
  {
   "cell_type": "code",
   "execution_count": 83,
   "metadata": {},
   "outputs": [
    {
     "data": {
      "text/plain": [
       "<table class=\"pizza\"><tr><td>Pizza Place</td><td>Orders</td> <td>Slices </td></tr><tr><td>Domino's Pizza</td><td>10</td><td>100</td></tr><tr><td>Little Caesars</td><td>12</td><td>144 </td></tr><tr><td>Papa John's </td><td>15 </td><td>165</td></tr></table>"
      ]
     },
     "execution_count": 83,
     "metadata": {},
     "output_type": "execute_result"
    }
   ],
   "source": [
    "two_tables_bs.find(\"table\",class_='pizza')"
   ]
  },
  {
   "cell_type": "markdown",
   "metadata": {},
   "source": [
    "<h2 id=\"DSCW\">Downloading And Scraping The Contents Of A Web Page</h2> \n"
   ]
  },
  {
   "cell_type": "markdown",
   "metadata": {},
   "source": [
    "We Download the contents of the web page:\n"
   ]
  },
  {
   "cell_type": "code",
   "execution_count": 103,
   "metadata": {},
   "outputs": [],
   "source": [
    "url = \"http://www.nur.kz\""
   ]
  },
  {
   "cell_type": "markdown",
   "metadata": {},
   "source": [
    "We use <code>get</code> to download the contents of the webpage in text format and store in a variable called <code>data</code>:\n"
   ]
  },
  {
   "cell_type": "code",
   "execution_count": 104,
   "metadata": {},
   "outputs": [],
   "source": [
    "data  = requests.get(url).text"
   ]
  },
  {
   "cell_type": "markdown",
   "metadata": {},
   "source": [
    "We create a <code>BeautifulSoup</code> object using the <code>BeautifulSoup</code> constructor\n"
   ]
  },
  {
   "cell_type": "code",
   "execution_count": 105,
   "metadata": {},
   "outputs": [],
   "source": [
    "soup = BeautifulSoup(data,\"html.parser\")  # create a soup object using the variable 'data'"
   ]
  },
  {
   "cell_type": "markdown",
   "metadata": {},
   "source": [
    "Scrape all links\n"
   ]
  },
  {
   "cell_type": "code",
   "execution_count": 106,
   "metadata": {},
   "outputs": [
    {
     "name": "stdout",
     "output_type": "stream",
     "text": [
      "https://play.google.com/store/apps/details?id=by.tut.nurkz.android&utm_source=nur.kz&utm_medium=organic&utm_campaign=app_install&utm_content=app_install_header_banner\n",
      "/\n",
      "https://www.nur.kz/latest/\n",
      "https://www.nur.kz/nurfin/\n",
      "https://www.nur.kz/family/\n",
      "https://www.nur.kz/politics/\n",
      "https://www.nur.kz/world/\n",
      "https://www.nur.kz/showbiz/\n",
      "https://www.nur.kz/society/\n",
      "https://special.nur.kz/\n",
      "https://kaz.nur.kz\n",
      "https://1xbet.kz/?tag=s_43153m_2205c_button&site=43153&ad=2205\n",
      "https://www.nur.kz/tags/investitsii/\n",
      "https://www.nur.kz/birgemiz/\n",
      "https://www.nur.kz/tags/aviata/\n",
      "https://www.nur.kz/sport/\n",
      "https://www.nur.kz/trends/mitingi/\n",
      "https://www.nur.kz/trends/winter-olympics-2022/\n",
      "https://www.nur.kz/trends/omicron-shtamm/\n",
      "https://www.nur.kz/trends/snyatie-pensionnyh-nakoplenij/\n",
      "https://www.nur.kz/politics/appointments/1955412-u-kulginova-poyavilis-novye-zamestiteli/\n",
      "https://www.nur.kz/society/1955378-mvd-kazahstana-obratilos-k-voditelyam/\n",
      "https://www.nur.kz/politics/kazakhstan-economy/1955374-deputat-poprosil-natsbank-prekratit-spekulyatsii-na-valyutnom-rynke/\n",
      "https://www.nur.kz/politics/kazakhstan/1955364-sdelayte-vyvody-koshanov-obratilsya-k-deputatam/\n",
      "https://www.nur.kz/politics/appointments/1955365-erzhan-babakumarov-poluchil-novuyu-dolzhnost/\n",
      "https://www.nur.kz/politics/kazakhstan-economy/1955345-obankrotivshimsya-kazahstantsam-mogut-zapretit-vyezzhat-za-granitsu-i-brat-kredity/\n",
      "https://www.nur.kz/sport/football/1955270-barmenkulov-o-vydvizhenii-na-post-prezidenta-kff-ya-podnimu-futbol-kazahstana-na-novyy-uroven/\n",
      "https://www.nur.kz/technologies/business/1955283-assotsiatsiya-blokcheyn-i-industrii-data-tsentrov-opublikovala-otkrytoe-pismo-prezidentu/\n",
      "https://www.nur.kz/incident/crime/1955332-krazhi-i-maroderstva-vo-vremya-pogromov-v-almaty-politsiya-pokazala-video-s-zaderzhannymi/\n",
      "https://www.nur.kz/latest/\n",
      "https://www.nur.kz/sport/olympiad/1955415-galiahmetov-o-vosmom-meste-na-oi-2022-dlya-menya-eto-otlichnyy-rezultat/\n",
      "https://www.nur.kz/society/1955314-kazahstanskih-roditeley-napugali-video-s-raspyleniem-vrednyh-himikatov-v-detsadah/\n",
      "https://www.nur.kz/sport/olympiad/1955411-oi-2022-10-fevralya-na-start-vyydut-lyzhnitsy-i-akrobaty/\n",
      "https://www.nur.kz/incident/road-accident/1955405-devochku-vytaschili-iz-mashiny-posledstviya-sereznogo-dtp-snyali-na-video-bliz-almaty/\n",
      "https://www.nur.kz/society/1955338-saliqaly-urpaq-perechislil-1-mlrd-tenge-v-fond-qazaqstan-halqyna/\n",
      "https://www.nur.kz/incident/emergency/1955404-krupnyy-pozhar-proizoshel-na-fabrike-po-proizvodstvu-deneg-vo-frantsii-video/\n",
      "https://www.nur.kz/society/1955300-poteplenie-na-severe-osadki-na-yuge-kakoy-budet-pogoda-v-kazahstane-v-blizhayshie-dni/\n",
      "https://www.nur.kz/sport/olympiad/1955402-oi-2022-short-trekist-adil-galiahmetov-stal-vosmym-na-distantsii-1500-metrov/\n",
      "https://www.nur.kz/society/1955398-akim-mangistau-vstretilsya-s-mnogodetnymi-materyami-perekryvavshimi-dorogu/\n",
      "https://www.nur.kz/incident/emergency/1955394-gololed-v-almaty-114-dtp-proizoshlo-v-gorode-za-sutki/\n",
      "https://www.nur.kz/incident/crime/1955376-pastuh-nashel-taynik-s-oruzhiem-i-amunitsiey-na-okraine-almaty-foto/\n",
      "https://www.nur.kz/politics/kazakhstan/1955389-novaya-deputatskaya-gruppa-zhana-qazaqstan-poyavitsya-v-mazhilise/\n",
      "https://www.nur.kz/sport/olympiad/1955391-vylozhilsya-po-maksimumu-chingiz-rakparov-vystupil-v-lyzhnom-dvoebore-na-oi-2022/\n",
      "https://www.nur.kz/sport/olympiad/1955388-oi-2022-short-trekist-adil-galiahmetov-vyshel-v-polufinal-na-distantsii-1500-metrov/\n",
      "https://www.nur.kz/society/1955383-naydena-propavshaya-pochti-tri-nedeli-nazad-zhitelnitsa-turkestanskoy-oblasti/\n",
      "https://www.nur.kz/latest/\n",
      "http://ffin.kz?utm_source=nur_kz&utm_medium=vidget&utm_campaign=Global_mkting_2021\n",
      "https://www.nur.kz/society/\n",
      "https://www.nur.kz/society/\n",
      "https://www.nur.kz/society/1955343-14-letnyaya-devochka-sbezhala-iz-doma-v-zhezkazgane-potomu-chto-ee-ne-pustili-na-den-rozhdeniya/\n",
      "https://www.nur.kz/newsletter-subscription/\n",
      "https://www.nur.kz/society/1955353-sneg-v-almaty-v-akimate-obratilis-k-voditelyam/\n",
      "https://www.nur.kz/society/1955348-chto-budet-s-kazahstantsami-pri-lozhnom-ili-prednamerennom-bankrotstve-rasskazali-v-minfine/\n",
      "https://www.nur.kz/society/1955325-otsrochku-po-kreditam-i-lgoty-po-komuslugam-hotyat-dat-soldatam-srochnikam-v-kazahstane/\n",
      "https://www.nur.kz/society/1955323-skolko-kazahstantsev-mogut-vospolzovatsya-protseduroy-bankrotstva-rasskazali-v-minfine/\n",
      "https://www.nur.kz/politics/\n",
      "https://www.nur.kz/politics/\n",
      "https://www.nur.kz/politics/kazakhstan/1955377-poryadok-priema-na-sluzhbu-v-pravoohranitelnye-organy-mogut-izmenit-v-kazahstane/\n",
      "https://t.me/newsnurkz\n",
      "https://www.nur.kz/politics/appointments/1955371-alihan-smailov-vozglavil-sovet-direktorov-baytereka/\n",
      "https://www.nur.kz/politics/power/1955363-tokaev-prinyal-predsedatelya-zakonodatelnoy-palaty-oliy-mazhlisa-uzbekistana-foto/\n",
      "https://www.nur.kz/politics/kazakhstan/1955354-tokaev-prinyal-prezidenta-nazarbaev-universiteta-shigeo-katsu/\n",
      "https://www.nur.kz/politics/kazakhstan-economy/1955301-dollar-vnov-podeshevel-v-kazahstane/\n",
      "https://www.nur.kz/nurfin/\n",
      "https://www.nur.kz/nurfin/\n",
      "https://www.nur.kz/nurfin/personal/1776723-kakie-nalogi-platit-ip-po-uprosenke-v-kazahstane/\n",
      "https://www.nur.kz/nurfin/economy/1955351-budet-li-dalshe-ukreplyatsya-dollar-rasskazali-v-natsbanke/\n",
      "https://www.nur.kz/nurfin/stock/1955126-kak-kupit-aktsii-apple-google-facebook-ili-amazon-za-10/\n",
      "https://www.nur.kz/nurfin/personal/1955288-v-kazahstane-uvelicheny-razmery-grantov-i-zarabotnyh-plat/\n",
      "https://www.nur.kz/sport/\n",
      "https://www.nur.kz/sport/\n",
      "https://www.nur.kz/sport/olympiad/1955396-oi-2022-olga-tihonova-ne-sumela-proyti-kvalifikatsiyu-na-distantsii-1000-metrov/\n",
      "https://www.nur.kz/sport/olympiad/1955360-veter-menyal-napravlenie-dvoeborets-chingiz-rakparov-stal-38-m-na-obychnom-trampline-na-oi-2022/\n",
      "https://www.nur.kz/sport/football/1955318-bavariya-stala-chempionom-evropy-po-prodazhe-futbolok-v-2021-godu/\n",
      "https://www.nur.kz/sport/cybersport/1955307-bloger-proshel-novuyu-igru-bez-smertey-za-rekordnoe-kolichestvo-vremeni/\n",
      "photonews/\n",
      "photonews/\n",
      "https://www.nur.kz/showbiz/image/1955277-neuzheli-ne-strashno-alena-vodonaeva-uzhasnula-fanatov-ozherelem-iz-ogromnyh-tarakanov/\n",
      "https://www.nur.kz/sport/about-sports/1955246-sportsmeny-mnogostanochniki-izvestnye-atlety-kotorye-udachno-smenili-vid-sporta/\n",
      "https://www.nur.kz/leisure/interesting-facts/1955007-zdanie-grib-s-dyryavoy-kryshey-neobychnoe-mesto-poyavilos-v-budapeshte/\n",
      "https://www.nur.kz/showbiz/\n",
      "https://www.nur.kz/showbiz/\n",
      "https://www.nur.kz/showbiz/career/1955379-dimash-kudaybergen-podelilsya-kadrami-ispolneniya-pesni-na-kitayskom-yazyke/\n",
      "https://news.google.com/publications/CAAqBwgKMK7ylAswg8SqAw\n",
      "https://www.nur.kz/showbiz/scandals/1955369-obvinivshaya-sobchak-v-upotreblenii-narkotikov-bonya-zayavila-chto-gotova-proyti-detektor-lzhi/\n",
      "https://www.nur.kz/showbiz/image/1955021-zhanym-bud-moey-zhenoy-bibigul-aktan-pokazala-neozhidannyy-novyy-obraz-video/\n",
      "https://www.nur.kz/showbiz/career/1955337-supermamasita-stala-shkolnoy-uchitelnitsey-opozdala-na-urok-i-obmanula-detey-video/\n",
      "https://www.nur.kz/showbiz/incidents/1955334-nichego-ne-hochetsya-zabolevshaya-koronavirusom-saltanat-kalieva-pozhalovalas-na-svoe-sostoyanie/\n",
      "https://www.nur.kz/incident/\n",
      "https://www.nur.kz/incident/\n",
      "https://www.nur.kz/incident/crime/1955367-pyanyy-passazhir-ustroil-skandal-i-oskorblyal-sotrudnitsu-v-aeroportu-almaty/\n",
      "https://www.instagram.com/kaznews/\n",
      "https://www.nur.kz/incident/crime/1955330-dvuh-devushek-podozrevayut-v-organizatsii-narkolaboratorii-v-nur-sultane/\n",
      "https://www.nur.kz/incident/crime/1955352-mulla-pytalsya-iznasilovat-14-letnyuyu-devochku-v-turkestanskoy-oblasti/\n",
      "https://www.nur.kz/incident/crime/1955341-u-zaderzhannogo-za-zahvat-voennogo-tigra-i-akimata-semeya-nashli-podtverzhdayuschee-vinu-video/\n",
      "https://www.nur.kz/incident/crime/1955327-zaderzhan-podozrevaemyy-v-hischenii-oruzhiya-u-silovika-pri-zahvate-zdaniya-akimata-v-aktobe/\n",
      "https://www.nur.kz/health/\n",
      "https://www.nur.kz/health/\n",
      "https://www.nur.kz/health/healthy-lifestyle/1673494-maska-dlya-volos-iz-yaic-v-domashnikh-uslov/\n",
      "https://www.nur.kz/health/coronavirus/1955370-glavnyy-infektsionist-ssha-zayavil-o-nevozmozhnosti-iskoreneniya-koronavirusa/\n",
      "https://www.nur.kz/health/coronavirus/1955355-uchenye-iz-ssha-nazvali-opasnoe-posledstvie-s-kotorym-stalkivayutsya-perebolevshie-covid-19/\n",
      "https://www.nur.kz/health/healthy-lifestyle/1955349-eksperty-dali-pyat-sovetov-uluchshayuschih-nochnoy-son/\n",
      "https://www.nur.kz/kaleidoscope/\n",
      "https://www.nur.kz/kaleidoscope/\n",
      "https://www.nur.kz/kaleidoscope/1955223-obyavleny-nominanty-na-oskar/\n",
      "https://www.nur.kz/newsletter-subscription/\n",
      "https://www.nur.kz/kaleidoscope/1955095-stareyshiy-pab-kotoromu-bolee-1000-let-zakroyut-v-britanii/\n",
      "https://www.nur.kz/kaleidoscope/1954885-falshivaya-gertsoginya-i-mertvyy-mozg-televeduschiy-fox-news-obrushilsya-s-kritikoy-na-megan-i-garri/\n",
      "https://www.nur.kz/kaleidoscope/1952831-fotorep-doch-bryusa-uillisa-i-demi-mur-pokazala-figuru-v-nizhnem-bele/\n",
      "https://www.nur.kz/kaleidoscope/1954709-zhitel-stambula-sdal-78-polozhitelnyh-testov-na-covid-i-bolshe-goda-sidit-na-karantine/\n",
      "videonews/\n",
      "videonews/\n",
      "https://www.nur.kz/society/1955256-obrushenie-nedostroennogo-zdaniya-snyali-na-video-v-nur-sultane/\n",
      "https://www.nur.kz/society/1955241-vykinul-devushku-v-aryk-vozmutivshee-almatintsev-video-prokommentirovali-v-politsii/\n",
      "https://www.nur.kz/society/1955231-taksista-nakazali-za-parkovku-na-ostanovke-obschestvennogo-transporta-v-almaty-video/\n",
      "https://www.nur.kz/world/\n",
      "https://www.nur.kz/world/\n",
      "https://www.nur.kz/world/1955373-vladimira-zhirinovskogo-gospitalizirovali-v-moskve/\n",
      "https://t.me/newsnurkz\n",
      "https://www.nur.kz/world/1955372-bill-geyts-napishet-knigu-o-tom-kak-predotvratit-sleduyuschuyu-pandemiyu/\n",
      "https://www.nur.kz/world/1955339-ugrozy-ekspansii-talibov-v-strany-odkb-net-zayavil-gensek-organizatsii/\n",
      "https://www.nur.kz/world/1955316-kompaniya-ilona-maska-soobschila-o-potere-desyatkov-svoih-sputnikov/\n",
      "https://www.nur.kz/world/1955235-tramp-nazval-germaniyu-zalozhnitsey-rossii-iz-za-severnogo-potoka-2/\n",
      "https://www.nur.kz/food/\n",
      "https://www.nur.kz/food/\n",
      "https://www.nur.kz/food/recipes/1679369-myaso-po-francuzski-s-farshem-v-dukhovke/\n",
      "https://www.nur.kz/food/recipes/1679582-kurica-po-kitayski-v-kislo-sladkom-sou/\n",
      "https://www.nur.kz/food/recipes/1722488-kak-prigotovit-kurinyj-sup-s-lapsoj/\n",
      "https://www.nur.kz/food/recipes/1669697-myasnoy-pirog-na-kefire-s-farshem/\n",
      "https://www.nur.kz/stories/\n",
      "https://www.nur.kz/stories/\n",
      "https://www.nur.kz/stories/1955366-mat-i-sestra-krichali-chto-eto-uyat-studentka-taykom-ot-rodnyh-rodila-rebenka-v-shymkente/\n",
      "https://news.google.com/publications/CAAqBwgKMK7ylAswg8SqAw\n",
      "https://www.nur.kz/stories/1955153-lider-dal-mne-zadanie-kazahstantsa-zaderzhali-pri-popytke-vzorvat-zdanie-politsii/\n",
      "https://www.nur.kz/stories/1954377-ne-zasluzhila-takogo-podarka-muzh-kazahstanki-hochet-perepisat-kvartiru-na-doch-ot-pervogo-braka/\n",
      "https://www.nur.kz/stories/1954050-lyubit-detey-za-dengi-svekrov-kazahstanki-otkazalas-besplatno-sidet-s-vnukami/\n",
      "https://www.nur.kz/stories/1954214-2-mlrd-tenge-ne-sdelali-menya-schastlivee-kazahstanka-popala-v-lyubovnuyu-lovushku-shefa/\n",
      "https://www.nur.kz/technologies/\n",
      "https://www.nur.kz/technologies/\n",
      "https://www.nur.kz/technologies/devices/1651451-kak-vybrat-utyug-s-parogeneratorom/\n",
      "https://www.nur.kz/technologies/devices/1637240-kak-vybrat-pylesos-s-akvafiltrom/\n",
      "https://www.nur.kz/technologies/devices/1954880-vse-grani-tsifrovogo-iskusstva-lg-predstavila-novyy-televizor-oled-g1/\n",
      "https://www.nur.kz/technologies/business/1955089-cherez-ternii-yanvarskih-sobytiy-kakuyu-pomosch-okazal-tele2altel-biznesu/\n",
      "https://www.nur.kz/family/\n",
      "https://www.nur.kz/family/\n",
      "https://www.nur.kz/family/self-realization/1906451-kak-perezhit-rasstavanie-i-ne-soyti-s-uma/\n",
      "https://www.nur.kz/family/beauty/1382810-manikyur-na-den-svyatogo-valentina/\n",
      "https://www.nur.kz/family/relationship/1955090-ne-umeyu-govorit-net-kak-nauchitsya-otkazyvat-i-ustanovit-granitsy/\n",
      "https://www.nur.kz/family/relationship/1712071-krasivoe-priznanie-v-lubvi-parnu-svoimi-slovami/\n",
      "https://www.nur.kz/esoterics/\n",
      "https://www.nur.kz/esoterics/\n",
      "https://www.nur.kz/esoterics/astrology/1827544-retrogradnyj-merkurij-vse-cto-nado-znat/\n",
      "https://www.nur.kz/esoterics/astrology/1954521-era-vodoleya-chto-nas-zhdet-i-skolko-prodlitsya-novaya-epoha/\n",
      "https://www.nur.kz/esoterics/signs/1675242-primety-na-dengi-po-dnyam-nedeli/\n",
      "https://www.nur.kz/esoterics/interesting/1129373-chislo-rozhdeniya-vliyaniye-na-sudbu-i-kharakter/\n",
      "https://www.nur.kz/leisure/\n",
      "https://www.nur.kz/leisure/\n",
      "https://www.nur.kz/leisure/holidays/1840264-s-dnem-vlublennyh-prikolnye-pozdravlenia-1/\n",
      "https://www.nur.kz/leisure/holidays/1840438-den-svatogo-valentina-istoria-sut-i-obycai-prazdnika-interesnye-fakty/\n",
      "https://www.nur.kz/leisure/holidays/1840296-pozdravlenia-s-dnem-svatogo-valentina-lubimomu-v-proze/\n",
      "https://www.nur.kz/leisure/interesting-facts/1955156-kak-ubrat-zasos-podruchnymi-sredstvami/\n",
      "https://www.nur.kz/household/\n",
      "https://www.nur.kz/household/\n",
      "https://www.nur.kz/household/cleaning/1677817-kak-vyvesti-zirnoe-patno-v-domasnih-usloviah-sposoby-i-sovety/\n",
      "https://www.nur.kz/household/cleaning/1850964-melaminovaa-gubka-polza-i-vred-kak-ispolzovat/\n",
      "https://www.nur.kz/household/cleaning/1692693-kak-otbelit-belye-veshchi-ot-zheltizny/\n",
      "https://www.nur.kz/household/cleaning/1604804-pocemu-cerneet-serebro-na-celoveke-i-kak-ego-pocistit/\n",
      "https://www.nur.kz/trends/press-relizy/\n",
      "https://www.nur.kz/trends/press-relizy/\n",
      "https://www.nur.kz/society/1954442-izvestnaya-kazahstanskaya-boksersha-snyalas-dlya-playboy-kazakhstan/\n",
      "https://www.nur.kz/society/1954096-kompaniya-1xbet-stala-sponsorom-futbolnoy-komandy-sd-family/\n",
      "https://www.nur.kz/society/1952334-v-taraze-otkrylas-novaya-shkola-na-600-mest/\n",
      "https://www.nur.kz/politics/appointments/1951972-zhanzhigit-omarhan-naznachen-press-sekretarem-ministerstva-industrii-i-infrastrukturnogo-razvitiya/\n",
      "https://www.nur.kz/feedback.html\n",
      "https://corp.nur.kz/\n",
      "https://www.nur.kz/about-us.html\n",
      "https://www.nur.kz/authors/\n",
      "https://www.nur.kz/kak-rabotaet-nur-kz/\n",
      "https://www.nur.kz/editorial-policy.html\n",
      "https://www.nur.kz/archive/\n",
      "https://www.nur.kz/licensing-agreement.html\n",
      "https://www.nur.kz/usage-agreement.html\n",
      "https://www.nur.kz/privacy-policy.html\n",
      "https://www.nur.kz/comment-rules.html\n",
      "mailto:editor@corp.nur.kz\n",
      "tel:+77273468049\n",
      "https://www.facebook.com/PortalNURKZ\n",
      "https://vk.com/portalnurkz\n",
      "https://ok.ru/portalnurkz\n",
      "https://www.instagram.com/kaznews/\n",
      "https://t.me/newsnurkz\n",
      "https://www.tiktok.com/@newsnurkz\n",
      "https://apps.apple.com/kz/app/id830230766?utm_source=nur.kz&utm_medium=organic&utm_campaign=app_install&utm_content=app_install_footer&utm_term=app_update_footer\n",
      "https://play.google.com/store/apps/details?id=by.tut.nurkz.android&utm_source=nur.kz&utm_medium=organic&utm_campaign=app_install&utm_content=app_install_footer&utm_term=app_update_footer\n",
      "https://appgallery.huawei.com/app/C102765781\n",
      "https://nurtv.kz/\n",
      "https://musicnur.kz/\n",
      "https://rabotanur.kz/\n",
      "https://genesistudio.net/\n",
      "#\n",
      "#\n",
      "https://www.nur.kz/privacy-policy.html\n"
     ]
    }
   ],
   "source": [
    "for link in soup.find_all('a',href=True):  # in html anchor/link is represented by the tag <a>\n",
    "\n",
    "    print(link.get('href'))\n"
   ]
  },
  {
   "cell_type": "markdown",
   "metadata": {},
   "source": [
    "## Scrape  all images  Tags\n"
   ]
  },
  {
   "cell_type": "code",
   "execution_count": 107,
   "metadata": {},
   "outputs": [
    {
     "name": "stdout",
     "output_type": "stream",
     "text": [
      "<img alt=\"NUR.KZ\" src=\"https://www.nur.kz/nur/img/logo.svg\"/>\n",
      "https://www.nur.kz/nur/img/logo.svg\n",
      "<img alt=\"Есет Байкен\" class=\"post-preview-media__picture\" decoding=\"async\" sizes=\"(max-width: 755px) calc(100vw - 40px), (max-width: 1151px) calc(100vw - 327px), 523px\" src=\"https://cdn.nur.kz/images/272x153/b722cd82acb987b6.jpeg?version=1\" srcset=\"https://cdn.nur.kz/images/1120x630/b722cd82acb987b6.jpeg?version=1 1120w, https://cdn.nur.kz/images/720x405/b722cd82acb987b6.jpeg?version=1 720w, https://cdn.nur.kz/images/560x315/b722cd82acb987b6.jpeg?version=1 560w\" title=\"Есет Байкен\"/>\n",
      "https://cdn.nur.kz/images/272x153/b722cd82acb987b6.jpeg?version=1\n",
      "<img alt=\"Полицейский стоит на дороге\" class=\"post-preview-media__picture lazyload\" data-sizes=\"auto\" data-srcset=\"https://cdn.nur.kz/images/720x405/fcd9f2ce163f9361.jpeg?version=1 720w, https://cdn.nur.kz/images/560x315/fcd9f2ce163f9361.jpeg?version=1 560w, https://cdn.nur.kz/images/272x153/fcd9f2ce163f9361.jpeg?version=1 272w, https://cdn.nur.kz/images/176x99/fcd9f2ce163f9361.jpeg?version=1 176w\" decoding=\"async\" src=\"https://cdn.nur.kz/images/272x153/fcd9f2ce163f9361.jpeg?version=1\" title=\"Полицейский стоит на дороге\"/>\n",
      "https://cdn.nur.kz/images/272x153/fcd9f2ce163f9361.jpeg?version=1\n",
      "<img alt=\"Полицейский стоит на дороге\" class=\"post-preview-media__picture\" decoding=\"async\" sizes=\"(max-width: 755px) 97px, (max-width: 1151px) calc((100vw - 152px) / 3), 231px\" src=\"https://cdn.nur.kz/images/272x153/fcd9f2ce163f9361.jpeg?version=1\" srcset=\"https://cdn.nur.kz/images/720x405/fcd9f2ce163f9361.jpeg?version=1 720w, https://cdn.nur.kz/images/560x315/fcd9f2ce163f9361.jpeg?version=1 560w, https://cdn.nur.kz/images/272x153/fcd9f2ce163f9361.jpeg?version=1 272w, https://cdn.nur.kz/images/176x99/fcd9f2ce163f9361.jpeg?version=1 176w\" title=\"Полицейский стоит на дороге\"/>\n",
      "https://cdn.nur.kz/images/272x153/fcd9f2ce163f9361.jpeg?version=1\n",
      "<img alt=\"Банкноты и монеты лежат на столе\" class=\"post-preview-media__picture lazyload\" data-sizes=\"auto\" data-srcset=\"https://cdn.nur.kz/images/720x405/9ada76dac23733c3.jpeg?version=1 720w, https://cdn.nur.kz/images/560x315/9ada76dac23733c3.jpeg?version=1 560w, https://cdn.nur.kz/images/272x153/9ada76dac23733c3.jpeg?version=1 272w, https://cdn.nur.kz/images/176x99/9ada76dac23733c3.jpeg?version=1 176w\" decoding=\"async\" src=\"https://cdn.nur.kz/images/272x153/9ada76dac23733c3.jpeg?version=1\" title=\"Банкноты и монеты лежат на столе\"/>\n",
      "https://cdn.nur.kz/images/272x153/9ada76dac23733c3.jpeg?version=1\n",
      "<img alt=\"Банкноты и монеты лежат на столе\" class=\"post-preview-media__picture\" decoding=\"async\" sizes=\"(max-width: 755px) 97px, (max-width: 1151px) calc((100vw - 152px) / 3), 231px\" src=\"https://cdn.nur.kz/images/272x153/9ada76dac23733c3.jpeg?version=1\" srcset=\"https://cdn.nur.kz/images/720x405/9ada76dac23733c3.jpeg?version=1 720w, https://cdn.nur.kz/images/560x315/9ada76dac23733c3.jpeg?version=1 560w, https://cdn.nur.kz/images/272x153/9ada76dac23733c3.jpeg?version=1 272w, https://cdn.nur.kz/images/176x99/9ada76dac23733c3.jpeg?version=1 176w\" title=\"Банкноты и монеты лежат на столе\"/>\n",
      "https://cdn.nur.kz/images/272x153/9ada76dac23733c3.jpeg?version=1\n",
      "<img alt=\"Ерлан Кошанов.\" class=\"post-preview-media__picture lazyload\" data-sizes=\"auto\" data-srcset=\"https://cdn.nur.kz/images/720x405/f0bc542edc054138.jpeg?version=3 720w, https://cdn.nur.kz/images/560x315/f0bc542edc054138.jpeg?version=3 560w, https://cdn.nur.kz/images/272x153/f0bc542edc054138.jpeg?version=3 272w, https://cdn.nur.kz/images/176x99/f0bc542edc054138.jpeg?version=3 176w\" decoding=\"async\" src=\"https://cdn.nur.kz/images/272x153/f0bc542edc054138.jpeg?version=3\" title=\"Ерлан Кошанов.\"/>\n",
      "https://cdn.nur.kz/images/272x153/f0bc542edc054138.jpeg?version=3\n",
      "<img alt=\"Ерлан Кошанов.\" class=\"post-preview-media__picture\" decoding=\"async\" sizes=\"(max-width: 755px) 97px, (max-width: 1151px) calc((100vw - 152px) / 3), 231px\" src=\"https://cdn.nur.kz/images/272x153/f0bc542edc054138.jpeg?version=3\" srcset=\"https://cdn.nur.kz/images/720x405/f0bc542edc054138.jpeg?version=3 720w, https://cdn.nur.kz/images/560x315/f0bc542edc054138.jpeg?version=3 560w, https://cdn.nur.kz/images/272x153/f0bc542edc054138.jpeg?version=3 272w, https://cdn.nur.kz/images/176x99/f0bc542edc054138.jpeg?version=3 176w\" title=\"Ерлан Кошанов.\"/>\n",
      "https://cdn.nur.kz/images/272x153/f0bc542edc054138.jpeg?version=3\n",
      "<img alt=\"Ержан Бабакумаров\" class=\"post-preview-media__picture lazyload\" data-sizes=\"auto\" data-srcset=\"https://cdn.nur.kz/images/720x405/9f5edd96f3f34c61.jpeg?version=1 720w, https://cdn.nur.kz/images/560x315/9f5edd96f3f34c61.jpeg?version=1 560w, https://cdn.nur.kz/images/272x153/9f5edd96f3f34c61.jpeg?version=1 272w, https://cdn.nur.kz/images/176x99/9f5edd96f3f34c61.jpeg?version=1 176w\" decoding=\"async\" src=\"https://cdn.nur.kz/images/272x153/9f5edd96f3f34c61.jpeg?version=1\" title=\"Ержан Бабакумаров\"/>\n",
      "https://cdn.nur.kz/images/272x153/9f5edd96f3f34c61.jpeg?version=1\n",
      "<img alt=\"Ержан Бабакумаров\" class=\"post-preview-media__picture\" decoding=\"async\" sizes=\"(max-width: 755px) 97px, (max-width: 1151px) calc((100vw - 152px) / 3), 231px\" src=\"https://cdn.nur.kz/images/272x153/9f5edd96f3f34c61.jpeg?version=1\" srcset=\"https://cdn.nur.kz/images/720x405/9f5edd96f3f34c61.jpeg?version=1 720w, https://cdn.nur.kz/images/560x315/9f5edd96f3f34c61.jpeg?version=1 560w, https://cdn.nur.kz/images/272x153/9f5edd96f3f34c61.jpeg?version=1 272w, https://cdn.nur.kz/images/176x99/9f5edd96f3f34c61.jpeg?version=1 176w\" title=\"Ержан Бабакумаров\"/>\n",
      "https://cdn.nur.kz/images/272x153/9f5edd96f3f34c61.jpeg?version=1\n",
      "<img alt=\"Девушка держит паспорт в руках\" class=\"post-preview-media__picture lazyload\" data-sizes=\"auto\" data-srcset=\"https://cdn.nur.kz/images/720x405/7a08017430e214cb.jpeg?version=1 720w, https://cdn.nur.kz/images/560x315/7a08017430e214cb.jpeg?version=1 560w, https://cdn.nur.kz/images/272x153/7a08017430e214cb.jpeg?version=1 272w, https://cdn.nur.kz/images/176x99/7a08017430e214cb.jpeg?version=1 176w\" decoding=\"async\" src=\"https://cdn.nur.kz/images/272x153/7a08017430e214cb.jpeg?version=1\" title=\"Девушка держит паспорт в руках\"/>\n",
      "https://cdn.nur.kz/images/272x153/7a08017430e214cb.jpeg?version=1\n",
      "<img alt=\"Девушка держит паспорт в руках\" class=\"post-preview-media__picture\" decoding=\"async\" sizes=\"(max-width: 755px) 97px, (max-width: 1151px) calc((100vw - 152px) / 3), 231px\" src=\"https://cdn.nur.kz/images/272x153/7a08017430e214cb.jpeg?version=1\" srcset=\"https://cdn.nur.kz/images/720x405/7a08017430e214cb.jpeg?version=1 720w, https://cdn.nur.kz/images/560x315/7a08017430e214cb.jpeg?version=1 560w, https://cdn.nur.kz/images/272x153/7a08017430e214cb.jpeg?version=1 272w, https://cdn.nur.kz/images/176x99/7a08017430e214cb.jpeg?version=1 176w\" title=\"Девушка держит паспорт в руках\"/>\n",
      "https://cdn.nur.kz/images/272x153/7a08017430e214cb.jpeg?version=1\n",
      "<img alt=\"Адилет Барменкулов\" class=\"post-preview-media__picture lazyload\" data-sizes=\"auto\" data-srcset=\"https://cdn.nur.kz/images/720x405/4290eb7b6549cceb.jpeg?version=1 720w, https://cdn.nur.kz/images/560x315/4290eb7b6549cceb.jpeg?version=1 560w, https://cdn.nur.kz/images/272x153/4290eb7b6549cceb.jpeg?version=1 272w, https://cdn.nur.kz/images/176x99/4290eb7b6549cceb.jpeg?version=1 176w\" decoding=\"async\" src=\"https://cdn.nur.kz/images/272x153/4290eb7b6549cceb.jpeg?version=1\" title=\"Адилет Барменкулов\"/>\n",
      "https://cdn.nur.kz/images/272x153/4290eb7b6549cceb.jpeg?version=1\n",
      "<img alt=\"Адилет Барменкулов\" class=\"post-preview-media__picture\" decoding=\"async\" sizes=\"(max-width: 755px) 97px, (max-width: 1151px) calc((100vw - 152px) / 3), 231px\" src=\"https://cdn.nur.kz/images/272x153/4290eb7b6549cceb.jpeg?version=1\" srcset=\"https://cdn.nur.kz/images/720x405/4290eb7b6549cceb.jpeg?version=1 720w, https://cdn.nur.kz/images/560x315/4290eb7b6549cceb.jpeg?version=1 560w, https://cdn.nur.kz/images/272x153/4290eb7b6549cceb.jpeg?version=1 272w, https://cdn.nur.kz/images/176x99/4290eb7b6549cceb.jpeg?version=1 176w\" title=\"Адилет Барменкулов\"/>\n",
      "https://cdn.nur.kz/images/272x153/4290eb7b6549cceb.jpeg?version=1\n",
      "<img alt=\"Иллюстративное фото\" class=\"post-preview-media__picture lazyload\" data-sizes=\"auto\" data-srcset=\"https://cdn.nur.kz/images/720x405/c92a2e7897c197ad.jpeg?version=1 720w, https://cdn.nur.kz/images/560x315/c92a2e7897c197ad.jpeg?version=1 560w, https://cdn.nur.kz/images/272x153/c92a2e7897c197ad.jpeg?version=1 272w, https://cdn.nur.kz/images/176x99/c92a2e7897c197ad.jpeg?version=1 176w\" decoding=\"async\" src=\"https://cdn.nur.kz/images/272x153/c92a2e7897c197ad.jpeg?version=1\" title=\"Иллюстративное фото\"/>\n",
      "https://cdn.nur.kz/images/272x153/c92a2e7897c197ad.jpeg?version=1\n",
      "<img alt=\"Иллюстративное фото\" class=\"post-preview-media__picture\" decoding=\"async\" sizes=\"(max-width: 755px) 97px, (max-width: 1151px) calc((100vw - 152px) / 3), 231px\" src=\"https://cdn.nur.kz/images/272x153/c92a2e7897c197ad.jpeg?version=1\" srcset=\"https://cdn.nur.kz/images/720x405/c92a2e7897c197ad.jpeg?version=1 720w, https://cdn.nur.kz/images/560x315/c92a2e7897c197ad.jpeg?version=1 560w, https://cdn.nur.kz/images/272x153/c92a2e7897c197ad.jpeg?version=1 272w, https://cdn.nur.kz/images/176x99/c92a2e7897c197ad.jpeg?version=1 176w\" title=\"Иллюстративное фото\"/>\n",
      "https://cdn.nur.kz/images/272x153/c92a2e7897c197ad.jpeg?version=1\n",
      "<img alt=\"Сквозь разбитое стекло видны несколько терминалов\" class=\"post-preview-media__picture lazyload\" data-sizes=\"auto\" data-srcset=\"https://cdn.nur.kz/images/720x405/7c66399f93624fe1.jpeg?version=1 720w, https://cdn.nur.kz/images/560x315/7c66399f93624fe1.jpeg?version=1 560w, https://cdn.nur.kz/images/272x153/7c66399f93624fe1.jpeg?version=1 272w, https://cdn.nur.kz/images/176x99/7c66399f93624fe1.jpeg?version=1 176w\" decoding=\"async\" src=\"https://cdn.nur.kz/images/272x153/7c66399f93624fe1.jpeg?version=1\" title=\"Сквозь разбитое стекло видны несколько терминалов\"/>\n",
      "https://cdn.nur.kz/images/272x153/7c66399f93624fe1.jpeg?version=1\n",
      "<img alt=\"Сквозь разбитое стекло видны несколько терминалов\" class=\"post-preview-media__picture\" decoding=\"async\" sizes=\"(max-width: 755px) 97px, (max-width: 1151px) calc((100vw - 152px) / 3), 231px\" src=\"https://cdn.nur.kz/images/272x153/7c66399f93624fe1.jpeg?version=1\" srcset=\"https://cdn.nur.kz/images/720x405/7c66399f93624fe1.jpeg?version=1 720w, https://cdn.nur.kz/images/560x315/7c66399f93624fe1.jpeg?version=1 560w, https://cdn.nur.kz/images/272x153/7c66399f93624fe1.jpeg?version=1 272w, https://cdn.nur.kz/images/176x99/7c66399f93624fe1.jpeg?version=1 176w\" title=\"Сквозь разбитое стекло видны несколько терминалов\"/>\n",
      "https://cdn.nur.kz/images/272x153/7c66399f93624fe1.jpeg?version=1\n",
      "<img alt=\"Logo Freedom finance\" class=\"widget-freedom-finance__logo\" loading=\"lazy\" src=\"https://www.nur.kz/nur/img/logo-freedom-finance.png\"/>\n",
      "https://www.nur.kz/nur/img/logo-freedom-finance.png\n",
      "<img alt=\"Девочка с телефоном в руках\" class=\"post-preview-media__picture lazyload\" data-sizes=\"auto\" data-srcset=\"https://cdn.nur.kz/images/1120x630/2dcbed9c63cd3412.jpeg?version=1 1120w, https://cdn.nur.kz/images/720x405/2dcbed9c63cd3412.jpeg?version=1 720w, https://cdn.nur.kz/images/560x315/2dcbed9c63cd3412.jpeg?version=1 560w\" decoding=\"async\" src=\"https://cdn.nur.kz/images/272x153/2dcbed9c63cd3412.jpeg?version=1\" title=\"Девочка с телефоном в руках\"/>\n",
      "https://cdn.nur.kz/images/272x153/2dcbed9c63cd3412.jpeg?version=1\n",
      "<img alt=\"Девочка с телефоном в руках\" class=\"post-preview-media__picture\" decoding=\"async\" sizes=\"(max-width: 755px) calc(100vw - 40px), (max-width: 1151px) calc(100vw - 327px), 523px\" src=\"https://cdn.nur.kz/images/272x153/2dcbed9c63cd3412.jpeg?version=1\" srcset=\"https://cdn.nur.kz/images/1120x630/2dcbed9c63cd3412.jpeg?version=1 1120w, https://cdn.nur.kz/images/720x405/2dcbed9c63cd3412.jpeg?version=1 720w, https://cdn.nur.kz/images/560x315/2dcbed9c63cd3412.jpeg?version=1 560w\" title=\"Девочка с телефоном в руках\"/>\n",
      "https://cdn.nur.kz/images/272x153/2dcbed9c63cd3412.jpeg?version=1\n",
      "<img alt=\"Дилара Аронова\" class=\"block-social__info-image lazyload\" data-src=\"https://cdn.nur.kz/static/newsletter/aronova.png\" src=\"https://www.nur.kz/nur/img/placeholder-1x1.gif?v=2\"/>\n",
      "https://www.nur.kz/nur/img/placeholder-1x1.gif?v=2\n",
      "<img alt=\"Снегопад в Алматы\" class=\"post-preview-media__picture lazyload\" data-sizes=\"auto\" data-srcset=\"https://cdn.nur.kz/images/720x405/8e954f3d9f399402.jpeg?version=1 720w, https://cdn.nur.kz/images/560x315/8e954f3d9f399402.jpeg?version=1 560w, https://cdn.nur.kz/images/272x153/8e954f3d9f399402.jpeg?version=1 272w, https://cdn.nur.kz/images/176x99/8e954f3d9f399402.jpeg?version=1 176w\" decoding=\"async\" src=\"https://cdn.nur.kz/images/272x153/8e954f3d9f399402.jpeg?version=1\" title=\"Снегопад в Алматы\"/>\n",
      "https://cdn.nur.kz/images/272x153/8e954f3d9f399402.jpeg?version=1\n",
      "<img alt=\"Снегопад в Алматы\" class=\"post-preview-media__picture\" decoding=\"async\" sizes=\"(max-width: 755px) 97px, (max-width: 1151px) calc((100vw - 152px) / 3), 231px\" src=\"https://cdn.nur.kz/images/272x153/8e954f3d9f399402.jpeg?version=1\" srcset=\"https://cdn.nur.kz/images/720x405/8e954f3d9f399402.jpeg?version=1 720w, https://cdn.nur.kz/images/560x315/8e954f3d9f399402.jpeg?version=1 560w, https://cdn.nur.kz/images/272x153/8e954f3d9f399402.jpeg?version=1 272w, https://cdn.nur.kz/images/176x99/8e954f3d9f399402.jpeg?version=1 176w\" title=\"Снегопад в Алматы\"/>\n",
      "https://cdn.nur.kz/images/272x153/8e954f3d9f399402.jpeg?version=1\n",
      "<img alt=\"Девушка пересчитывает монеты\" class=\"post-preview-media__picture lazyload\" data-sizes=\"auto\" data-srcset=\"https://cdn.nur.kz/images/720x405/09a44a9532a5f5cf.jpeg?version=1 720w, https://cdn.nur.kz/images/560x315/09a44a9532a5f5cf.jpeg?version=1 560w, https://cdn.nur.kz/images/272x153/09a44a9532a5f5cf.jpeg?version=1 272w, https://cdn.nur.kz/images/176x99/09a44a9532a5f5cf.jpeg?version=1 176w\" decoding=\"async\" src=\"https://cdn.nur.kz/images/272x153/09a44a9532a5f5cf.jpeg?version=1\" title=\"Девушка пересчитывает монеты\"/>\n",
      "https://cdn.nur.kz/images/272x153/09a44a9532a5f5cf.jpeg?version=1\n",
      "<img alt=\"Девушка пересчитывает монеты\" class=\"post-preview-media__picture\" decoding=\"async\" sizes=\"(max-width: 755px) 97px, (max-width: 1151px) calc((100vw - 152px) / 3), 231px\" src=\"https://cdn.nur.kz/images/272x153/09a44a9532a5f5cf.jpeg?version=1\" srcset=\"https://cdn.nur.kz/images/720x405/09a44a9532a5f5cf.jpeg?version=1 720w, https://cdn.nur.kz/images/560x315/09a44a9532a5f5cf.jpeg?version=1 560w, https://cdn.nur.kz/images/272x153/09a44a9532a5f5cf.jpeg?version=1 272w, https://cdn.nur.kz/images/176x99/09a44a9532a5f5cf.jpeg?version=1 176w\" title=\"Девушка пересчитывает монеты\"/>\n",
      "https://cdn.nur.kz/images/272x153/09a44a9532a5f5cf.jpeg?version=1\n",
      "<img alt=\"Солдаты стоят с оружием в руках\" class=\"post-preview-media__picture lazyload\" data-sizes=\"auto\" data-srcset=\"https://cdn.nur.kz/images/720x405/b70e504f423354e9.jpeg?version=1 720w, https://cdn.nur.kz/images/560x315/b70e504f423354e9.jpeg?version=1 560w, https://cdn.nur.kz/images/272x153/b70e504f423354e9.jpeg?version=1 272w, https://cdn.nur.kz/images/176x99/b70e504f423354e9.jpeg?version=1 176w\" decoding=\"async\" src=\"https://cdn.nur.kz/images/272x153/b70e504f423354e9.jpeg?version=1\" title=\"Солдаты стоят с оружием в руках\"/>\n",
      "https://cdn.nur.kz/images/272x153/b70e504f423354e9.jpeg?version=1\n",
      "<img alt=\"Солдаты стоят с оружием в руках\" class=\"post-preview-media__picture\" decoding=\"async\" sizes=\"(max-width: 755px) 97px, (max-width: 1151px) calc((100vw - 152px) / 3), 231px\" src=\"https://cdn.nur.kz/images/272x153/b70e504f423354e9.jpeg?version=1\" srcset=\"https://cdn.nur.kz/images/720x405/b70e504f423354e9.jpeg?version=1 720w, https://cdn.nur.kz/images/560x315/b70e504f423354e9.jpeg?version=1 560w, https://cdn.nur.kz/images/272x153/b70e504f423354e9.jpeg?version=1 272w, https://cdn.nur.kz/images/176x99/b70e504f423354e9.jpeg?version=1 176w\" title=\"Солдаты стоят с оружием в руках\"/>\n",
      "https://cdn.nur.kz/images/272x153/b70e504f423354e9.jpeg?version=1\n",
      "<img alt=\"Мужчина держит в руках пустой кошелек\" class=\"post-preview-media__picture lazyload\" data-sizes=\"auto\" data-srcset=\"https://cdn.nur.kz/images/720x405/b5bb4fb0e3cca49f.jpeg?version=1 720w, https://cdn.nur.kz/images/560x315/b5bb4fb0e3cca49f.jpeg?version=1 560w, https://cdn.nur.kz/images/272x153/b5bb4fb0e3cca49f.jpeg?version=1 272w, https://cdn.nur.kz/images/176x99/b5bb4fb0e3cca49f.jpeg?version=1 176w\" decoding=\"async\" src=\"https://cdn.nur.kz/images/272x153/b5bb4fb0e3cca49f.jpeg?version=1\" title=\"Мужчина держит в руках пустой кошелек\"/>\n",
      "https://cdn.nur.kz/images/272x153/b5bb4fb0e3cca49f.jpeg?version=1\n",
      "<img alt=\"Мужчина держит в руках пустой кошелек\" class=\"post-preview-media__picture\" decoding=\"async\" sizes=\"(max-width: 755px) 97px, (max-width: 1151px) calc((100vw - 152px) / 3), 231px\" src=\"https://cdn.nur.kz/images/272x153/b5bb4fb0e3cca49f.jpeg?version=1\" srcset=\"https://cdn.nur.kz/images/720x405/b5bb4fb0e3cca49f.jpeg?version=1 720w, https://cdn.nur.kz/images/560x315/b5bb4fb0e3cca49f.jpeg?version=1 560w, https://cdn.nur.kz/images/272x153/b5bb4fb0e3cca49f.jpeg?version=1 272w, https://cdn.nur.kz/images/176x99/b5bb4fb0e3cca49f.jpeg?version=1 176w\" title=\"Мужчина держит в руках пустой кошелек\"/>\n",
      "https://cdn.nur.kz/images/272x153/b5bb4fb0e3cca49f.jpeg?version=1\n",
      "<img alt=\"Полицейская фуражка лежит на столе\" class=\"post-preview-media__picture lazyload\" data-sizes=\"auto\" data-srcset=\"https://cdn.nur.kz/images/1120x630/7fb9aad26cce8403.jpeg?version=1 1120w, https://cdn.nur.kz/images/720x405/7fb9aad26cce8403.jpeg?version=1 720w, https://cdn.nur.kz/images/560x315/7fb9aad26cce8403.jpeg?version=1 560w\" decoding=\"async\" src=\"https://cdn.nur.kz/images/272x153/7fb9aad26cce8403.jpeg?version=1\" title=\"Полицейская фуражка лежит на столе\"/>\n",
      "https://cdn.nur.kz/images/272x153/7fb9aad26cce8403.jpeg?version=1\n",
      "<img alt=\"Полицейская фуражка лежит на столе\" class=\"post-preview-media__picture\" decoding=\"async\" sizes=\"(max-width: 755px) calc(100vw - 40px), (max-width: 1151px) calc(100vw - 327px), 523px\" src=\"https://cdn.nur.kz/images/272x153/7fb9aad26cce8403.jpeg?version=1\" srcset=\"https://cdn.nur.kz/images/1120x630/7fb9aad26cce8403.jpeg?version=1 1120w, https://cdn.nur.kz/images/720x405/7fb9aad26cce8403.jpeg?version=1 720w, https://cdn.nur.kz/images/560x315/7fb9aad26cce8403.jpeg?version=1 560w\" title=\"Полицейская фуражка лежит на столе\"/>\n",
      "https://cdn.nur.kz/images/272x153/7fb9aad26cce8403.jpeg?version=1\n",
      "<img alt=\"logo telegram\" class=\"block-social__button-icon\" loading=\"lazy\" src=\"https://www.nur.kz/nur/img/social-icons/subscribe/telegram.svg\"/>\n",
      "https://www.nur.kz/nur/img/social-icons/subscribe/telegram.svg\n",
      "<img alt=\"Алихан Смаилов\" class=\"post-preview-media__picture lazyload\" data-sizes=\"auto\" data-srcset=\"https://cdn.nur.kz/images/720x405/6a7ac75aa0a54443.jpeg?version=1 720w, https://cdn.nur.kz/images/560x315/6a7ac75aa0a54443.jpeg?version=1 560w, https://cdn.nur.kz/images/272x153/6a7ac75aa0a54443.jpeg?version=1 272w, https://cdn.nur.kz/images/176x99/6a7ac75aa0a54443.jpeg?version=1 176w\" decoding=\"async\" src=\"https://cdn.nur.kz/images/272x153/6a7ac75aa0a54443.jpeg?version=1\" title=\"Алихан Смаилов\"/>\n",
      "https://cdn.nur.kz/images/272x153/6a7ac75aa0a54443.jpeg?version=1\n",
      "<img alt=\"Алихан Смаилов\" class=\"post-preview-media__picture\" decoding=\"async\" sizes=\"(max-width: 755px) 97px, (max-width: 1151px) calc((100vw - 152px) / 3), 231px\" src=\"https://cdn.nur.kz/images/272x153/6a7ac75aa0a54443.jpeg?version=1\" srcset=\"https://cdn.nur.kz/images/720x405/6a7ac75aa0a54443.jpeg?version=1 720w, https://cdn.nur.kz/images/560x315/6a7ac75aa0a54443.jpeg?version=1 560w, https://cdn.nur.kz/images/272x153/6a7ac75aa0a54443.jpeg?version=1 272w, https://cdn.nur.kz/images/176x99/6a7ac75aa0a54443.jpeg?version=1 176w\" title=\"Алихан Смаилов\"/>\n",
      "https://cdn.nur.kz/images/272x153/6a7ac75aa0a54443.jpeg?version=1\n",
      "<img alt=\"Касым-Жомарт Токаев и  Нурдинжон Исмоилов\" class=\"post-preview-media__picture lazyload\" data-sizes=\"auto\" data-srcset=\"https://cdn.nur.kz/images/720x405/b2a24143409121d2.jpeg?version=1 720w, https://cdn.nur.kz/images/560x315/b2a24143409121d2.jpeg?version=1 560w, https://cdn.nur.kz/images/272x153/b2a24143409121d2.jpeg?version=1 272w, https://cdn.nur.kz/images/176x99/b2a24143409121d2.jpeg?version=1 176w\" decoding=\"async\" src=\"https://cdn.nur.kz/images/272x153/b2a24143409121d2.jpeg?version=1\" title=\"Касым-Жомарт Токаев и  Нурдинжон Исмоилов\"/>\n",
      "https://cdn.nur.kz/images/272x153/b2a24143409121d2.jpeg?version=1\n",
      "<img alt=\"Касым-Жомарт Токаев и  Нурдинжон Исмоилов\" class=\"post-preview-media__picture\" decoding=\"async\" sizes=\"(max-width: 755px) 97px, (max-width: 1151px) calc((100vw - 152px) / 3), 231px\" src=\"https://cdn.nur.kz/images/272x153/b2a24143409121d2.jpeg?version=1\" srcset=\"https://cdn.nur.kz/images/720x405/b2a24143409121d2.jpeg?version=1 720w, https://cdn.nur.kz/images/560x315/b2a24143409121d2.jpeg?version=1 560w, https://cdn.nur.kz/images/272x153/b2a24143409121d2.jpeg?version=1 272w, https://cdn.nur.kz/images/176x99/b2a24143409121d2.jpeg?version=1 176w\" title=\"Касым-Жомарт Токаев и  Нурдинжон Исмоилов\"/>\n",
      "https://cdn.nur.kz/images/272x153/b2a24143409121d2.jpeg?version=1\n",
      "<img alt=\"Касым-Жомарт Токаев и Шигео Катсу\" class=\"post-preview-media__picture lazyload\" data-sizes=\"auto\" data-srcset=\"https://cdn.nur.kz/images/720x405/ac5245947b4477d5.jpeg?version=1 720w, https://cdn.nur.kz/images/560x315/ac5245947b4477d5.jpeg?version=1 560w, https://cdn.nur.kz/images/272x153/ac5245947b4477d5.jpeg?version=1 272w, https://cdn.nur.kz/images/176x99/ac5245947b4477d5.jpeg?version=1 176w\" decoding=\"async\" src=\"https://cdn.nur.kz/images/272x153/ac5245947b4477d5.jpeg?version=1\" title=\"Касым-Жомарт Токаев и Шигео Катсу\"/>\n",
      "https://cdn.nur.kz/images/272x153/ac5245947b4477d5.jpeg?version=1\n",
      "<img alt=\"Касым-Жомарт Токаев и Шигео Катсу\" class=\"post-preview-media__picture\" decoding=\"async\" sizes=\"(max-width: 755px) 97px, (max-width: 1151px) calc((100vw - 152px) / 3), 231px\" src=\"https://cdn.nur.kz/images/272x153/ac5245947b4477d5.jpeg?version=1\" srcset=\"https://cdn.nur.kz/images/720x405/ac5245947b4477d5.jpeg?version=1 720w, https://cdn.nur.kz/images/560x315/ac5245947b4477d5.jpeg?version=1 560w, https://cdn.nur.kz/images/272x153/ac5245947b4477d5.jpeg?version=1 272w, https://cdn.nur.kz/images/176x99/ac5245947b4477d5.jpeg?version=1 176w\" title=\"Касым-Жомарт Токаев и Шигео Катсу\"/>\n",
      "https://cdn.nur.kz/images/272x153/ac5245947b4477d5.jpeg?version=1\n",
      "<img alt=\"Долларовая банкнота лежит под монетами\" class=\"post-preview-media__picture lazyload\" data-sizes=\"auto\" data-srcset=\"https://cdn.nur.kz/images/720x405/0d67d82de884c4c4.jpeg?version=1 720w, https://cdn.nur.kz/images/560x315/0d67d82de884c4c4.jpeg?version=1 560w, https://cdn.nur.kz/images/272x153/0d67d82de884c4c4.jpeg?version=1 272w, https://cdn.nur.kz/images/176x99/0d67d82de884c4c4.jpeg?version=1 176w\" decoding=\"async\" src=\"https://cdn.nur.kz/images/272x153/0d67d82de884c4c4.jpeg?version=1\" title=\"Долларовая банкнота лежит под монетами\"/>\n",
      "https://cdn.nur.kz/images/272x153/0d67d82de884c4c4.jpeg?version=1\n",
      "<img alt=\"Долларовая банкнота лежит под монетами\" class=\"post-preview-media__picture\" decoding=\"async\" sizes=\"(max-width: 755px) 97px, (max-width: 1151px) calc((100vw - 152px) / 3), 231px\" src=\"https://cdn.nur.kz/images/272x153/0d67d82de884c4c4.jpeg?version=1\" srcset=\"https://cdn.nur.kz/images/720x405/0d67d82de884c4c4.jpeg?version=1 720w, https://cdn.nur.kz/images/560x315/0d67d82de884c4c4.jpeg?version=1 560w, https://cdn.nur.kz/images/272x153/0d67d82de884c4c4.jpeg?version=1 272w, https://cdn.nur.kz/images/176x99/0d67d82de884c4c4.jpeg?version=1 176w\" title=\"Долларовая банкнота лежит под монетами\"/>\n",
      "https://cdn.nur.kz/images/272x153/0d67d82de884c4c4.jpeg?version=1\n",
      "<img alt=\"калькулятор, ручка и блокнот\" class=\"post-preview-media__picture lazyload\" data-sizes=\"auto\" data-srcset=\"https://cdn.nur.kz/images/720x405/17e993e11077e439.jpeg?version=1 720w, https://cdn.nur.kz/images/560x315/17e993e11077e439.jpeg?version=1 560w, https://cdn.nur.kz/images/272x153/17e993e11077e439.jpeg?version=1 272w, https://cdn.nur.kz/images/176x99/17e993e11077e439.jpeg?version=1 176w\" decoding=\"async\" src=\"https://cdn.nur.kz/images/272x153/17e993e11077e439.jpeg?version=1\" title=\"калькулятор, ручка и блокнот\"/>\n",
      "https://cdn.nur.kz/images/272x153/17e993e11077e439.jpeg?version=1\n",
      "<img alt=\"калькулятор, ручка и блокнот\" class=\"post-preview-media__picture\" decoding=\"async\" sizes=\"(max-width: 755px) 97px, (max-width: 1151px) calc((100vw - 152px) / 3), 231px\" src=\"https://cdn.nur.kz/images/272x153/17e993e11077e439.jpeg?version=1\" srcset=\"https://cdn.nur.kz/images/720x405/17e993e11077e439.jpeg?version=1 720w, https://cdn.nur.kz/images/560x315/17e993e11077e439.jpeg?version=1 560w, https://cdn.nur.kz/images/272x153/17e993e11077e439.jpeg?version=1 272w, https://cdn.nur.kz/images/176x99/17e993e11077e439.jpeg?version=1 176w\" title=\"калькулятор, ручка и блокнот\"/>\n",
      "https://cdn.nur.kz/images/272x153/17e993e11077e439.jpeg?version=1\n",
      "<img alt=\"Тенге и доллары на столе\" class=\"post-preview-media__picture lazyload\" data-sizes=\"auto\" data-srcset=\"https://cdn.nur.kz/images/720x405/fc7a4170c43785c6.jpeg?version=1 720w, https://cdn.nur.kz/images/560x315/fc7a4170c43785c6.jpeg?version=1 560w, https://cdn.nur.kz/images/272x153/fc7a4170c43785c6.jpeg?version=1 272w, https://cdn.nur.kz/images/176x99/fc7a4170c43785c6.jpeg?version=1 176w\" decoding=\"async\" src=\"https://cdn.nur.kz/images/272x153/fc7a4170c43785c6.jpeg?version=1\" title=\"Тенге и доллары на столе\"/>\n",
      "https://cdn.nur.kz/images/272x153/fc7a4170c43785c6.jpeg?version=1\n",
      "<img alt=\"Тенге и доллары на столе\" class=\"post-preview-media__picture\" decoding=\"async\" sizes=\"(max-width: 755px) 97px, (max-width: 1151px) calc((100vw - 152px) / 3), 231px\" src=\"https://cdn.nur.kz/images/272x153/fc7a4170c43785c6.jpeg?version=1\" srcset=\"https://cdn.nur.kz/images/720x405/fc7a4170c43785c6.jpeg?version=1 720w, https://cdn.nur.kz/images/560x315/fc7a4170c43785c6.jpeg?version=1 560w, https://cdn.nur.kz/images/272x153/fc7a4170c43785c6.jpeg?version=1 272w, https://cdn.nur.kz/images/176x99/fc7a4170c43785c6.jpeg?version=1 176w\" title=\"Тенге и доллары на столе\"/>\n",
      "https://cdn.nur.kz/images/272x153/fc7a4170c43785c6.jpeg?version=1\n",
      "<img alt=\"Иллюстративное фото\" class=\"post-preview-media__picture lazyload\" data-sizes=\"auto\" data-srcset=\"https://cdn.nur.kz/images/720x405/d411e293cac287a0.jpeg?version=1 720w, https://cdn.nur.kz/images/560x315/d411e293cac287a0.jpeg?version=1 560w, https://cdn.nur.kz/images/272x153/d411e293cac287a0.jpeg?version=1 272w, https://cdn.nur.kz/images/176x99/d411e293cac287a0.jpeg?version=1 176w\" decoding=\"async\" src=\"https://cdn.nur.kz/images/272x153/d411e293cac287a0.jpeg?version=1\" title=\"Иллюстративное фото\"/>\n",
      "https://cdn.nur.kz/images/272x153/d411e293cac287a0.jpeg?version=1\n",
      "<img alt=\"Иллюстративное фото\" class=\"post-preview-media__picture\" decoding=\"async\" sizes=\"(max-width: 755px) 97px, (max-width: 1151px) calc((100vw - 152px) / 3), 231px\" src=\"https://cdn.nur.kz/images/272x153/d411e293cac287a0.jpeg?version=1\" srcset=\"https://cdn.nur.kz/images/720x405/d411e293cac287a0.jpeg?version=1 720w, https://cdn.nur.kz/images/560x315/d411e293cac287a0.jpeg?version=1 560w, https://cdn.nur.kz/images/272x153/d411e293cac287a0.jpeg?version=1 272w, https://cdn.nur.kz/images/176x99/d411e293cac287a0.jpeg?version=1 176w\" title=\"Иллюстративное фото\"/>\n",
      "https://cdn.nur.kz/images/272x153/d411e293cac287a0.jpeg?version=1\n",
      "<img alt=\"Мужчина смотрит через лупу на деньги\" class=\"post-preview-media__picture lazyload\" data-sizes=\"auto\" data-srcset=\"https://cdn.nur.kz/images/720x405/7562e747e7bc7789.jpeg?version=1 720w, https://cdn.nur.kz/images/560x315/7562e747e7bc7789.jpeg?version=1 560w, https://cdn.nur.kz/images/272x153/7562e747e7bc7789.jpeg?version=1 272w, https://cdn.nur.kz/images/176x99/7562e747e7bc7789.jpeg?version=1 176w\" decoding=\"async\" src=\"https://cdn.nur.kz/images/272x153/7562e747e7bc7789.jpeg?version=1\" title=\"Мужчина смотрит через лупу на деньги\"/>\n",
      "https://cdn.nur.kz/images/272x153/7562e747e7bc7789.jpeg?version=1\n",
      "<img alt=\"Мужчина смотрит через лупу на деньги\" class=\"post-preview-media__picture\" decoding=\"async\" sizes=\"(max-width: 755px) 97px, (max-width: 1151px) calc((100vw - 152px) / 3), 231px\" src=\"https://cdn.nur.kz/images/272x153/7562e747e7bc7789.jpeg?version=1\" srcset=\"https://cdn.nur.kz/images/720x405/7562e747e7bc7789.jpeg?version=1 720w, https://cdn.nur.kz/images/560x315/7562e747e7bc7789.jpeg?version=1 560w, https://cdn.nur.kz/images/272x153/7562e747e7bc7789.jpeg?version=1 272w, https://cdn.nur.kz/images/176x99/7562e747e7bc7789.jpeg?version=1 176w\" title=\"Мужчина смотрит через лупу на деньги\"/>\n",
      "https://cdn.nur.kz/images/272x153/7562e747e7bc7789.jpeg?version=1\n",
      "<img alt=\"Шорт-трекистка Ольга Тихонова\" class=\"post-preview-media__picture lazyload\" data-sizes=\"auto\" data-srcset=\"https://cdn.nur.kz/images/720x405/5a33a3351e53442d.jpeg?version=1 720w, https://cdn.nur.kz/images/560x315/5a33a3351e53442d.jpeg?version=1 560w, https://cdn.nur.kz/images/272x153/5a33a3351e53442d.jpeg?version=1 272w, https://cdn.nur.kz/images/176x99/5a33a3351e53442d.jpeg?version=1 176w\" decoding=\"async\" src=\"https://cdn.nur.kz/images/272x153/5a33a3351e53442d.jpeg?version=1\" title=\"Шорт-трекистка Ольга Тихонова\"/>\n",
      "https://cdn.nur.kz/images/272x153/5a33a3351e53442d.jpeg?version=1\n",
      "<img alt=\"Шорт-трекистка Ольга Тихонова\" class=\"post-preview-media__picture\" decoding=\"async\" sizes=\"(max-width: 755px) 97px, (max-width: 1151px) calc((100vw - 152px) / 3), 231px\" src=\"https://cdn.nur.kz/images/272x153/5a33a3351e53442d.jpeg?version=1\" srcset=\"https://cdn.nur.kz/images/720x405/5a33a3351e53442d.jpeg?version=1 720w, https://cdn.nur.kz/images/560x315/5a33a3351e53442d.jpeg?version=1 560w, https://cdn.nur.kz/images/272x153/5a33a3351e53442d.jpeg?version=1 272w, https://cdn.nur.kz/images/176x99/5a33a3351e53442d.jpeg?version=1 176w\" title=\"Шорт-трекистка Ольга Тихонова\"/>\n",
      "https://cdn.nur.kz/images/272x153/5a33a3351e53442d.jpeg?version=1\n",
      "<img alt=\"Лыжник-двоеборец Чингиз Ракпаров\" class=\"post-preview-media__picture lazyload\" data-sizes=\"auto\" data-srcset=\"https://cdn.nur.kz/images/720x405/32e161c2c4e61837.jpeg?version=1 720w, https://cdn.nur.kz/images/560x315/32e161c2c4e61837.jpeg?version=1 560w, https://cdn.nur.kz/images/272x153/32e161c2c4e61837.jpeg?version=1 272w, https://cdn.nur.kz/images/176x99/32e161c2c4e61837.jpeg?version=1 176w\" decoding=\"async\" src=\"https://cdn.nur.kz/images/272x153/32e161c2c4e61837.jpeg?version=1\" title=\"Лыжник-двоеборец Чингиз Ракпаров\"/>\n",
      "https://cdn.nur.kz/images/272x153/32e161c2c4e61837.jpeg?version=1\n",
      "<img alt=\"Лыжник-двоеборец Чингиз Ракпаров\" class=\"post-preview-media__picture\" decoding=\"async\" sizes=\"(max-width: 755px) 97px, (max-width: 1151px) calc((100vw - 152px) / 3), 231px\" src=\"https://cdn.nur.kz/images/272x153/32e161c2c4e61837.jpeg?version=1\" srcset=\"https://cdn.nur.kz/images/720x405/32e161c2c4e61837.jpeg?version=1 720w, https://cdn.nur.kz/images/560x315/32e161c2c4e61837.jpeg?version=1 560w, https://cdn.nur.kz/images/272x153/32e161c2c4e61837.jpeg?version=1 272w, https://cdn.nur.kz/images/176x99/32e161c2c4e61837.jpeg?version=1 176w\" title=\"Лыжник-двоеборец Чингиз Ракпаров\"/>\n",
      "https://cdn.nur.kz/images/272x153/32e161c2c4e61837.jpeg?version=1\n",
      "<img alt=\"Бавария празднует победу\" class=\"post-preview-media__picture lazyload\" data-sizes=\"auto\" data-srcset=\"https://cdn.nur.kz/images/720x405/0f8adf2a5f5b31c6.jpeg?version=1 720w, https://cdn.nur.kz/images/560x315/0f8adf2a5f5b31c6.jpeg?version=1 560w, https://cdn.nur.kz/images/272x153/0f8adf2a5f5b31c6.jpeg?version=1 272w, https://cdn.nur.kz/images/176x99/0f8adf2a5f5b31c6.jpeg?version=1 176w\" decoding=\"async\" src=\"https://cdn.nur.kz/images/272x153/0f8adf2a5f5b31c6.jpeg?version=1\" title=\"Бавария празднует победу\"/>\n",
      "https://cdn.nur.kz/images/272x153/0f8adf2a5f5b31c6.jpeg?version=1\n",
      "<img alt=\"Бавария празднует победу\" class=\"post-preview-media__picture\" decoding=\"async\" sizes=\"(max-width: 755px) 97px, (max-width: 1151px) calc((100vw - 152px) / 3), 231px\" src=\"https://cdn.nur.kz/images/272x153/0f8adf2a5f5b31c6.jpeg?version=1\" srcset=\"https://cdn.nur.kz/images/720x405/0f8adf2a5f5b31c6.jpeg?version=1 720w, https://cdn.nur.kz/images/560x315/0f8adf2a5f5b31c6.jpeg?version=1 560w, https://cdn.nur.kz/images/272x153/0f8adf2a5f5b31c6.jpeg?version=1 272w, https://cdn.nur.kz/images/176x99/0f8adf2a5f5b31c6.jpeg?version=1 176w\" title=\"Бавария празднует победу\"/>\n",
      "https://cdn.nur.kz/images/272x153/0f8adf2a5f5b31c6.jpeg?version=1\n",
      "<img alt=\"Геймер за игрой в PlayStation.\" class=\"post-preview-media__picture lazyload\" data-sizes=\"auto\" data-srcset=\"https://cdn.nur.kz/images/720x405/1c2d783e83836595.jpeg?version=1 720w, https://cdn.nur.kz/images/560x315/1c2d783e83836595.jpeg?version=1 560w, https://cdn.nur.kz/images/272x153/1c2d783e83836595.jpeg?version=1 272w, https://cdn.nur.kz/images/176x99/1c2d783e83836595.jpeg?version=1 176w\" decoding=\"async\" src=\"https://cdn.nur.kz/images/272x153/1c2d783e83836595.jpeg?version=1\" title=\"Геймер за игрой в PlayStation.\"/>\n",
      "https://cdn.nur.kz/images/272x153/1c2d783e83836595.jpeg?version=1\n",
      "<img alt=\"Геймер за игрой в PlayStation.\" class=\"post-preview-media__picture\" decoding=\"async\" sizes=\"(max-width: 755px) 97px, (max-width: 1151px) calc((100vw - 152px) / 3), 231px\" src=\"https://cdn.nur.kz/images/272x153/1c2d783e83836595.jpeg?version=1\" srcset=\"https://cdn.nur.kz/images/720x405/1c2d783e83836595.jpeg?version=1 720w, https://cdn.nur.kz/images/560x315/1c2d783e83836595.jpeg?version=1 560w, https://cdn.nur.kz/images/272x153/1c2d783e83836595.jpeg?version=1 272w, https://cdn.nur.kz/images/176x99/1c2d783e83836595.jpeg?version=1 176w\" title=\"Геймер за игрой в PlayStation.\"/>\n",
      "https://cdn.nur.kz/images/272x153/1c2d783e83836595.jpeg?version=1\n",
      "<img alt=\"Алена Водонаева\" class=\"post-preview-media__picture lazyload\" data-sizes=\"auto\" data-srcset=\"https://cdn.nur.kz/images/1120x630/f049f6b8bc9d88cf.jpeg?version=1 1120w, https://cdn.nur.kz/images/720x405/f049f6b8bc9d88cf.jpeg?version=1 720w, https://cdn.nur.kz/images/560x315/f049f6b8bc9d88cf.jpeg?version=1 560w\" decoding=\"async\" src=\"https://cdn.nur.kz/images/272x153/f049f6b8bc9d88cf.jpeg?version=1\" title=\"Алена Водонаева\"/>\n",
      "https://cdn.nur.kz/images/272x153/f049f6b8bc9d88cf.jpeg?version=1\n",
      "<img alt=\"Алена Водонаева\" class=\"post-preview-media__picture\" decoding=\"async\" sizes=\"(max-width: 755px) calc(100vw - 40px), (max-width: 1151px) calc(100vw - 327px), 523px\" src=\"https://cdn.nur.kz/images/272x153/f049f6b8bc9d88cf.jpeg?version=1\" srcset=\"https://cdn.nur.kz/images/1120x630/f049f6b8bc9d88cf.jpeg?version=1 1120w, https://cdn.nur.kz/images/720x405/f049f6b8bc9d88cf.jpeg?version=1 720w, https://cdn.nur.kz/images/560x315/f049f6b8bc9d88cf.jpeg?version=1 560w\" title=\"Алена Водонаева\"/>\n",
      "https://cdn.nur.kz/images/272x153/f049f6b8bc9d88cf.jpeg?version=1\n",
      "<img alt=\"Клара Хьюз на велосипеде\" class=\"post-preview-media__picture lazyload\" data-sizes=\"auto\" data-srcset=\"https://cdn.nur.kz/images/1120x630/41734cf4bb98dcc5.jpeg?version=1 1120w, https://cdn.nur.kz/images/720x405/41734cf4bb98dcc5.jpeg?version=1 720w, https://cdn.nur.kz/images/560x315/41734cf4bb98dcc5.jpeg?version=1 560w\" decoding=\"async\" src=\"https://cdn.nur.kz/images/272x153/41734cf4bb98dcc5.jpeg?version=1\" title=\"Клара Хьюз на велосипеде\"/>\n",
      "https://cdn.nur.kz/images/272x153/41734cf4bb98dcc5.jpeg?version=1\n",
      "<img alt=\"Клара Хьюз на велосипеде\" class=\"post-preview-media__picture\" decoding=\"async\" sizes=\"(max-width: 755px) calc(100vw - 40px), (max-width: 1151px) calc(100vw - 327px), 523px\" src=\"https://cdn.nur.kz/images/272x153/41734cf4bb98dcc5.jpeg?version=1\" srcset=\"https://cdn.nur.kz/images/1120x630/41734cf4bb98dcc5.jpeg?version=1 1120w, https://cdn.nur.kz/images/720x405/41734cf4bb98dcc5.jpeg?version=1 720w, https://cdn.nur.kz/images/560x315/41734cf4bb98dcc5.jpeg?version=1 560w\" title=\"Клара Хьюз на велосипеде\"/>\n",
      "https://cdn.nur.kz/images/272x153/41734cf4bb98dcc5.jpeg?version=1\n",
      "<img alt=\"Музей в Будапеште\" class=\"post-preview-media__picture lazyload\" data-sizes=\"auto\" data-srcset=\"https://cdn.nur.kz/images/1120x630/2cb4e1b1dbb690bf.jpeg?version=1 1120w, https://cdn.nur.kz/images/720x405/2cb4e1b1dbb690bf.jpeg?version=1 720w, https://cdn.nur.kz/images/560x315/2cb4e1b1dbb690bf.jpeg?version=1 560w\" decoding=\"async\" src=\"https://cdn.nur.kz/images/272x153/2cb4e1b1dbb690bf.jpeg?version=1\" title=\"Музей в Будапеште\"/>\n",
      "https://cdn.nur.kz/images/272x153/2cb4e1b1dbb690bf.jpeg?version=1\n",
      "<img alt=\"Музей в Будапеште\" class=\"post-preview-media__picture\" decoding=\"async\" sizes=\"(max-width: 755px) calc(100vw - 40px), (max-width: 1151px) calc(100vw - 327px), 523px\" src=\"https://cdn.nur.kz/images/272x153/2cb4e1b1dbb690bf.jpeg?version=1\" srcset=\"https://cdn.nur.kz/images/1120x630/2cb4e1b1dbb690bf.jpeg?version=1 1120w, https://cdn.nur.kz/images/720x405/2cb4e1b1dbb690bf.jpeg?version=1 720w, https://cdn.nur.kz/images/560x315/2cb4e1b1dbb690bf.jpeg?version=1 560w\" title=\"Музей в Будапеште\"/>\n",
      "https://cdn.nur.kz/images/272x153/2cb4e1b1dbb690bf.jpeg?version=1\n",
      "<img alt=\"Димаш Кудайберген\" class=\"post-preview-media__picture lazyload\" data-sizes=\"auto\" data-srcset=\"https://cdn.nur.kz/images/1120x630/328e995c74712171.jpeg?version=1 1120w, https://cdn.nur.kz/images/720x405/328e995c74712171.jpeg?version=1 720w, https://cdn.nur.kz/images/560x315/328e995c74712171.jpeg?version=1 560w\" decoding=\"async\" src=\"https://cdn.nur.kz/images/272x153/328e995c74712171.jpeg?version=1\" title=\"Димаш Кудайберген\"/>\n",
      "https://cdn.nur.kz/images/272x153/328e995c74712171.jpeg?version=1\n",
      "<img alt=\"Димаш Кудайберген\" class=\"post-preview-media__picture\" decoding=\"async\" sizes=\"(max-width: 755px) calc(100vw - 40px), (max-width: 1151px) calc(100vw - 327px), 523px\" src=\"https://cdn.nur.kz/images/272x153/328e995c74712171.jpeg?version=1\" srcset=\"https://cdn.nur.kz/images/1120x630/328e995c74712171.jpeg?version=1 1120w, https://cdn.nur.kz/images/720x405/328e995c74712171.jpeg?version=1 720w, https://cdn.nur.kz/images/560x315/328e995c74712171.jpeg?version=1 560w\" title=\"Димаш Кудайберген\"/>\n",
      "https://cdn.nur.kz/images/272x153/328e995c74712171.jpeg?version=1\n",
      "<img alt=\"logo google news\" class=\"block-social__button-icon\" loading=\"lazy\" src=\"https://www.nur.kz/nur/img/social-icons/subscribe/google-news.svg\"/>\n",
      "https://www.nur.kz/nur/img/social-icons/subscribe/google-news.svg\n",
      "<img alt=\"Виктория Боня\" class=\"post-preview-media__picture lazyload\" data-sizes=\"auto\" data-srcset=\"https://cdn.nur.kz/images/720x405/052d38090187cc35.jpeg?version=1 720w, https://cdn.nur.kz/images/560x315/052d38090187cc35.jpeg?version=1 560w, https://cdn.nur.kz/images/272x153/052d38090187cc35.jpeg?version=1 272w, https://cdn.nur.kz/images/176x99/052d38090187cc35.jpeg?version=1 176w\" decoding=\"async\" src=\"https://cdn.nur.kz/images/272x153/052d38090187cc35.jpeg?version=1\" title=\"Виктория Боня\"/>\n",
      "https://cdn.nur.kz/images/272x153/052d38090187cc35.jpeg?version=1\n",
      "<img alt=\"Виктория Боня\" class=\"post-preview-media__picture\" decoding=\"async\" sizes=\"(max-width: 755px) 97px, (max-width: 1151px) calc((100vw - 152px) / 3), 231px\" src=\"https://cdn.nur.kz/images/272x153/052d38090187cc35.jpeg?version=1\" srcset=\"https://cdn.nur.kz/images/720x405/052d38090187cc35.jpeg?version=1 720w, https://cdn.nur.kz/images/560x315/052d38090187cc35.jpeg?version=1 560w, https://cdn.nur.kz/images/272x153/052d38090187cc35.jpeg?version=1 272w, https://cdn.nur.kz/images/176x99/052d38090187cc35.jpeg?version=1 176w\" title=\"Виктория Боня\"/>\n",
      "https://cdn.nur.kz/images/272x153/052d38090187cc35.jpeg?version=1\n",
      "<img alt=\"Бибигуль Актан\" class=\"post-preview-media__picture lazyload\" data-sizes=\"auto\" data-srcset=\"https://cdn.nur.kz/images/720x405/038ecbace92683c0.jpeg?version=1 720w, https://cdn.nur.kz/images/560x315/038ecbace92683c0.jpeg?version=1 560w, https://cdn.nur.kz/images/272x153/038ecbace92683c0.jpeg?version=1 272w, https://cdn.nur.kz/images/176x99/038ecbace92683c0.jpeg?version=1 176w\" decoding=\"async\" src=\"https://cdn.nur.kz/images/272x153/038ecbace92683c0.jpeg?version=1\" title=\"Бибигуль Актан\"/>\n",
      "https://cdn.nur.kz/images/272x153/038ecbace92683c0.jpeg?version=1\n",
      "<img alt=\"Бибигуль Актан\" class=\"post-preview-media__picture\" decoding=\"async\" sizes=\"(max-width: 755px) 97px, (max-width: 1151px) calc((100vw - 152px) / 3), 231px\" src=\"https://cdn.nur.kz/images/272x153/038ecbace92683c0.jpeg?version=1\" srcset=\"https://cdn.nur.kz/images/720x405/038ecbace92683c0.jpeg?version=1 720w, https://cdn.nur.kz/images/560x315/038ecbace92683c0.jpeg?version=1 560w, https://cdn.nur.kz/images/272x153/038ecbace92683c0.jpeg?version=1 272w, https://cdn.nur.kz/images/176x99/038ecbace92683c0.jpeg?version=1 176w\" title=\"Бибигуль Актан\"/>\n",
      "https://cdn.nur.kz/images/272x153/038ecbace92683c0.jpeg?version=1\n",
      "<img alt=\"Алия Байтугаева\" class=\"post-preview-media__picture lazyload\" data-sizes=\"auto\" data-srcset=\"https://cdn.nur.kz/images/720x405/2aeae1ce35fd7665.jpeg?version=1 720w, https://cdn.nur.kz/images/560x315/2aeae1ce35fd7665.jpeg?version=1 560w, https://cdn.nur.kz/images/272x153/2aeae1ce35fd7665.jpeg?version=1 272w, https://cdn.nur.kz/images/176x99/2aeae1ce35fd7665.jpeg?version=1 176w\" decoding=\"async\" src=\"https://cdn.nur.kz/images/272x153/2aeae1ce35fd7665.jpeg?version=1\" title=\"Алия Байтугаева\"/>\n",
      "https://cdn.nur.kz/images/272x153/2aeae1ce35fd7665.jpeg?version=1\n",
      "<img alt=\"Алия Байтугаева\" class=\"post-preview-media__picture\" decoding=\"async\" sizes=\"(max-width: 755px) 97px, (max-width: 1151px) calc((100vw - 152px) / 3), 231px\" src=\"https://cdn.nur.kz/images/272x153/2aeae1ce35fd7665.jpeg?version=1\" srcset=\"https://cdn.nur.kz/images/720x405/2aeae1ce35fd7665.jpeg?version=1 720w, https://cdn.nur.kz/images/560x315/2aeae1ce35fd7665.jpeg?version=1 560w, https://cdn.nur.kz/images/272x153/2aeae1ce35fd7665.jpeg?version=1 272w, https://cdn.nur.kz/images/176x99/2aeae1ce35fd7665.jpeg?version=1 176w\" title=\"Алия Байтугаева\"/>\n",
      "https://cdn.nur.kz/images/272x153/2aeae1ce35fd7665.jpeg?version=1\n",
      "<img alt=\"Салтанат Калиева\" class=\"post-preview-media__picture lazyload\" data-sizes=\"auto\" data-srcset=\"https://cdn.nur.kz/images/720x405/5c5a033cbd25c98a.jpeg?version=1 720w, https://cdn.nur.kz/images/560x315/5c5a033cbd25c98a.jpeg?version=1 560w, https://cdn.nur.kz/images/272x153/5c5a033cbd25c98a.jpeg?version=1 272w, https://cdn.nur.kz/images/176x99/5c5a033cbd25c98a.jpeg?version=1 176w\" decoding=\"async\" src=\"https://cdn.nur.kz/images/272x153/5c5a033cbd25c98a.jpeg?version=1\" title=\"Салтанат Калиева\"/>\n",
      "https://cdn.nur.kz/images/272x153/5c5a033cbd25c98a.jpeg?version=1\n",
      "<img alt=\"Салтанат Калиева\" class=\"post-preview-media__picture\" decoding=\"async\" sizes=\"(max-width: 755px) 97px, (max-width: 1151px) calc((100vw - 152px) / 3), 231px\" src=\"https://cdn.nur.kz/images/272x153/5c5a033cbd25c98a.jpeg?version=1\" srcset=\"https://cdn.nur.kz/images/720x405/5c5a033cbd25c98a.jpeg?version=1 720w, https://cdn.nur.kz/images/560x315/5c5a033cbd25c98a.jpeg?version=1 560w, https://cdn.nur.kz/images/272x153/5c5a033cbd25c98a.jpeg?version=1 272w, https://cdn.nur.kz/images/176x99/5c5a033cbd25c98a.jpeg?version=1 176w\" title=\"Салтанат Калиева\"/>\n",
      "https://cdn.nur.kz/images/272x153/5c5a033cbd25c98a.jpeg?version=1\n",
      "<img alt=\"Аэропорт Алматы\" class=\"post-preview-media__picture lazyload\" data-sizes=\"auto\" data-srcset=\"https://cdn.nur.kz/images/1120x630/ee6e2796f3dfd2b4.jpeg?version=3 1120w, https://cdn.nur.kz/images/720x405/ee6e2796f3dfd2b4.jpeg?version=3 720w, https://cdn.nur.kz/images/560x315/ee6e2796f3dfd2b4.jpeg?version=3 560w\" decoding=\"async\" src=\"https://cdn.nur.kz/images/272x153/ee6e2796f3dfd2b4.jpeg?version=3\" title=\"Аэропорт Алматы\"/>\n",
      "https://cdn.nur.kz/images/272x153/ee6e2796f3dfd2b4.jpeg?version=3\n",
      "<img alt=\"Аэропорт Алматы\" class=\"post-preview-media__picture\" decoding=\"async\" sizes=\"(max-width: 755px) calc(100vw - 40px), (max-width: 1151px) calc(100vw - 327px), 523px\" src=\"https://cdn.nur.kz/images/272x153/ee6e2796f3dfd2b4.jpeg?version=3\" srcset=\"https://cdn.nur.kz/images/1120x630/ee6e2796f3dfd2b4.jpeg?version=3 1120w, https://cdn.nur.kz/images/720x405/ee6e2796f3dfd2b4.jpeg?version=3 720w, https://cdn.nur.kz/images/560x315/ee6e2796f3dfd2b4.jpeg?version=3 560w\" title=\"Аэропорт Алматы\"/>\n",
      "https://cdn.nur.kz/images/272x153/ee6e2796f3dfd2b4.jpeg?version=3\n",
      "<img alt=\"logo instagram\" class=\"block-social__button-icon\" loading=\"lazy\" src=\"https://www.nur.kz/nur/img/social-icons/subscribe/instagram.svg\"/>\n",
      "https://www.nur.kz/nur/img/social-icons/subscribe/instagram.svg\n",
      "<img alt=\"Трое полицейских обыскивают комнату, в ряд стоят канистры\" class=\"post-preview-media__picture lazyload\" data-sizes=\"auto\" data-srcset=\"https://cdn.nur.kz/images/720x405/2db85fea0249a3d9.jpeg?version=1 720w, https://cdn.nur.kz/images/560x315/2db85fea0249a3d9.jpeg?version=1 560w, https://cdn.nur.kz/images/272x153/2db85fea0249a3d9.jpeg?version=1 272w, https://cdn.nur.kz/images/176x99/2db85fea0249a3d9.jpeg?version=1 176w\" decoding=\"async\" src=\"https://cdn.nur.kz/images/272x153/2db85fea0249a3d9.jpeg?version=1\" title=\"Трое полицейских обыскивают комнату, в ряд стоят канистры\"/>\n",
      "https://cdn.nur.kz/images/272x153/2db85fea0249a3d9.jpeg?version=1\n",
      "<img alt=\"Трое полицейских обыскивают комнату, в ряд стоят канистры\" class=\"post-preview-media__picture\" decoding=\"async\" sizes=\"(max-width: 755px) 97px, (max-width: 1151px) calc((100vw - 152px) / 3), 231px\" src=\"https://cdn.nur.kz/images/272x153/2db85fea0249a3d9.jpeg?version=1\" srcset=\"https://cdn.nur.kz/images/720x405/2db85fea0249a3d9.jpeg?version=1 720w, https://cdn.nur.kz/images/560x315/2db85fea0249a3d9.jpeg?version=1 560w, https://cdn.nur.kz/images/272x153/2db85fea0249a3d9.jpeg?version=1 272w, https://cdn.nur.kz/images/176x99/2db85fea0249a3d9.jpeg?version=1 176w\" title=\"Трое полицейских обыскивают комнату, в ряд стоят канистры\"/>\n",
      "https://cdn.nur.kz/images/272x153/2db85fea0249a3d9.jpeg?version=1\n",
      "<img alt=\"Девушка лежит на кровати\" class=\"post-preview-media__picture lazyload\" data-sizes=\"auto\" data-srcset=\"https://cdn.nur.kz/images/720x405/f69eddb4b4073ea3.jpeg?version=1 720w, https://cdn.nur.kz/images/560x315/f69eddb4b4073ea3.jpeg?version=1 560w, https://cdn.nur.kz/images/272x153/f69eddb4b4073ea3.jpeg?version=1 272w, https://cdn.nur.kz/images/176x99/f69eddb4b4073ea3.jpeg?version=1 176w\" decoding=\"async\" src=\"https://cdn.nur.kz/images/272x153/f69eddb4b4073ea3.jpeg?version=1\" title=\"Девушка лежит на кровати\"/>\n",
      "https://cdn.nur.kz/images/272x153/f69eddb4b4073ea3.jpeg?version=1\n",
      "<img alt=\"Девушка лежит на кровати\" class=\"post-preview-media__picture\" decoding=\"async\" sizes=\"(max-width: 755px) 97px, (max-width: 1151px) calc((100vw - 152px) / 3), 231px\" src=\"https://cdn.nur.kz/images/272x153/f69eddb4b4073ea3.jpeg?version=1\" srcset=\"https://cdn.nur.kz/images/720x405/f69eddb4b4073ea3.jpeg?version=1 720w, https://cdn.nur.kz/images/560x315/f69eddb4b4073ea3.jpeg?version=1 560w, https://cdn.nur.kz/images/272x153/f69eddb4b4073ea3.jpeg?version=1 272w, https://cdn.nur.kz/images/176x99/f69eddb4b4073ea3.jpeg?version=1 176w\" title=\"Девушка лежит на кровати\"/>\n",
      "https://cdn.nur.kz/images/272x153/f69eddb4b4073ea3.jpeg?version=1\n",
      "<img alt=\"Участники беспорядков захватили военную машину в Семее\" class=\"post-preview-media__picture lazyload\" data-sizes=\"auto\" data-srcset=\"https://cdn.nur.kz/images/720x405/8e3ad70b3611f4d2.jpeg?version=1 720w, https://cdn.nur.kz/images/560x315/8e3ad70b3611f4d2.jpeg?version=1 560w, https://cdn.nur.kz/images/272x153/8e3ad70b3611f4d2.jpeg?version=1 272w, https://cdn.nur.kz/images/176x99/8e3ad70b3611f4d2.jpeg?version=1 176w\" decoding=\"async\" src=\"https://cdn.nur.kz/images/272x153/8e3ad70b3611f4d2.jpeg?version=1\" title=\"Участники беспорядков захватили военную машину в Семее\"/>\n",
      "https://cdn.nur.kz/images/272x153/8e3ad70b3611f4d2.jpeg?version=1\n",
      "<img alt=\"Участники беспорядков захватили военную машину в Семее\" class=\"post-preview-media__picture\" decoding=\"async\" sizes=\"(max-width: 755px) 97px, (max-width: 1151px) calc((100vw - 152px) / 3), 231px\" src=\"https://cdn.nur.kz/images/272x153/8e3ad70b3611f4d2.jpeg?version=1\" srcset=\"https://cdn.nur.kz/images/720x405/8e3ad70b3611f4d2.jpeg?version=1 720w, https://cdn.nur.kz/images/560x315/8e3ad70b3611f4d2.jpeg?version=1 560w, https://cdn.nur.kz/images/272x153/8e3ad70b3611f4d2.jpeg?version=1 272w, https://cdn.nur.kz/images/176x99/8e3ad70b3611f4d2.jpeg?version=1 176w\" title=\"Участники беспорядков захватили военную машину в Семее\"/>\n",
      "https://cdn.nur.kz/images/272x153/8e3ad70b3611f4d2.jpeg?version=1\n",
      "<img alt=\"Захват акимата в Актобе\" class=\"post-preview-media__picture lazyload\" data-sizes=\"auto\" data-srcset=\"https://cdn.nur.kz/images/720x405/874a8304ffda6f14.jpeg?version=1 720w, https://cdn.nur.kz/images/560x315/874a8304ffda6f14.jpeg?version=1 560w, https://cdn.nur.kz/images/272x153/874a8304ffda6f14.jpeg?version=1 272w, https://cdn.nur.kz/images/176x99/874a8304ffda6f14.jpeg?version=1 176w\" decoding=\"async\" src=\"https://cdn.nur.kz/images/272x153/874a8304ffda6f14.jpeg?version=1\" title=\"Захват акимата в Актобе\"/>\n",
      "https://cdn.nur.kz/images/272x153/874a8304ffda6f14.jpeg?version=1\n",
      "<img alt=\"Захват акимата в Актобе\" class=\"post-preview-media__picture\" decoding=\"async\" sizes=\"(max-width: 755px) 97px, (max-width: 1151px) calc((100vw - 152px) / 3), 231px\" src=\"https://cdn.nur.kz/images/272x153/874a8304ffda6f14.jpeg?version=1\" srcset=\"https://cdn.nur.kz/images/720x405/874a8304ffda6f14.jpeg?version=1 720w, https://cdn.nur.kz/images/560x315/874a8304ffda6f14.jpeg?version=1 560w, https://cdn.nur.kz/images/272x153/874a8304ffda6f14.jpeg?version=1 272w, https://cdn.nur.kz/images/176x99/874a8304ffda6f14.jpeg?version=1 176w\" title=\"Захват акимата в Актобе\"/>\n",
      "https://cdn.nur.kz/images/272x153/874a8304ffda6f14.jpeg?version=1\n",
      "<img alt=\"Корзинка с куриными яйцами\" class=\"post-preview-media__picture lazyload\" data-sizes=\"auto\" data-srcset=\"https://cdn.nur.kz/images/720x405/b86b422edbfa777b.jpeg?version=1 720w, https://cdn.nur.kz/images/560x315/b86b422edbfa777b.jpeg?version=1 560w, https://cdn.nur.kz/images/272x153/b86b422edbfa777b.jpeg?version=1 272w, https://cdn.nur.kz/images/176x99/b86b422edbfa777b.jpeg?version=1 176w\" decoding=\"async\" src=\"https://cdn.nur.kz/images/272x153/b86b422edbfa777b.jpeg?version=1\" title=\"Корзинка с куриными яйцами\"/>\n",
      "https://cdn.nur.kz/images/272x153/b86b422edbfa777b.jpeg?version=1\n",
      "<img alt=\"Корзинка с куриными яйцами\" class=\"post-preview-media__picture\" decoding=\"async\" sizes=\"(max-width: 755px) 97px, (max-width: 1151px) calc((100vw - 152px) / 3), 231px\" src=\"https://cdn.nur.kz/images/272x153/b86b422edbfa777b.jpeg?version=1\" srcset=\"https://cdn.nur.kz/images/720x405/b86b422edbfa777b.jpeg?version=1 720w, https://cdn.nur.kz/images/560x315/b86b422edbfa777b.jpeg?version=1 560w, https://cdn.nur.kz/images/272x153/b86b422edbfa777b.jpeg?version=1 272w, https://cdn.nur.kz/images/176x99/b86b422edbfa777b.jpeg?version=1 176w\" title=\"Корзинка с куриными яйцами\"/>\n",
      "https://cdn.nur.kz/images/272x153/b86b422edbfa777b.jpeg?version=1\n",
      "<img alt=\"Инсульновый шприц\" class=\"post-preview-media__picture lazyload\" data-sizes=\"auto\" data-srcset=\"https://cdn.nur.kz/images/720x405/747c64784a1f9024.jpeg?version=1 720w, https://cdn.nur.kz/images/560x315/747c64784a1f9024.jpeg?version=1 560w, https://cdn.nur.kz/images/272x153/747c64784a1f9024.jpeg?version=1 272w, https://cdn.nur.kz/images/176x99/747c64784a1f9024.jpeg?version=1 176w\" decoding=\"async\" src=\"https://cdn.nur.kz/images/272x153/747c64784a1f9024.jpeg?version=1\" title=\"Инсульновый шприц\"/>\n",
      "https://cdn.nur.kz/images/272x153/747c64784a1f9024.jpeg?version=1\n",
      "<img alt=\"Инсульновый шприц\" class=\"post-preview-media__picture\" decoding=\"async\" sizes=\"(max-width: 755px) 97px, (max-width: 1151px) calc((100vw - 152px) / 3), 231px\" src=\"https://cdn.nur.kz/images/272x153/747c64784a1f9024.jpeg?version=1\" srcset=\"https://cdn.nur.kz/images/720x405/747c64784a1f9024.jpeg?version=1 720w, https://cdn.nur.kz/images/560x315/747c64784a1f9024.jpeg?version=1 560w, https://cdn.nur.kz/images/272x153/747c64784a1f9024.jpeg?version=1 272w, https://cdn.nur.kz/images/176x99/747c64784a1f9024.jpeg?version=1 176w\" title=\"Инсульновый шприц\"/>\n",
      "https://cdn.nur.kz/images/272x153/747c64784a1f9024.jpeg?version=1\n",
      "<img alt=\"Девушка в сером свитере держит красное сердце\" class=\"post-preview-media__picture lazyload\" data-sizes=\"auto\" data-srcset=\"https://cdn.nur.kz/images/720x405/45b7dfe450b7210f.jpeg?version=1 720w, https://cdn.nur.kz/images/560x315/45b7dfe450b7210f.jpeg?version=1 560w, https://cdn.nur.kz/images/272x153/45b7dfe450b7210f.jpeg?version=1 272w, https://cdn.nur.kz/images/176x99/45b7dfe450b7210f.jpeg?version=1 176w\" decoding=\"async\" src=\"https://cdn.nur.kz/images/272x153/45b7dfe450b7210f.jpeg?version=1\" title=\"Девушка в сером свитере держит красное сердце\"/>\n",
      "https://cdn.nur.kz/images/272x153/45b7dfe450b7210f.jpeg?version=1\n",
      "<img alt=\"Девушка в сером свитере держит красное сердце\" class=\"post-preview-media__picture\" decoding=\"async\" sizes=\"(max-width: 755px) 97px, (max-width: 1151px) calc((100vw - 152px) / 3), 231px\" src=\"https://cdn.nur.kz/images/272x153/45b7dfe450b7210f.jpeg?version=1\" srcset=\"https://cdn.nur.kz/images/720x405/45b7dfe450b7210f.jpeg?version=1 720w, https://cdn.nur.kz/images/560x315/45b7dfe450b7210f.jpeg?version=1 560w, https://cdn.nur.kz/images/272x153/45b7dfe450b7210f.jpeg?version=1 272w, https://cdn.nur.kz/images/176x99/45b7dfe450b7210f.jpeg?version=1 176w\" title=\"Девушка в сером свитере держит красное сердце\"/>\n",
      "https://cdn.nur.kz/images/272x153/45b7dfe450b7210f.jpeg?version=1\n",
      "<img alt=\"Девушка спит на кровати ночью\" class=\"post-preview-media__picture lazyload\" data-sizes=\"auto\" data-srcset=\"https://cdn.nur.kz/images/720x405/0bc8e21886472517.jpeg?version=1 720w, https://cdn.nur.kz/images/560x315/0bc8e21886472517.jpeg?version=1 560w, https://cdn.nur.kz/images/272x153/0bc8e21886472517.jpeg?version=1 272w, https://cdn.nur.kz/images/176x99/0bc8e21886472517.jpeg?version=1 176w\" decoding=\"async\" src=\"https://cdn.nur.kz/images/272x153/0bc8e21886472517.jpeg?version=1\" title=\"Девушка спит на кровати ночью\"/>\n",
      "https://cdn.nur.kz/images/272x153/0bc8e21886472517.jpeg?version=1\n",
      "<img alt=\"Девушка спит на кровати ночью\" class=\"post-preview-media__picture\" decoding=\"async\" sizes=\"(max-width: 755px) 97px, (max-width: 1151px) calc((100vw - 152px) / 3), 231px\" src=\"https://cdn.nur.kz/images/272x153/0bc8e21886472517.jpeg?version=1\" srcset=\"https://cdn.nur.kz/images/720x405/0bc8e21886472517.jpeg?version=1 720w, https://cdn.nur.kz/images/560x315/0bc8e21886472517.jpeg?version=1 560w, https://cdn.nur.kz/images/272x153/0bc8e21886472517.jpeg?version=1 272w, https://cdn.nur.kz/images/176x99/0bc8e21886472517.jpeg?version=1 176w\" title=\"Девушка спит на кровати ночью\"/>\n",
      "https://cdn.nur.kz/images/272x153/0bc8e21886472517.jpeg?version=1\n",
      "<img alt='Статуэтки \"Оскар\"' class=\"post-preview-media__picture lazyload\" data-sizes=\"auto\" data-srcset=\"https://cdn.nur.kz/images/1120x630/2af0fd18caede83e.jpeg?version=1 1120w, https://cdn.nur.kz/images/720x405/2af0fd18caede83e.jpeg?version=1 720w, https://cdn.nur.kz/images/560x315/2af0fd18caede83e.jpeg?version=1 560w\" decoding=\"async\" src=\"https://cdn.nur.kz/images/272x153/2af0fd18caede83e.jpeg?version=1\" title='Статуэтки \"Оскар\"'/>\n",
      "https://cdn.nur.kz/images/272x153/2af0fd18caede83e.jpeg?version=1\n",
      "<img alt='Статуэтки \"Оскар\"' class=\"post-preview-media__picture\" decoding=\"async\" sizes=\"(max-width: 755px) calc(100vw - 40px), (max-width: 1151px) calc(100vw - 327px), 523px\" src=\"https://cdn.nur.kz/images/272x153/2af0fd18caede83e.jpeg?version=1\" srcset=\"https://cdn.nur.kz/images/1120x630/2af0fd18caede83e.jpeg?version=1 1120w, https://cdn.nur.kz/images/720x405/2af0fd18caede83e.jpeg?version=1 720w, https://cdn.nur.kz/images/560x315/2af0fd18caede83e.jpeg?version=1 560w\" title='Статуэтки \"Оскар\"'/>\n",
      "https://cdn.nur.kz/images/272x153/2af0fd18caede83e.jpeg?version=1\n",
      "<img alt=\"Дилара Аронова\" class=\"block-social__info-image lazyload\" data-src=\"https://cdn.nur.kz/static/newsletter/aronova.png\" src=\"https://www.nur.kz/nur/img/placeholder-1x1.gif?v=2\"/>\n",
      "https://www.nur.kz/nur/img/placeholder-1x1.gif?v=2\n",
      "<img alt=\"Паб Ye Olde Fighting Cocks\" class=\"post-preview-media__picture lazyload\" data-sizes=\"auto\" data-srcset=\"https://cdn.nur.kz/images/720x405/7bc66f514c405f64.jpeg?version=1 720w, https://cdn.nur.kz/images/560x315/7bc66f514c405f64.jpeg?version=1 560w, https://cdn.nur.kz/images/272x153/7bc66f514c405f64.jpeg?version=1 272w, https://cdn.nur.kz/images/176x99/7bc66f514c405f64.jpeg?version=1 176w\" decoding=\"async\" src=\"https://cdn.nur.kz/images/272x153/7bc66f514c405f64.jpeg?version=1\" title=\"Паб Ye Olde Fighting Cocks\"/>\n",
      "https://cdn.nur.kz/images/272x153/7bc66f514c405f64.jpeg?version=1\n",
      "<img alt=\"Паб Ye Olde Fighting Cocks\" class=\"post-preview-media__picture\" decoding=\"async\" sizes=\"(max-width: 755px) 97px, (max-width: 1151px) calc((100vw - 152px) / 3), 231px\" src=\"https://cdn.nur.kz/images/272x153/7bc66f514c405f64.jpeg?version=1\" srcset=\"https://cdn.nur.kz/images/720x405/7bc66f514c405f64.jpeg?version=1 720w, https://cdn.nur.kz/images/560x315/7bc66f514c405f64.jpeg?version=1 560w, https://cdn.nur.kz/images/272x153/7bc66f514c405f64.jpeg?version=1 272w, https://cdn.nur.kz/images/176x99/7bc66f514c405f64.jpeg?version=1 176w\" title=\"Паб Ye Olde Fighting Cocks\"/>\n",
      "https://cdn.nur.kz/images/272x153/7bc66f514c405f64.jpeg?version=1\n",
      "<img alt=\"Королева, Меган Маркл и принц Гарри\" class=\"post-preview-media__picture lazyload\" data-sizes=\"auto\" data-srcset=\"https://cdn.nur.kz/images/720x405/acbcf0fa70b08257.jpeg?version=1 720w, https://cdn.nur.kz/images/560x315/acbcf0fa70b08257.jpeg?version=1 560w, https://cdn.nur.kz/images/272x153/acbcf0fa70b08257.jpeg?version=1 272w, https://cdn.nur.kz/images/176x99/acbcf0fa70b08257.jpeg?version=1 176w\" decoding=\"async\" src=\"https://cdn.nur.kz/images/272x153/acbcf0fa70b08257.jpeg?version=1\" title=\"Королева, Меган Маркл и принц Гарри\"/>\n",
      "https://cdn.nur.kz/images/272x153/acbcf0fa70b08257.jpeg?version=1\n",
      "<img alt=\"Королева, Меган Маркл и принц Гарри\" class=\"post-preview-media__picture\" decoding=\"async\" sizes=\"(max-width: 755px) 97px, (max-width: 1151px) calc((100vw - 152px) / 3), 231px\" src=\"https://cdn.nur.kz/images/272x153/acbcf0fa70b08257.jpeg?version=1\" srcset=\"https://cdn.nur.kz/images/720x405/acbcf0fa70b08257.jpeg?version=1 720w, https://cdn.nur.kz/images/560x315/acbcf0fa70b08257.jpeg?version=1 560w, https://cdn.nur.kz/images/272x153/acbcf0fa70b08257.jpeg?version=1 272w, https://cdn.nur.kz/images/176x99/acbcf0fa70b08257.jpeg?version=1 176w\" title=\"Королева, Меган Маркл и принц Гарри\"/>\n",
      "https://cdn.nur.kz/images/272x153/acbcf0fa70b08257.jpeg?version=1\n",
      "<img alt=\"Талула Уиллис\" class=\"post-preview-media__picture lazyload\" data-sizes=\"auto\" data-srcset=\"https://cdn.nur.kz/images/720x405/4cb2849da060f29a.jpeg?version=1 720w, https://cdn.nur.kz/images/560x315/4cb2849da060f29a.jpeg?version=1 560w, https://cdn.nur.kz/images/272x153/4cb2849da060f29a.jpeg?version=1 272w, https://cdn.nur.kz/images/176x99/4cb2849da060f29a.jpeg?version=1 176w\" decoding=\"async\" src=\"https://cdn.nur.kz/images/272x153/4cb2849da060f29a.jpeg?version=1\" title=\"Талула Уиллис\"/>\n",
      "https://cdn.nur.kz/images/272x153/4cb2849da060f29a.jpeg?version=1\n",
      "<img alt=\"Талула Уиллис\" class=\"post-preview-media__picture\" decoding=\"async\" sizes=\"(max-width: 755px) 97px, (max-width: 1151px) calc((100vw - 152px) / 3), 231px\" src=\"https://cdn.nur.kz/images/272x153/4cb2849da060f29a.jpeg?version=1\" srcset=\"https://cdn.nur.kz/images/720x405/4cb2849da060f29a.jpeg?version=1 720w, https://cdn.nur.kz/images/560x315/4cb2849da060f29a.jpeg?version=1 560w, https://cdn.nur.kz/images/272x153/4cb2849da060f29a.jpeg?version=1 272w, https://cdn.nur.kz/images/176x99/4cb2849da060f29a.jpeg?version=1 176w\" title=\"Талула Уиллис\"/>\n",
      "https://cdn.nur.kz/images/272x153/4cb2849da060f29a.jpeg?version=1\n",
      "<img alt=\"Мужчина укутался в одеяло и пьет чай\" class=\"post-preview-media__picture lazyload\" data-sizes=\"auto\" data-srcset=\"https://cdn.nur.kz/images/720x405/5011d8fcdc442f9a.jpeg?version=1 720w, https://cdn.nur.kz/images/560x315/5011d8fcdc442f9a.jpeg?version=1 560w, https://cdn.nur.kz/images/272x153/5011d8fcdc442f9a.jpeg?version=1 272w, https://cdn.nur.kz/images/176x99/5011d8fcdc442f9a.jpeg?version=1 176w\" decoding=\"async\" src=\"https://cdn.nur.kz/images/272x153/5011d8fcdc442f9a.jpeg?version=1\" title=\"Мужчина укутался в одеяло и пьет чай\"/>\n",
      "https://cdn.nur.kz/images/272x153/5011d8fcdc442f9a.jpeg?version=1\n",
      "<img alt=\"Мужчина укутался в одеяло и пьет чай\" class=\"post-preview-media__picture\" decoding=\"async\" sizes=\"(max-width: 755px) 97px, (max-width: 1151px) calc((100vw - 152px) / 3), 231px\" src=\"https://cdn.nur.kz/images/272x153/5011d8fcdc442f9a.jpeg?version=1\" srcset=\"https://cdn.nur.kz/images/720x405/5011d8fcdc442f9a.jpeg?version=1 720w, https://cdn.nur.kz/images/560x315/5011d8fcdc442f9a.jpeg?version=1 560w, https://cdn.nur.kz/images/272x153/5011d8fcdc442f9a.jpeg?version=1 272w, https://cdn.nur.kz/images/176x99/5011d8fcdc442f9a.jpeg?version=1 176w\" title=\"Мужчина укутался в одеяло и пьет чай\"/>\n",
      "https://cdn.nur.kz/images/272x153/5011d8fcdc442f9a.jpeg?version=1\n",
      "<img alt=\"Обрушение здания\" class=\"post-preview-media__picture lazyload\" data-sizes=\"auto\" data-srcset=\"https://cdn.nur.kz/images/1120x630/88ca404b7ee69f68.jpeg?version=1 1120w, https://cdn.nur.kz/images/720x405/88ca404b7ee69f68.jpeg?version=1 720w, https://cdn.nur.kz/images/560x315/88ca404b7ee69f68.jpeg?version=1 560w\" decoding=\"async\" src=\"https://cdn.nur.kz/images/272x153/88ca404b7ee69f68.jpeg?version=1\" title=\"Обрушение здания\"/>\n",
      "https://cdn.nur.kz/images/272x153/88ca404b7ee69f68.jpeg?version=1\n",
      "<img alt=\"Обрушение здания\" class=\"post-preview-media__picture\" decoding=\"async\" sizes=\"(max-width: 755px) calc(100vw - 40px), (max-width: 1151px) calc(100vw - 327px), 523px\" src=\"https://cdn.nur.kz/images/272x153/88ca404b7ee69f68.jpeg?version=1\" srcset=\"https://cdn.nur.kz/images/1120x630/88ca404b7ee69f68.jpeg?version=1 1120w, https://cdn.nur.kz/images/720x405/88ca404b7ee69f68.jpeg?version=1 720w, https://cdn.nur.kz/images/560x315/88ca404b7ee69f68.jpeg?version=1 560w\" title=\"Обрушение здания\"/>\n",
      "https://cdn.nur.kz/images/272x153/88ca404b7ee69f68.jpeg?version=1\n",
      "<img alt=\"play icon\" class=\"block-highlighted__icon\" loading=\"lazy\" src=\"https://www.nur.kz/nur/img/icons/media-play.svg\"/>\n",
      "https://www.nur.kz/nur/img/icons/media-play.svg\n",
      "<img alt=\"Мужчина бросает парня в арык\" class=\"post-preview-media__picture lazyload\" data-sizes=\"auto\" data-srcset=\"https://cdn.nur.kz/images/1120x630/0c1b4f9d9404cb87.jpeg?version=1 1120w, https://cdn.nur.kz/images/720x405/0c1b4f9d9404cb87.jpeg?version=1 720w, https://cdn.nur.kz/images/560x315/0c1b4f9d9404cb87.jpeg?version=1 560w\" decoding=\"async\" src=\"https://cdn.nur.kz/images/272x153/0c1b4f9d9404cb87.jpeg?version=1\" title=\"Мужчина бросает парня в арык\">\n",
      "</img>\n",
      "https://cdn.nur.kz/images/272x153/0c1b4f9d9404cb87.jpeg?version=1\n",
      "<img alt=\"Мужчина бросает парня в арык\" class=\"post-preview-media__picture\" decoding=\"async\" sizes=\"(max-width: 755px) calc(100vw - 40px), (max-width: 1151px) calc(100vw - 327px), 523px\" src=\"https://cdn.nur.kz/images/272x153/0c1b4f9d9404cb87.jpeg?version=1\" srcset=\"https://cdn.nur.kz/images/1120x630/0c1b4f9d9404cb87.jpeg?version=1 1120w, https://cdn.nur.kz/images/720x405/0c1b4f9d9404cb87.jpeg?version=1 720w, https://cdn.nur.kz/images/560x315/0c1b4f9d9404cb87.jpeg?version=1 560w\" title=\"Мужчина бросает парня в арык\"/>\n",
      "https://cdn.nur.kz/images/272x153/0c1b4f9d9404cb87.jpeg?version=1\n",
      "<img alt=\"play icon\" class=\"block-highlighted__icon\" loading=\"lazy\" src=\"https://www.nur.kz/nur/img/icons/media-play.svg\"/>\n",
      "https://www.nur.kz/nur/img/icons/media-play.svg\n",
      "<img alt='Табличка \"Такси\" на машине' class=\"post-preview-media__picture lazyload\" data-sizes=\"auto\" data-srcset=\"https://cdn.nur.kz/images/1120x630/8cc59aa6a93cda25.jpeg?version=1 1120w, https://cdn.nur.kz/images/720x405/8cc59aa6a93cda25.jpeg?version=1 720w, https://cdn.nur.kz/images/560x315/8cc59aa6a93cda25.jpeg?version=1 560w\" decoding=\"async\" src=\"https://cdn.nur.kz/images/272x153/8cc59aa6a93cda25.jpeg?version=1\" title='Табличка \"Такси\" на машине'>\n",
      "</img>\n",
      "https://cdn.nur.kz/images/272x153/8cc59aa6a93cda25.jpeg?version=1\n",
      "<img alt='Табличка \"Такси\" на машине' class=\"post-preview-media__picture\" decoding=\"async\" sizes=\"(max-width: 755px) calc(100vw - 40px), (max-width: 1151px) calc(100vw - 327px), 523px\" src=\"https://cdn.nur.kz/images/272x153/8cc59aa6a93cda25.jpeg?version=1\" srcset=\"https://cdn.nur.kz/images/1120x630/8cc59aa6a93cda25.jpeg?version=1 1120w, https://cdn.nur.kz/images/720x405/8cc59aa6a93cda25.jpeg?version=1 720w, https://cdn.nur.kz/images/560x315/8cc59aa6a93cda25.jpeg?version=1 560w\" title='Табличка \"Такси\" на машине'/>\n",
      "https://cdn.nur.kz/images/272x153/8cc59aa6a93cda25.jpeg?version=1\n",
      "<img alt=\"play icon\" class=\"block-highlighted__icon\" loading=\"lazy\" src=\"https://www.nur.kz/nur/img/icons/media-play.svg\"/>\n",
      "https://www.nur.kz/nur/img/icons/media-play.svg\n",
      "<img alt=\"Владимир Жириновский\" class=\"post-preview-media__picture lazyload\" data-sizes=\"auto\" data-srcset=\"https://cdn.nur.kz/images/1120x630/00d62d6aaa4c0477.jpeg?version=1 1120w, https://cdn.nur.kz/images/720x405/00d62d6aaa4c0477.jpeg?version=1 720w, https://cdn.nur.kz/images/560x315/00d62d6aaa4c0477.jpeg?version=1 560w\" decoding=\"async\" src=\"https://cdn.nur.kz/images/272x153/00d62d6aaa4c0477.jpeg?version=1\" title=\"Владимир Жириновский\">\n",
      "</img>\n",
      "https://cdn.nur.kz/images/272x153/00d62d6aaa4c0477.jpeg?version=1\n",
      "<img alt=\"Владимир Жириновский\" class=\"post-preview-media__picture\" decoding=\"async\" sizes=\"(max-width: 755px) calc(100vw - 40px), (max-width: 1151px) calc(100vw - 327px), 523px\" src=\"https://cdn.nur.kz/images/272x153/00d62d6aaa4c0477.jpeg?version=1\" srcset=\"https://cdn.nur.kz/images/1120x630/00d62d6aaa4c0477.jpeg?version=1 1120w, https://cdn.nur.kz/images/720x405/00d62d6aaa4c0477.jpeg?version=1 720w, https://cdn.nur.kz/images/560x315/00d62d6aaa4c0477.jpeg?version=1 560w\" title=\"Владимир Жириновский\"/>\n",
      "https://cdn.nur.kz/images/272x153/00d62d6aaa4c0477.jpeg?version=1\n",
      "<img alt=\"logo telegram\" class=\"block-social__button-icon\" loading=\"lazy\" src=\"https://www.nur.kz/nur/img/social-icons/subscribe/telegram.svg\"/>\n",
      "https://www.nur.kz/nur/img/social-icons/subscribe/telegram.svg\n",
      "<img alt=\"Билл Гейтс напишет книгу о предотвращении пандемий\" class=\"post-preview-media__picture lazyload\" data-sizes=\"auto\" data-srcset=\"https://cdn.nur.kz/images/720x405/d46c5f747c774348.jpeg?version=1 720w, https://cdn.nur.kz/images/560x315/d46c5f747c774348.jpeg?version=1 560w, https://cdn.nur.kz/images/272x153/d46c5f747c774348.jpeg?version=1 272w, https://cdn.nur.kz/images/176x99/d46c5f747c774348.jpeg?version=1 176w\" decoding=\"async\" src=\"https://cdn.nur.kz/images/272x153/d46c5f747c774348.jpeg?version=1\" title=\"Билл Гейтс напишет книгу о предотвращении пандемий\"/>\n",
      "https://cdn.nur.kz/images/272x153/d46c5f747c774348.jpeg?version=1\n",
      "<img alt=\"Билл Гейтс напишет книгу о предотвращении пандемий\" class=\"post-preview-media__picture\" decoding=\"async\" sizes=\"(max-width: 755px) 97px, (max-width: 1151px) calc((100vw - 152px) / 3), 231px\" src=\"https://cdn.nur.kz/images/272x153/d46c5f747c774348.jpeg?version=1\" srcset=\"https://cdn.nur.kz/images/720x405/d46c5f747c774348.jpeg?version=1 720w, https://cdn.nur.kz/images/560x315/d46c5f747c774348.jpeg?version=1 560w, https://cdn.nur.kz/images/272x153/d46c5f747c774348.jpeg?version=1 272w, https://cdn.nur.kz/images/176x99/d46c5f747c774348.jpeg?version=1 176w\" title=\"Билл Гейтс напишет книгу о предотвращении пандемий\"/>\n",
      "https://cdn.nur.kz/images/272x153/d46c5f747c774348.jpeg?version=1\n",
      "<img alt=\"Боевик Талибана\" class=\"post-preview-media__picture lazyload\" data-sizes=\"auto\" data-srcset=\"https://cdn.nur.kz/images/720x405/5c8673bb70ca97c2.jpeg?version=1 720w, https://cdn.nur.kz/images/560x315/5c8673bb70ca97c2.jpeg?version=1 560w, https://cdn.nur.kz/images/272x153/5c8673bb70ca97c2.jpeg?version=1 272w, https://cdn.nur.kz/images/176x99/5c8673bb70ca97c2.jpeg?version=1 176w\" decoding=\"async\" src=\"https://cdn.nur.kz/images/272x153/5c8673bb70ca97c2.jpeg?version=1\" title=\"Боевик Талибана\"/>\n",
      "https://cdn.nur.kz/images/272x153/5c8673bb70ca97c2.jpeg?version=1\n",
      "<img alt=\"Боевик Талибана\" class=\"post-preview-media__picture\" decoding=\"async\" sizes=\"(max-width: 755px) 97px, (max-width: 1151px) calc((100vw - 152px) / 3), 231px\" src=\"https://cdn.nur.kz/images/272x153/5c8673bb70ca97c2.jpeg?version=1\" srcset=\"https://cdn.nur.kz/images/720x405/5c8673bb70ca97c2.jpeg?version=1 720w, https://cdn.nur.kz/images/560x315/5c8673bb70ca97c2.jpeg?version=1 560w, https://cdn.nur.kz/images/272x153/5c8673bb70ca97c2.jpeg?version=1 272w, https://cdn.nur.kz/images/176x99/5c8673bb70ca97c2.jpeg?version=1 176w\" title=\"Боевик Талибана\"/>\n",
      "https://cdn.nur.kz/images/272x153/5c8673bb70ca97c2.jpeg?version=1\n",
      "<img alt=\"Ракета-носитель Falcon X со спутниками Starlink\" class=\"post-preview-media__picture lazyload\" data-sizes=\"auto\" data-srcset=\"https://cdn.nur.kz/images/720x405/b5d13d33fcf0b31a.jpeg?version=2 720w, https://cdn.nur.kz/images/560x315/b5d13d33fcf0b31a.jpeg?version=2 560w, https://cdn.nur.kz/images/272x153/b5d13d33fcf0b31a.jpeg?version=2 272w, https://cdn.nur.kz/images/176x99/b5d13d33fcf0b31a.jpeg?version=2 176w\" decoding=\"async\" src=\"https://cdn.nur.kz/images/272x153/b5d13d33fcf0b31a.jpeg?version=2\" title=\"Ракета-носитель Falcon X со спутниками Starlink\"/>\n",
      "https://cdn.nur.kz/images/272x153/b5d13d33fcf0b31a.jpeg?version=2\n",
      "<img alt=\"Ракета-носитель Falcon X со спутниками Starlink\" class=\"post-preview-media__picture\" decoding=\"async\" sizes=\"(max-width: 755px) 97px, (max-width: 1151px) calc((100vw - 152px) / 3), 231px\" src=\"https://cdn.nur.kz/images/272x153/b5d13d33fcf0b31a.jpeg?version=2\" srcset=\"https://cdn.nur.kz/images/720x405/b5d13d33fcf0b31a.jpeg?version=2 720w, https://cdn.nur.kz/images/560x315/b5d13d33fcf0b31a.jpeg?version=2 560w, https://cdn.nur.kz/images/272x153/b5d13d33fcf0b31a.jpeg?version=2 272w, https://cdn.nur.kz/images/176x99/b5d13d33fcf0b31a.jpeg?version=2 176w\" title=\"Ракета-носитель Falcon X со спутниками Starlink\"/>\n",
      "https://cdn.nur.kz/images/272x153/b5d13d33fcf0b31a.jpeg?version=2\n",
      "<img alt=\"Дональд Трамп\" class=\"post-preview-media__picture lazyload\" data-sizes=\"auto\" data-srcset=\"https://cdn.nur.kz/images/720x405/3d685b4b43eddcfd.jpeg?version=1 720w, https://cdn.nur.kz/images/560x315/3d685b4b43eddcfd.jpeg?version=1 560w, https://cdn.nur.kz/images/272x153/3d685b4b43eddcfd.jpeg?version=1 272w, https://cdn.nur.kz/images/176x99/3d685b4b43eddcfd.jpeg?version=1 176w\" decoding=\"async\" src=\"https://cdn.nur.kz/images/272x153/3d685b4b43eddcfd.jpeg?version=1\" title=\"Дональд Трамп\"/>\n",
      "https://cdn.nur.kz/images/272x153/3d685b4b43eddcfd.jpeg?version=1\n",
      "<img alt=\"Дональд Трамп\" class=\"post-preview-media__picture\" decoding=\"async\" sizes=\"(max-width: 755px) 97px, (max-width: 1151px) calc((100vw - 152px) / 3), 231px\" src=\"https://cdn.nur.kz/images/272x153/3d685b4b43eddcfd.jpeg?version=1\" srcset=\"https://cdn.nur.kz/images/720x405/3d685b4b43eddcfd.jpeg?version=1 720w, https://cdn.nur.kz/images/560x315/3d685b4b43eddcfd.jpeg?version=1 560w, https://cdn.nur.kz/images/272x153/3d685b4b43eddcfd.jpeg?version=1 272w, https://cdn.nur.kz/images/176x99/3d685b4b43eddcfd.jpeg?version=1 176w\" title=\"Дональд Трамп\"/>\n",
      "https://cdn.nur.kz/images/272x153/3d685b4b43eddcfd.jpeg?version=1\n",
      "<img alt=\"Мясо по-французски на тарелке\" class=\"post-preview-media__picture lazyload\" data-sizes=\"auto\" data-srcset=\"https://cdn.nur.kz/images/720x405/bae443c4e21334de.jpeg?version=1 720w, https://cdn.nur.kz/images/560x315/bae443c4e21334de.jpeg?version=1 560w, https://cdn.nur.kz/images/272x153/bae443c4e21334de.jpeg?version=1 272w, https://cdn.nur.kz/images/176x99/bae443c4e21334de.jpeg?version=1 176w\" decoding=\"async\" src=\"https://cdn.nur.kz/images/272x153/bae443c4e21334de.jpeg?version=1\" title=\"Мясо по-французски на тарелке\"/>\n",
      "https://cdn.nur.kz/images/272x153/bae443c4e21334de.jpeg?version=1\n",
      "<img alt=\"Мясо по-французски на тарелке\" class=\"post-preview-media__picture\" decoding=\"async\" sizes=\"(max-width: 755px) 97px, (max-width: 1151px) calc((100vw - 152px) / 3), 231px\" src=\"https://cdn.nur.kz/images/272x153/bae443c4e21334de.jpeg?version=1\" srcset=\"https://cdn.nur.kz/images/720x405/bae443c4e21334de.jpeg?version=1 720w, https://cdn.nur.kz/images/560x315/bae443c4e21334de.jpeg?version=1 560w, https://cdn.nur.kz/images/272x153/bae443c4e21334de.jpeg?version=1 272w, https://cdn.nur.kz/images/176x99/bae443c4e21334de.jpeg?version=1 176w\" title=\"Мясо по-французски на тарелке\"/>\n",
      "https://cdn.nur.kz/images/272x153/bae443c4e21334de.jpeg?version=1\n",
      "<img alt=\"Курица по-китайски в тарелке\" class=\"post-preview-media__picture lazyload\" data-sizes=\"auto\" data-srcset=\"https://cdn.nur.kz/images/720x405/dad019f6f9b244ea.jpeg?version=1 720w, https://cdn.nur.kz/images/560x315/dad019f6f9b244ea.jpeg?version=1 560w, https://cdn.nur.kz/images/272x153/dad019f6f9b244ea.jpeg?version=1 272w, https://cdn.nur.kz/images/176x99/dad019f6f9b244ea.jpeg?version=1 176w\" decoding=\"async\" src=\"https://cdn.nur.kz/images/272x153/dad019f6f9b244ea.jpeg?version=1\" title=\"Курица по-китайски в тарелке\"/>\n",
      "https://cdn.nur.kz/images/272x153/dad019f6f9b244ea.jpeg?version=1\n",
      "<img alt=\"Курица по-китайски в тарелке\" class=\"post-preview-media__picture\" decoding=\"async\" sizes=\"(max-width: 755px) 97px, (max-width: 1151px) calc((100vw - 152px) / 3), 231px\" src=\"https://cdn.nur.kz/images/272x153/dad019f6f9b244ea.jpeg?version=1\" srcset=\"https://cdn.nur.kz/images/720x405/dad019f6f9b244ea.jpeg?version=1 720w, https://cdn.nur.kz/images/560x315/dad019f6f9b244ea.jpeg?version=1 560w, https://cdn.nur.kz/images/272x153/dad019f6f9b244ea.jpeg?version=1 272w, https://cdn.nur.kz/images/176x99/dad019f6f9b244ea.jpeg?version=1 176w\" title=\"Курица по-китайски в тарелке\"/>\n",
      "https://cdn.nur.kz/images/272x153/dad019f6f9b244ea.jpeg?version=1\n",
      "<img alt=\"Готовый куриный суп с лапшой\" class=\"post-preview-media__picture lazyload\" data-sizes=\"auto\" data-srcset=\"https://cdn.nur.kz/images/720x405/12485fed98c7fedf.jpeg?version=1 720w, https://cdn.nur.kz/images/560x315/12485fed98c7fedf.jpeg?version=1 560w, https://cdn.nur.kz/images/272x153/12485fed98c7fedf.jpeg?version=1 272w, https://cdn.nur.kz/images/176x99/12485fed98c7fedf.jpeg?version=1 176w\" decoding=\"async\" src=\"https://cdn.nur.kz/images/272x153/12485fed98c7fedf.jpeg?version=1\" title=\"Готовый куриный суп с лапшой\"/>\n",
      "https://cdn.nur.kz/images/272x153/12485fed98c7fedf.jpeg?version=1\n",
      "<img alt=\"Готовый куриный суп с лапшой\" class=\"post-preview-media__picture\" decoding=\"async\" sizes=\"(max-width: 755px) 97px, (max-width: 1151px) calc((100vw - 152px) / 3), 231px\" src=\"https://cdn.nur.kz/images/272x153/12485fed98c7fedf.jpeg?version=1\" srcset=\"https://cdn.nur.kz/images/720x405/12485fed98c7fedf.jpeg?version=1 720w, https://cdn.nur.kz/images/560x315/12485fed98c7fedf.jpeg?version=1 560w, https://cdn.nur.kz/images/272x153/12485fed98c7fedf.jpeg?version=1 272w, https://cdn.nur.kz/images/176x99/12485fed98c7fedf.jpeg?version=1 176w\" title=\"Готовый куриный суп с лапшой\"/>\n",
      "https://cdn.nur.kz/images/272x153/12485fed98c7fedf.jpeg?version=1\n",
      "<img alt=\"Мясной пирог на кефире испечен\" class=\"post-preview-media__picture lazyload\" data-sizes=\"auto\" data-srcset=\"https://cdn.nur.kz/images/720x405/60d3932203f8c8f3.jpeg?version=1 720w, https://cdn.nur.kz/images/560x315/60d3932203f8c8f3.jpeg?version=1 560w, https://cdn.nur.kz/images/272x153/60d3932203f8c8f3.jpeg?version=1 272w, https://cdn.nur.kz/images/176x99/60d3932203f8c8f3.jpeg?version=1 176w\" decoding=\"async\" src=\"https://cdn.nur.kz/images/272x153/60d3932203f8c8f3.jpeg?version=1\" title=\"Мясной пирог на кефире испечен\"/>\n",
      "https://cdn.nur.kz/images/272x153/60d3932203f8c8f3.jpeg?version=1\n",
      "<img alt=\"Мясной пирог на кефире испечен\" class=\"post-preview-media__picture\" decoding=\"async\" sizes=\"(max-width: 755px) 97px, (max-width: 1151px) calc((100vw - 152px) / 3), 231px\" src=\"https://cdn.nur.kz/images/272x153/60d3932203f8c8f3.jpeg?version=1\" srcset=\"https://cdn.nur.kz/images/720x405/60d3932203f8c8f3.jpeg?version=1 720w, https://cdn.nur.kz/images/560x315/60d3932203f8c8f3.jpeg?version=1 560w, https://cdn.nur.kz/images/272x153/60d3932203f8c8f3.jpeg?version=1 272w, https://cdn.nur.kz/images/176x99/60d3932203f8c8f3.jpeg?version=1 176w\" title=\"Мясной пирог на кефире испечен\"/>\n",
      "https://cdn.nur.kz/images/272x153/60d3932203f8c8f3.jpeg?version=1\n",
      "<img alt=\"Ребенок лежит на руках\" class=\"post-preview-media__picture lazyload\" data-sizes=\"auto\" data-srcset=\"https://cdn.nur.kz/images/1120x630/81925703665ec367.jpeg?version=1 1120w, https://cdn.nur.kz/images/720x405/81925703665ec367.jpeg?version=1 720w, https://cdn.nur.kz/images/560x315/81925703665ec367.jpeg?version=1 560w\" decoding=\"async\" src=\"https://cdn.nur.kz/images/272x153/81925703665ec367.jpeg?version=1\" title=\"Ребенок лежит на руках\"/>\n",
      "https://cdn.nur.kz/images/272x153/81925703665ec367.jpeg?version=1\n",
      "<img alt=\"Ребенок лежит на руках\" class=\"post-preview-media__picture\" decoding=\"async\" sizes=\"(max-width: 755px) calc(100vw - 40px), (max-width: 1151px) calc(100vw - 327px), 523px\" src=\"https://cdn.nur.kz/images/272x153/81925703665ec367.jpeg?version=1\" srcset=\"https://cdn.nur.kz/images/1120x630/81925703665ec367.jpeg?version=1 1120w, https://cdn.nur.kz/images/720x405/81925703665ec367.jpeg?version=1 720w, https://cdn.nur.kz/images/560x315/81925703665ec367.jpeg?version=1 560w\" title=\"Ребенок лежит на руках\"/>\n",
      "https://cdn.nur.kz/images/272x153/81925703665ec367.jpeg?version=1\n",
      "<img alt=\"logo google news\" class=\"block-social__button-icon\" loading=\"lazy\" src=\"https://www.nur.kz/nur/img/social-icons/subscribe/google-news.svg\"/>\n",
      "https://www.nur.kz/nur/img/social-icons/subscribe/google-news.svg\n",
      "<img alt=\"Задержание подозреваемого\" class=\"post-preview-media__picture lazyload\" data-sizes=\"auto\" data-srcset=\"https://cdn.nur.kz/images/720x405/0865419aa0cfa14f.jpeg?version=1 720w, https://cdn.nur.kz/images/560x315/0865419aa0cfa14f.jpeg?version=1 560w, https://cdn.nur.kz/images/272x153/0865419aa0cfa14f.jpeg?version=1 272w, https://cdn.nur.kz/images/176x99/0865419aa0cfa14f.jpeg?version=1 176w\" decoding=\"async\" src=\"https://cdn.nur.kz/images/272x153/0865419aa0cfa14f.jpeg?version=1\" title=\"Задержание подозреваемого\"/>\n",
      "https://cdn.nur.kz/images/272x153/0865419aa0cfa14f.jpeg?version=1\n",
      "<img alt=\"Задержание подозреваемого\" class=\"post-preview-media__picture\" decoding=\"async\" sizes=\"(max-width: 755px) 97px, (max-width: 1151px) calc((100vw - 152px) / 3), 231px\" src=\"https://cdn.nur.kz/images/272x153/0865419aa0cfa14f.jpeg?version=1\" srcset=\"https://cdn.nur.kz/images/720x405/0865419aa0cfa14f.jpeg?version=1 720w, https://cdn.nur.kz/images/560x315/0865419aa0cfa14f.jpeg?version=1 560w, https://cdn.nur.kz/images/272x153/0865419aa0cfa14f.jpeg?version=1 272w, https://cdn.nur.kz/images/176x99/0865419aa0cfa14f.jpeg?version=1 176w\" title=\"Задержание подозреваемого\"/>\n",
      "https://cdn.nur.kz/images/272x153/0865419aa0cfa14f.jpeg?version=1\n",
      "<img alt=\"Девушка сидит на полу за ноутбуком и разговаривает по телефону\" class=\"post-preview-media__picture lazyload\" data-sizes=\"auto\" data-srcset=\"https://cdn.nur.kz/images/720x405/e70f6bb042c04b38.jpeg?version=1 720w, https://cdn.nur.kz/images/560x315/e70f6bb042c04b38.jpeg?version=1 560w, https://cdn.nur.kz/images/272x153/e70f6bb042c04b38.jpeg?version=1 272w, https://cdn.nur.kz/images/176x99/e70f6bb042c04b38.jpeg?version=1 176w\" decoding=\"async\" src=\"https://cdn.nur.kz/images/272x153/e70f6bb042c04b38.jpeg?version=1\" title=\"Девушка сидит на полу за ноутбуком и разговаривает по телефону\"/>\n",
      "https://cdn.nur.kz/images/272x153/e70f6bb042c04b38.jpeg?version=1\n",
      "<img alt=\"Девушка сидит на полу за ноутбуком и разговаривает по телефону\" class=\"post-preview-media__picture\" decoding=\"async\" sizes=\"(max-width: 755px) 97px, (max-width: 1151px) calc((100vw - 152px) / 3), 231px\" src=\"https://cdn.nur.kz/images/272x153/e70f6bb042c04b38.jpeg?version=1\" srcset=\"https://cdn.nur.kz/images/720x405/e70f6bb042c04b38.jpeg?version=1 720w, https://cdn.nur.kz/images/560x315/e70f6bb042c04b38.jpeg?version=1 560w, https://cdn.nur.kz/images/272x153/e70f6bb042c04b38.jpeg?version=1 272w, https://cdn.nur.kz/images/176x99/e70f6bb042c04b38.jpeg?version=1 176w\" title=\"Девушка сидит на полу за ноутбуком и разговаривает по телефону\"/>\n",
      "https://cdn.nur.kz/images/272x153/e70f6bb042c04b38.jpeg?version=1\n",
      "<img alt=\"Бабушка сидит рядом с внучкой и вяжет\" class=\"post-preview-media__picture lazyload\" data-sizes=\"auto\" data-srcset=\"https://cdn.nur.kz/images/720x405/86776603b4f635ca.jpeg?version=1 720w, https://cdn.nur.kz/images/560x315/86776603b4f635ca.jpeg?version=1 560w, https://cdn.nur.kz/images/272x153/86776603b4f635ca.jpeg?version=1 272w, https://cdn.nur.kz/images/176x99/86776603b4f635ca.jpeg?version=1 176w\" decoding=\"async\" src=\"https://cdn.nur.kz/images/272x153/86776603b4f635ca.jpeg?version=1\" title=\"Бабушка сидит рядом с внучкой и вяжет\"/>\n",
      "https://cdn.nur.kz/images/272x153/86776603b4f635ca.jpeg?version=1\n",
      "<img alt=\"Бабушка сидит рядом с внучкой и вяжет\" class=\"post-preview-media__picture\" decoding=\"async\" sizes=\"(max-width: 755px) 97px, (max-width: 1151px) calc((100vw - 152px) / 3), 231px\" src=\"https://cdn.nur.kz/images/272x153/86776603b4f635ca.jpeg?version=1\" srcset=\"https://cdn.nur.kz/images/720x405/86776603b4f635ca.jpeg?version=1 720w, https://cdn.nur.kz/images/560x315/86776603b4f635ca.jpeg?version=1 560w, https://cdn.nur.kz/images/272x153/86776603b4f635ca.jpeg?version=1 272w, https://cdn.nur.kz/images/176x99/86776603b4f635ca.jpeg?version=1 176w\" title=\"Бабушка сидит рядом с внучкой и вяжет\"/>\n",
      "https://cdn.nur.kz/images/272x153/86776603b4f635ca.jpeg?version=1\n",
      "<img alt=\"Девушка держится за решетку камеры\" class=\"post-preview-media__picture lazyload\" data-sizes=\"auto\" data-srcset=\"https://cdn.nur.kz/images/720x405/684811ee3e8fd31d.jpeg?version=1 720w, https://cdn.nur.kz/images/560x315/684811ee3e8fd31d.jpeg?version=1 560w, https://cdn.nur.kz/images/272x153/684811ee3e8fd31d.jpeg?version=1 272w, https://cdn.nur.kz/images/176x99/684811ee3e8fd31d.jpeg?version=1 176w\" decoding=\"async\" src=\"https://cdn.nur.kz/images/272x153/684811ee3e8fd31d.jpeg?version=1\" title=\"Девушка держится за решетку камеры\"/>\n",
      "https://cdn.nur.kz/images/272x153/684811ee3e8fd31d.jpeg?version=1\n",
      "<img alt=\"Девушка держится за решетку камеры\" class=\"post-preview-media__picture\" decoding=\"async\" sizes=\"(max-width: 755px) 97px, (max-width: 1151px) calc((100vw - 152px) / 3), 231px\" src=\"https://cdn.nur.kz/images/272x153/684811ee3e8fd31d.jpeg?version=1\" srcset=\"https://cdn.nur.kz/images/720x405/684811ee3e8fd31d.jpeg?version=1 720w, https://cdn.nur.kz/images/560x315/684811ee3e8fd31d.jpeg?version=1 560w, https://cdn.nur.kz/images/272x153/684811ee3e8fd31d.jpeg?version=1 272w, https://cdn.nur.kz/images/176x99/684811ee3e8fd31d.jpeg?version=1 176w\" title=\"Девушка держится за решетку камеры\"/>\n",
      "https://cdn.nur.kz/images/272x153/684811ee3e8fd31d.jpeg?version=1\n",
      "<img alt=\"Утюг\" class=\"post-preview-media__picture lazyload\" data-sizes=\"auto\" data-srcset=\"https://cdn.nur.kz/images/720x405/d23769fc148fe1c0.jpeg?version=1 720w, https://cdn.nur.kz/images/560x315/d23769fc148fe1c0.jpeg?version=1 560w, https://cdn.nur.kz/images/272x153/d23769fc148fe1c0.jpeg?version=1 272w, https://cdn.nur.kz/images/176x99/d23769fc148fe1c0.jpeg?version=1 176w\" decoding=\"async\" src=\"https://cdn.nur.kz/images/272x153/d23769fc148fe1c0.jpeg?version=1\" title=\"Утюг\"/>\n",
      "https://cdn.nur.kz/images/272x153/d23769fc148fe1c0.jpeg?version=1\n",
      "<img alt=\"Утюг\" class=\"post-preview-media__picture\" decoding=\"async\" sizes=\"(max-width: 755px) 97px, (max-width: 1151px) calc((100vw - 152px) / 3), 231px\" src=\"https://cdn.nur.kz/images/272x153/d23769fc148fe1c0.jpeg?version=1\" srcset=\"https://cdn.nur.kz/images/720x405/d23769fc148fe1c0.jpeg?version=1 720w, https://cdn.nur.kz/images/560x315/d23769fc148fe1c0.jpeg?version=1 560w, https://cdn.nur.kz/images/272x153/d23769fc148fe1c0.jpeg?version=1 272w, https://cdn.nur.kz/images/176x99/d23769fc148fe1c0.jpeg?version=1 176w\" title=\"Утюг\"/>\n",
      "https://cdn.nur.kz/images/272x153/d23769fc148fe1c0.jpeg?version=1\n",
      "<img alt=\"Робот-пылесос\" class=\"post-preview-media__picture lazyload\" data-sizes=\"auto\" data-srcset=\"https://cdn.nur.kz/images/720x405/518a7fe01fdc2f30.jpeg?version=1 720w, https://cdn.nur.kz/images/560x315/518a7fe01fdc2f30.jpeg?version=1 560w, https://cdn.nur.kz/images/272x153/518a7fe01fdc2f30.jpeg?version=1 272w, https://cdn.nur.kz/images/176x99/518a7fe01fdc2f30.jpeg?version=1 176w\" decoding=\"async\" src=\"https://cdn.nur.kz/images/272x153/518a7fe01fdc2f30.jpeg?version=1\" title=\"Робот-пылесос\"/>\n",
      "https://cdn.nur.kz/images/272x153/518a7fe01fdc2f30.jpeg?version=1\n",
      "<img alt=\"Робот-пылесос\" class=\"post-preview-media__picture\" decoding=\"async\" sizes=\"(max-width: 755px) 97px, (max-width: 1151px) calc((100vw - 152px) / 3), 231px\" src=\"https://cdn.nur.kz/images/272x153/518a7fe01fdc2f30.jpeg?version=1\" srcset=\"https://cdn.nur.kz/images/720x405/518a7fe01fdc2f30.jpeg?version=1 720w, https://cdn.nur.kz/images/560x315/518a7fe01fdc2f30.jpeg?version=1 560w, https://cdn.nur.kz/images/272x153/518a7fe01fdc2f30.jpeg?version=1 272w, https://cdn.nur.kz/images/176x99/518a7fe01fdc2f30.jpeg?version=1 176w\" title=\"Робот-пылесос\"/>\n",
      "https://cdn.nur.kz/images/272x153/518a7fe01fdc2f30.jpeg?version=1\n",
      "<img alt=\"LG OLED\" class=\"post-preview-media__picture lazyload\" data-sizes=\"auto\" data-srcset=\"https://cdn.nur.kz/images/720x405/3f13034524eb6903.jpeg?version=1 720w, https://cdn.nur.kz/images/560x315/3f13034524eb6903.jpeg?version=1 560w, https://cdn.nur.kz/images/272x153/3f13034524eb6903.jpeg?version=1 272w, https://cdn.nur.kz/images/176x99/3f13034524eb6903.jpeg?version=1 176w\" decoding=\"async\" src=\"https://cdn.nur.kz/images/272x153/3f13034524eb6903.jpeg?version=1\" title=\"LG OLED\"/>\n",
      "https://cdn.nur.kz/images/272x153/3f13034524eb6903.jpeg?version=1\n",
      "<img alt=\"LG OLED\" class=\"post-preview-media__picture\" decoding=\"async\" sizes=\"(max-width: 755px) 97px, (max-width: 1151px) calc((100vw - 152px) / 3), 231px\" src=\"https://cdn.nur.kz/images/272x153/3f13034524eb6903.jpeg?version=1\" srcset=\"https://cdn.nur.kz/images/720x405/3f13034524eb6903.jpeg?version=1 720w, https://cdn.nur.kz/images/560x315/3f13034524eb6903.jpeg?version=1 560w, https://cdn.nur.kz/images/272x153/3f13034524eb6903.jpeg?version=1 272w, https://cdn.nur.kz/images/176x99/3f13034524eb6903.jpeg?version=1 176w\" title=\"LG OLED\"/>\n",
      "https://cdn.nur.kz/images/272x153/3f13034524eb6903.jpeg?version=1\n",
      "<img alt=\"Tele2\" class=\"post-preview-media__picture lazyload\" data-sizes=\"auto\" data-srcset=\"https://cdn.nur.kz/images/720x405/1f13fb2c99196d72.jpeg?version=1 720w, https://cdn.nur.kz/images/560x315/1f13fb2c99196d72.jpeg?version=1 560w, https://cdn.nur.kz/images/272x153/1f13fb2c99196d72.jpeg?version=1 272w, https://cdn.nur.kz/images/176x99/1f13fb2c99196d72.jpeg?version=1 176w\" decoding=\"async\" src=\"https://cdn.nur.kz/images/272x153/1f13fb2c99196d72.jpeg?version=1\" title=\"Tele2\"/>\n",
      "https://cdn.nur.kz/images/272x153/1f13fb2c99196d72.jpeg?version=1\n",
      "<img alt=\"Tele2\" class=\"post-preview-media__picture\" decoding=\"async\" sizes=\"(max-width: 755px) 97px, (max-width: 1151px) calc((100vw - 152px) / 3), 231px\" src=\"https://cdn.nur.kz/images/272x153/1f13fb2c99196d72.jpeg?version=1\" srcset=\"https://cdn.nur.kz/images/720x405/1f13fb2c99196d72.jpeg?version=1 720w, https://cdn.nur.kz/images/560x315/1f13fb2c99196d72.jpeg?version=1 560w, https://cdn.nur.kz/images/272x153/1f13fb2c99196d72.jpeg?version=1 272w, https://cdn.nur.kz/images/176x99/1f13fb2c99196d72.jpeg?version=1 176w\" title=\"Tele2\"/>\n",
      "https://cdn.nur.kz/images/272x153/1f13fb2c99196d72.jpeg?version=1\n",
      "<img alt=\"Девушка в слезах\" class=\"post-preview-media__picture lazyload\" data-sizes=\"auto\" data-srcset=\"https://cdn.nur.kz/images/720x405/bd377824982a4ae4.jpeg?version=1 720w, https://cdn.nur.kz/images/560x315/bd377824982a4ae4.jpeg?version=1 560w, https://cdn.nur.kz/images/272x153/bd377824982a4ae4.jpeg?version=1 272w, https://cdn.nur.kz/images/176x99/bd377824982a4ae4.jpeg?version=1 176w\" decoding=\"async\" src=\"https://cdn.nur.kz/images/272x153/bd377824982a4ae4.jpeg?version=1\" title=\"Девушка в слезах\"/>\n",
      "https://cdn.nur.kz/images/272x153/bd377824982a4ae4.jpeg?version=1\n",
      "<img alt=\"Девушка в слезах\" class=\"post-preview-media__picture\" decoding=\"async\" sizes=\"(max-width: 755px) 97px, (max-width: 1151px) calc((100vw - 152px) / 3), 231px\" src=\"https://cdn.nur.kz/images/272x153/bd377824982a4ae4.jpeg?version=1\" srcset=\"https://cdn.nur.kz/images/720x405/bd377824982a4ae4.jpeg?version=1 720w, https://cdn.nur.kz/images/560x315/bd377824982a4ae4.jpeg?version=1 560w, https://cdn.nur.kz/images/272x153/bd377824982a4ae4.jpeg?version=1 272w, https://cdn.nur.kz/images/176x99/bd377824982a4ae4.jpeg?version=1 176w\" title=\"Девушка в слезах\"/>\n",
      "https://cdn.nur.kz/images/272x153/bd377824982a4ae4.jpeg?version=1\n",
      "<img alt='Надпись английскими буквами, означающая \"любовь\"' class=\"post-preview-media__picture lazyload\" data-sizes=\"auto\" data-srcset=\"https://cdn.nur.kz/images/720x405/8d37fbd47f4adfb0.jpeg?version=1 720w, https://cdn.nur.kz/images/560x315/8d37fbd47f4adfb0.jpeg?version=1 560w, https://cdn.nur.kz/images/272x153/8d37fbd47f4adfb0.jpeg?version=1 272w, https://cdn.nur.kz/images/176x99/8d37fbd47f4adfb0.jpeg?version=1 176w\" decoding=\"async\" src=\"https://cdn.nur.kz/images/272x153/8d37fbd47f4adfb0.jpeg?version=1\" title='Надпись английскими буквами, означающая \"любовь\"'/>\n",
      "https://cdn.nur.kz/images/272x153/8d37fbd47f4adfb0.jpeg?version=1\n",
      "<img alt='Надпись английскими буквами, означающая \"любовь\"' class=\"post-preview-media__picture\" decoding=\"async\" sizes=\"(max-width: 755px) 97px, (max-width: 1151px) calc((100vw - 152px) / 3), 231px\" src=\"https://cdn.nur.kz/images/272x153/8d37fbd47f4adfb0.jpeg?version=1\" srcset=\"https://cdn.nur.kz/images/720x405/8d37fbd47f4adfb0.jpeg?version=1 720w, https://cdn.nur.kz/images/560x315/8d37fbd47f4adfb0.jpeg?version=1 560w, https://cdn.nur.kz/images/272x153/8d37fbd47f4adfb0.jpeg?version=1 272w, https://cdn.nur.kz/images/176x99/8d37fbd47f4adfb0.jpeg?version=1 176w\" title='Надпись английскими буквами, означающая \"любовь\"'/>\n",
      "https://cdn.nur.kz/images/272x153/8d37fbd47f4adfb0.jpeg?version=1\n",
      "<img alt=\"подруги разговаривают\" class=\"post-preview-media__picture lazyload\" data-sizes=\"auto\" data-srcset=\"https://cdn.nur.kz/images/720x405/7eb7df029cb2d28e.jpeg?version=1 720w, https://cdn.nur.kz/images/560x315/7eb7df029cb2d28e.jpeg?version=1 560w, https://cdn.nur.kz/images/272x153/7eb7df029cb2d28e.jpeg?version=1 272w, https://cdn.nur.kz/images/176x99/7eb7df029cb2d28e.jpeg?version=1 176w\" decoding=\"async\" src=\"https://cdn.nur.kz/images/272x153/7eb7df029cb2d28e.jpeg?version=1\" title=\"подруги разговаривают\"/>\n",
      "https://cdn.nur.kz/images/272x153/7eb7df029cb2d28e.jpeg?version=1\n",
      "<img alt=\"подруги разговаривают\" class=\"post-preview-media__picture\" decoding=\"async\" sizes=\"(max-width: 755px) 97px, (max-width: 1151px) calc((100vw - 152px) / 3), 231px\" src=\"https://cdn.nur.kz/images/272x153/7eb7df029cb2d28e.jpeg?version=1\" srcset=\"https://cdn.nur.kz/images/720x405/7eb7df029cb2d28e.jpeg?version=1 720w, https://cdn.nur.kz/images/560x315/7eb7df029cb2d28e.jpeg?version=1 560w, https://cdn.nur.kz/images/272x153/7eb7df029cb2d28e.jpeg?version=1 272w, https://cdn.nur.kz/images/176x99/7eb7df029cb2d28e.jpeg?version=1 176w\" title=\"подруги разговаривают\"/>\n",
      "https://cdn.nur.kz/images/272x153/7eb7df029cb2d28e.jpeg?version=1\n",
      "<img alt=\"Парень и девушка улыбаются\" class=\"post-preview-media__picture lazyload\" data-sizes=\"auto\" data-srcset=\"https://cdn.nur.kz/images/720x405/79e9116dc2ebe17b.jpeg?version=1 720w, https://cdn.nur.kz/images/560x315/79e9116dc2ebe17b.jpeg?version=1 560w, https://cdn.nur.kz/images/272x153/79e9116dc2ebe17b.jpeg?version=1 272w, https://cdn.nur.kz/images/176x99/79e9116dc2ebe17b.jpeg?version=1 176w\" decoding=\"async\" src=\"https://cdn.nur.kz/images/272x153/79e9116dc2ebe17b.jpeg?version=1\" title=\"Парень и девушка улыбаются\"/>\n",
      "https://cdn.nur.kz/images/272x153/79e9116dc2ebe17b.jpeg?version=1\n",
      "<img alt=\"Парень и девушка улыбаются\" class=\"post-preview-media__picture\" decoding=\"async\" sizes=\"(max-width: 755px) 97px, (max-width: 1151px) calc((100vw - 152px) / 3), 231px\" src=\"https://cdn.nur.kz/images/272x153/79e9116dc2ebe17b.jpeg?version=1\" srcset=\"https://cdn.nur.kz/images/720x405/79e9116dc2ebe17b.jpeg?version=1 720w, https://cdn.nur.kz/images/560x315/79e9116dc2ebe17b.jpeg?version=1 560w, https://cdn.nur.kz/images/272x153/79e9116dc2ebe17b.jpeg?version=1 272w, https://cdn.nur.kz/images/176x99/79e9116dc2ebe17b.jpeg?version=1 176w\" title=\"Парень и девушка улыбаются\"/>\n",
      "https://cdn.nur.kz/images/272x153/79e9116dc2ebe17b.jpeg?version=1\n",
      "<img alt=\"Ретроградный Меркурий\" class=\"post-preview-media__picture lazyload\" data-sizes=\"auto\" data-srcset=\"https://cdn.nur.kz/images/720x405/8da0e936f27449ae.jpeg?version=1 720w, https://cdn.nur.kz/images/560x315/8da0e936f27449ae.jpeg?version=1 560w, https://cdn.nur.kz/images/272x153/8da0e936f27449ae.jpeg?version=1 272w, https://cdn.nur.kz/images/176x99/8da0e936f27449ae.jpeg?version=1 176w\" decoding=\"async\" src=\"https://cdn.nur.kz/images/272x153/8da0e936f27449ae.jpeg?version=1\" title=\"Ретроградный Меркурий\"/>\n",
      "https://cdn.nur.kz/images/272x153/8da0e936f27449ae.jpeg?version=1\n",
      "<img alt=\"Ретроградный Меркурий\" class=\"post-preview-media__picture\" decoding=\"async\" sizes=\"(max-width: 755px) 97px, (max-width: 1151px) calc((100vw - 152px) / 3), 231px\" src=\"https://cdn.nur.kz/images/272x153/8da0e936f27449ae.jpeg?version=1\" srcset=\"https://cdn.nur.kz/images/720x405/8da0e936f27449ae.jpeg?version=1 720w, https://cdn.nur.kz/images/560x315/8da0e936f27449ae.jpeg?version=1 560w, https://cdn.nur.kz/images/272x153/8da0e936f27449ae.jpeg?version=1 272w, https://cdn.nur.kz/images/176x99/8da0e936f27449ae.jpeg?version=1 176w\" title=\"Ретроградный Меркурий\"/>\n",
      "https://cdn.nur.kz/images/272x153/8da0e936f27449ae.jpeg?version=1\n",
      "<img alt=\"Знак зодиака Водолей\" class=\"post-preview-media__picture lazyload\" data-sizes=\"auto\" data-srcset=\"https://cdn.nur.kz/images/720x405/aa0bee3a95a520db.jpeg?version=1 720w, https://cdn.nur.kz/images/560x315/aa0bee3a95a520db.jpeg?version=1 560w, https://cdn.nur.kz/images/272x153/aa0bee3a95a520db.jpeg?version=1 272w, https://cdn.nur.kz/images/176x99/aa0bee3a95a520db.jpeg?version=1 176w\" decoding=\"async\" src=\"https://cdn.nur.kz/images/272x153/aa0bee3a95a520db.jpeg?version=1\" title=\"Знак зодиака Водолей\"/>\n",
      "https://cdn.nur.kz/images/272x153/aa0bee3a95a520db.jpeg?version=1\n",
      "<img alt=\"Знак зодиака Водолей\" class=\"post-preview-media__picture\" decoding=\"async\" sizes=\"(max-width: 755px) 97px, (max-width: 1151px) calc((100vw - 152px) / 3), 231px\" src=\"https://cdn.nur.kz/images/272x153/aa0bee3a95a520db.jpeg?version=1\" srcset=\"https://cdn.nur.kz/images/720x405/aa0bee3a95a520db.jpeg?version=1 720w, https://cdn.nur.kz/images/560x315/aa0bee3a95a520db.jpeg?version=1 560w, https://cdn.nur.kz/images/272x153/aa0bee3a95a520db.jpeg?version=1 272w, https://cdn.nur.kz/images/176x99/aa0bee3a95a520db.jpeg?version=1 176w\" title=\"Знак зодиака Водолей\"/>\n",
      "https://cdn.nur.kz/images/272x153/aa0bee3a95a520db.jpeg?version=1\n",
      "<img alt=\"Деньги растут\" class=\"post-preview-media__picture lazyload\" data-sizes=\"auto\" data-srcset=\"https://cdn.nur.kz/images/720x405/ca34ea9d35677334.jpeg?version=1 720w, https://cdn.nur.kz/images/560x315/ca34ea9d35677334.jpeg?version=1 560w, https://cdn.nur.kz/images/272x153/ca34ea9d35677334.jpeg?version=1 272w, https://cdn.nur.kz/images/176x99/ca34ea9d35677334.jpeg?version=1 176w\" decoding=\"async\" src=\"https://cdn.nur.kz/images/272x153/ca34ea9d35677334.jpeg?version=1\" title=\"Деньги растут\"/>\n",
      "https://cdn.nur.kz/images/272x153/ca34ea9d35677334.jpeg?version=1\n",
      "<img alt=\"Деньги растут\" class=\"post-preview-media__picture\" decoding=\"async\" sizes=\"(max-width: 755px) 97px, (max-width: 1151px) calc((100vw - 152px) / 3), 231px\" src=\"https://cdn.nur.kz/images/272x153/ca34ea9d35677334.jpeg?version=1\" srcset=\"https://cdn.nur.kz/images/720x405/ca34ea9d35677334.jpeg?version=1 720w, https://cdn.nur.kz/images/560x315/ca34ea9d35677334.jpeg?version=1 560w, https://cdn.nur.kz/images/272x153/ca34ea9d35677334.jpeg?version=1 272w, https://cdn.nur.kz/images/176x99/ca34ea9d35677334.jpeg?version=1 176w\" title=\"Деньги растут\"/>\n",
      "https://cdn.nur.kz/images/272x153/ca34ea9d35677334.jpeg?version=1\n",
      "<img alt=\"Календарь\" class=\"post-preview-media__picture lazyload\" data-sizes=\"auto\" data-srcset=\"https://cdn.nur.kz/images/720x405/47d2b395203421dc.jpeg?version=1 720w, https://cdn.nur.kz/images/560x315/47d2b395203421dc.jpeg?version=1 560w, https://cdn.nur.kz/images/272x153/47d2b395203421dc.jpeg?version=1 272w, https://cdn.nur.kz/images/176x99/47d2b395203421dc.jpeg?version=1 176w\" decoding=\"async\" src=\"https://cdn.nur.kz/images/272x153/47d2b395203421dc.jpeg?version=1\" title=\"Календарь\"/>\n",
      "https://cdn.nur.kz/images/272x153/47d2b395203421dc.jpeg?version=1\n",
      "<img alt=\"Календарь\" class=\"post-preview-media__picture\" decoding=\"async\" sizes=\"(max-width: 755px) 97px, (max-width: 1151px) calc((100vw - 152px) / 3), 231px\" src=\"https://cdn.nur.kz/images/272x153/47d2b395203421dc.jpeg?version=1\" srcset=\"https://cdn.nur.kz/images/720x405/47d2b395203421dc.jpeg?version=1 720w, https://cdn.nur.kz/images/560x315/47d2b395203421dc.jpeg?version=1 560w, https://cdn.nur.kz/images/272x153/47d2b395203421dc.jpeg?version=1 272w, https://cdn.nur.kz/images/176x99/47d2b395203421dc.jpeg?version=1 176w\" title=\"Календарь\"/>\n",
      "https://cdn.nur.kz/images/272x153/47d2b395203421dc.jpeg?version=1\n",
      "<img alt=\"День святого Валентина. Открытка с юмором\" class=\"post-preview-media__picture lazyload\" data-sizes=\"auto\" data-srcset=\"https://cdn.nur.kz/images/720x405/56d2a4c60db6cbdf.jpeg?version=2 720w, https://cdn.nur.kz/images/560x315/56d2a4c60db6cbdf.jpeg?version=2 560w, https://cdn.nur.kz/images/272x153/56d2a4c60db6cbdf.jpeg?version=2 272w, https://cdn.nur.kz/images/176x99/56d2a4c60db6cbdf.jpeg?version=2 176w\" decoding=\"async\" src=\"https://cdn.nur.kz/images/272x153/56d2a4c60db6cbdf.jpeg?version=2\" title=\"День святого Валентина. Открытка с юмором\"/>\n",
      "https://cdn.nur.kz/images/272x153/56d2a4c60db6cbdf.jpeg?version=2\n",
      "<img alt=\"День святого Валентина. Открытка с юмором\" class=\"post-preview-media__picture\" decoding=\"async\" sizes=\"(max-width: 755px) 97px, (max-width: 1151px) calc((100vw - 152px) / 3), 231px\" src=\"https://cdn.nur.kz/images/272x153/56d2a4c60db6cbdf.jpeg?version=2\" srcset=\"https://cdn.nur.kz/images/720x405/56d2a4c60db6cbdf.jpeg?version=2 720w, https://cdn.nur.kz/images/560x315/56d2a4c60db6cbdf.jpeg?version=2 560w, https://cdn.nur.kz/images/272x153/56d2a4c60db6cbdf.jpeg?version=2 272w, https://cdn.nur.kz/images/176x99/56d2a4c60db6cbdf.jpeg?version=2 176w\" title=\"День святого Валентина. Открытка с юмором\"/>\n",
      "https://cdn.nur.kz/images/272x153/56d2a4c60db6cbdf.jpeg?version=2\n",
      "<img alt=\"День святого Валентина\" class=\"post-preview-media__picture lazyload\" data-sizes=\"auto\" data-srcset=\"https://cdn.nur.kz/images/720x405/63bf63efe04fdc93.jpeg?version=1 720w, https://cdn.nur.kz/images/560x315/63bf63efe04fdc93.jpeg?version=1 560w, https://cdn.nur.kz/images/272x153/63bf63efe04fdc93.jpeg?version=1 272w, https://cdn.nur.kz/images/176x99/63bf63efe04fdc93.jpeg?version=1 176w\" decoding=\"async\" src=\"https://cdn.nur.kz/images/272x153/63bf63efe04fdc93.jpeg?version=1\" title=\"День святого Валентина\"/>\n",
      "https://cdn.nur.kz/images/272x153/63bf63efe04fdc93.jpeg?version=1\n",
      "<img alt=\"День святого Валентина\" class=\"post-preview-media__picture\" decoding=\"async\" sizes=\"(max-width: 755px) 97px, (max-width: 1151px) calc((100vw - 152px) / 3), 231px\" src=\"https://cdn.nur.kz/images/272x153/63bf63efe04fdc93.jpeg?version=1\" srcset=\"https://cdn.nur.kz/images/720x405/63bf63efe04fdc93.jpeg?version=1 720w, https://cdn.nur.kz/images/560x315/63bf63efe04fdc93.jpeg?version=1 560w, https://cdn.nur.kz/images/272x153/63bf63efe04fdc93.jpeg?version=1 272w, https://cdn.nur.kz/images/176x99/63bf63efe04fdc93.jpeg?version=1 176w\" title=\"День святого Валентина\"/>\n",
      "https://cdn.nur.kz/images/272x153/63bf63efe04fdc93.jpeg?version=1\n",
      "<img alt=\"Конверт с сердечками\" class=\"post-preview-media__picture lazyload\" data-sizes=\"auto\" data-srcset=\"https://cdn.nur.kz/images/720x405/ba8c0b74df2c4831.jpeg?version=1 720w, https://cdn.nur.kz/images/560x315/ba8c0b74df2c4831.jpeg?version=1 560w, https://cdn.nur.kz/images/272x153/ba8c0b74df2c4831.jpeg?version=1 272w, https://cdn.nur.kz/images/176x99/ba8c0b74df2c4831.jpeg?version=1 176w\" decoding=\"async\" src=\"https://cdn.nur.kz/images/272x153/ba8c0b74df2c4831.jpeg?version=1\" title=\"Конверт с сердечками\"/>\n",
      "https://cdn.nur.kz/images/272x153/ba8c0b74df2c4831.jpeg?version=1\n",
      "<img alt=\"Конверт с сердечками\" class=\"post-preview-media__picture\" decoding=\"async\" sizes=\"(max-width: 755px) 97px, (max-width: 1151px) calc((100vw - 152px) / 3), 231px\" src=\"https://cdn.nur.kz/images/272x153/ba8c0b74df2c4831.jpeg?version=1\" srcset=\"https://cdn.nur.kz/images/720x405/ba8c0b74df2c4831.jpeg?version=1 720w, https://cdn.nur.kz/images/560x315/ba8c0b74df2c4831.jpeg?version=1 560w, https://cdn.nur.kz/images/272x153/ba8c0b74df2c4831.jpeg?version=1 272w, https://cdn.nur.kz/images/176x99/ba8c0b74df2c4831.jpeg?version=1 176w\" title=\"Конверт с сердечками\"/>\n",
      "https://cdn.nur.kz/images/272x153/ba8c0b74df2c4831.jpeg?version=1\n",
      "<img alt=\"Влюбленные\" class=\"post-preview-media__picture lazyload\" data-sizes=\"auto\" data-srcset=\"https://cdn.nur.kz/images/720x405/f6e9a11024736d67.jpeg?version=1 720w, https://cdn.nur.kz/images/560x315/f6e9a11024736d67.jpeg?version=1 560w, https://cdn.nur.kz/images/272x153/f6e9a11024736d67.jpeg?version=1 272w, https://cdn.nur.kz/images/176x99/f6e9a11024736d67.jpeg?version=1 176w\" decoding=\"async\" src=\"https://cdn.nur.kz/images/272x153/f6e9a11024736d67.jpeg?version=1\" title=\"Влюбленные\"/>\n",
      "https://cdn.nur.kz/images/272x153/f6e9a11024736d67.jpeg?version=1\n",
      "<img alt=\"Влюбленные\" class=\"post-preview-media__picture\" decoding=\"async\" sizes=\"(max-width: 755px) 97px, (max-width: 1151px) calc((100vw - 152px) / 3), 231px\" src=\"https://cdn.nur.kz/images/272x153/f6e9a11024736d67.jpeg?version=1\" srcset=\"https://cdn.nur.kz/images/720x405/f6e9a11024736d67.jpeg?version=1 720w, https://cdn.nur.kz/images/560x315/f6e9a11024736d67.jpeg?version=1 560w, https://cdn.nur.kz/images/272x153/f6e9a11024736d67.jpeg?version=1 272w, https://cdn.nur.kz/images/176x99/f6e9a11024736d67.jpeg?version=1 176w\" title=\"Влюбленные\"/>\n",
      "https://cdn.nur.kz/images/272x153/f6e9a11024736d67.jpeg?version=1\n",
      "<img alt=\"Ребенок ест арахисовое масло и оставляет жирные следы на футболке\" class=\"post-preview-media__picture lazyload\" data-sizes=\"auto\" data-srcset=\"https://cdn.nur.kz/images/720x405/4b87d7506e1b0350.jpeg?version=1 720w, https://cdn.nur.kz/images/560x315/4b87d7506e1b0350.jpeg?version=1 560w, https://cdn.nur.kz/images/272x153/4b87d7506e1b0350.jpeg?version=1 272w, https://cdn.nur.kz/images/176x99/4b87d7506e1b0350.jpeg?version=1 176w\" decoding=\"async\" src=\"https://cdn.nur.kz/images/272x153/4b87d7506e1b0350.jpeg?version=1\" title=\"Ребенок ест арахисовое масло и оставляет жирные следы на футболке\"/>\n",
      "https://cdn.nur.kz/images/272x153/4b87d7506e1b0350.jpeg?version=1\n",
      "<img alt=\"Ребенок ест арахисовое масло и оставляет жирные следы на футболке\" class=\"post-preview-media__picture\" decoding=\"async\" sizes=\"(max-width: 755px) 97px, (max-width: 1151px) calc((100vw - 152px) / 3), 231px\" src=\"https://cdn.nur.kz/images/272x153/4b87d7506e1b0350.jpeg?version=1\" srcset=\"https://cdn.nur.kz/images/720x405/4b87d7506e1b0350.jpeg?version=1 720w, https://cdn.nur.kz/images/560x315/4b87d7506e1b0350.jpeg?version=1 560w, https://cdn.nur.kz/images/272x153/4b87d7506e1b0350.jpeg?version=1 272w, https://cdn.nur.kz/images/176x99/4b87d7506e1b0350.jpeg?version=1 176w\" title=\"Ребенок ест арахисовое масло и оставляет жирные следы на футболке\"/>\n",
      "https://cdn.nur.kz/images/272x153/4b87d7506e1b0350.jpeg?version=1\n",
      "<img alt=\"Меламиновая губка\" class=\"post-preview-media__picture lazyload\" data-sizes=\"auto\" data-srcset=\"https://cdn.nur.kz/images/720x405/ffdbc7a59b7b0326.jpeg?version=1 720w, https://cdn.nur.kz/images/560x315/ffdbc7a59b7b0326.jpeg?version=1 560w, https://cdn.nur.kz/images/272x153/ffdbc7a59b7b0326.jpeg?version=1 272w, https://cdn.nur.kz/images/176x99/ffdbc7a59b7b0326.jpeg?version=1 176w\" decoding=\"async\" src=\"https://cdn.nur.kz/images/272x153/ffdbc7a59b7b0326.jpeg?version=1\" title=\"Меламиновая губка\"/>\n",
      "https://cdn.nur.kz/images/272x153/ffdbc7a59b7b0326.jpeg?version=1\n",
      "<img alt=\"Меламиновая губка\" class=\"post-preview-media__picture\" decoding=\"async\" sizes=\"(max-width: 755px) 97px, (max-width: 1151px) calc((100vw - 152px) / 3), 231px\" src=\"https://cdn.nur.kz/images/272x153/ffdbc7a59b7b0326.jpeg?version=1\" srcset=\"https://cdn.nur.kz/images/720x405/ffdbc7a59b7b0326.jpeg?version=1 720w, https://cdn.nur.kz/images/560x315/ffdbc7a59b7b0326.jpeg?version=1 560w, https://cdn.nur.kz/images/272x153/ffdbc7a59b7b0326.jpeg?version=1 272w, https://cdn.nur.kz/images/176x99/ffdbc7a59b7b0326.jpeg?version=1 176w\" title=\"Меламиновая губка\"/>\n",
      "https://cdn.nur.kz/images/272x153/ffdbc7a59b7b0326.jpeg?version=1\n",
      "<img alt=\"Белая футболка\" class=\"post-preview-media__picture lazyload\" data-sizes=\"auto\" data-srcset=\"https://cdn.nur.kz/images/720x405/98d76049384e6f6a.jpeg?version=1 720w, https://cdn.nur.kz/images/560x315/98d76049384e6f6a.jpeg?version=1 560w, https://cdn.nur.kz/images/272x153/98d76049384e6f6a.jpeg?version=1 272w, https://cdn.nur.kz/images/176x99/98d76049384e6f6a.jpeg?version=1 176w\" decoding=\"async\" src=\"https://cdn.nur.kz/images/272x153/98d76049384e6f6a.jpeg?version=1\" title=\"Белая футболка\"/>\n",
      "https://cdn.nur.kz/images/272x153/98d76049384e6f6a.jpeg?version=1\n",
      "<img alt=\"Белая футболка\" class=\"post-preview-media__picture\" decoding=\"async\" sizes=\"(max-width: 755px) 97px, (max-width: 1151px) calc((100vw - 152px) / 3), 231px\" src=\"https://cdn.nur.kz/images/272x153/98d76049384e6f6a.jpeg?version=1\" srcset=\"https://cdn.nur.kz/images/720x405/98d76049384e6f6a.jpeg?version=1 720w, https://cdn.nur.kz/images/560x315/98d76049384e6f6a.jpeg?version=1 560w, https://cdn.nur.kz/images/272x153/98d76049384e6f6a.jpeg?version=1 272w, https://cdn.nur.kz/images/176x99/98d76049384e6f6a.jpeg?version=1 176w\" title=\"Белая футболка\"/>\n",
      "https://cdn.nur.kz/images/272x153/98d76049384e6f6a.jpeg?version=1\n",
      "<img alt=\"Девушка демонстрирует серебряные украшения\" class=\"post-preview-media__picture lazyload\" data-sizes=\"auto\" data-srcset=\"https://cdn.nur.kz/images/720x405/00149bfe4862a64d.jpeg?version=1 720w, https://cdn.nur.kz/images/560x315/00149bfe4862a64d.jpeg?version=1 560w, https://cdn.nur.kz/images/272x153/00149bfe4862a64d.jpeg?version=1 272w, https://cdn.nur.kz/images/176x99/00149bfe4862a64d.jpeg?version=1 176w\" decoding=\"async\" src=\"https://cdn.nur.kz/images/272x153/00149bfe4862a64d.jpeg?version=1\" title=\"Девушка демонстрирует серебряные украшения\"/>\n",
      "https://cdn.nur.kz/images/272x153/00149bfe4862a64d.jpeg?version=1\n",
      "<img alt=\"Девушка демонстрирует серебряные украшения\" class=\"post-preview-media__picture\" decoding=\"async\" sizes=\"(max-width: 755px) 97px, (max-width: 1151px) calc((100vw - 152px) / 3), 231px\" src=\"https://cdn.nur.kz/images/272x153/00149bfe4862a64d.jpeg?version=1\" srcset=\"https://cdn.nur.kz/images/720x405/00149bfe4862a64d.jpeg?version=1 720w, https://cdn.nur.kz/images/560x315/00149bfe4862a64d.jpeg?version=1 560w, https://cdn.nur.kz/images/272x153/00149bfe4862a64d.jpeg?version=1 272w, https://cdn.nur.kz/images/176x99/00149bfe4862a64d.jpeg?version=1 176w\" title=\"Девушка демонстрирует серебряные украшения\"/>\n",
      "https://cdn.nur.kz/images/272x153/00149bfe4862a64d.jpeg?version=1\n",
      "<img alt=\"Ангелина Лукас\" class=\"post-preview-media__picture lazyload\" data-sizes=\"auto\" data-srcset=\"https://cdn.nur.kz/images/720x405/2dbb45647d62700d.jpeg?version=1 720w, https://cdn.nur.kz/images/560x315/2dbb45647d62700d.jpeg?version=1 560w, https://cdn.nur.kz/images/272x153/2dbb45647d62700d.jpeg?version=1 272w, https://cdn.nur.kz/images/176x99/2dbb45647d62700d.jpeg?version=1 176w\" decoding=\"async\" src=\"https://cdn.nur.kz/images/272x153/2dbb45647d62700d.jpeg?version=1\" title=\"Ангелина Лукас\"/>\n",
      "https://cdn.nur.kz/images/272x153/2dbb45647d62700d.jpeg?version=1\n",
      "<img alt=\"Ангелина Лукас\" class=\"post-preview-media__picture\" decoding=\"async\" sizes=\"(max-width: 755px) 97px, (max-width: 1151px) calc((100vw - 152px) / 3), 231px\" src=\"https://cdn.nur.kz/images/272x153/2dbb45647d62700d.jpeg?version=1\" srcset=\"https://cdn.nur.kz/images/720x405/2dbb45647d62700d.jpeg?version=1 720w, https://cdn.nur.kz/images/560x315/2dbb45647d62700d.jpeg?version=1 560w, https://cdn.nur.kz/images/272x153/2dbb45647d62700d.jpeg?version=1 272w, https://cdn.nur.kz/images/176x99/2dbb45647d62700d.jpeg?version=1 176w\" title=\"Ангелина Лукас\"/>\n",
      "https://cdn.nur.kz/images/272x153/2dbb45647d62700d.jpeg?version=1\n",
      "<img alt=\"SD Family\" class=\"post-preview-media__picture lazyload\" data-sizes=\"auto\" data-srcset=\"https://cdn.nur.kz/images/720x405/8bdd23a3bb20632a.jpeg?version=1 720w, https://cdn.nur.kz/images/560x315/8bdd23a3bb20632a.jpeg?version=1 560w, https://cdn.nur.kz/images/272x153/8bdd23a3bb20632a.jpeg?version=1 272w, https://cdn.nur.kz/images/176x99/8bdd23a3bb20632a.jpeg?version=1 176w\" decoding=\"async\" src=\"https://cdn.nur.kz/images/272x153/8bdd23a3bb20632a.jpeg?version=1\" title=\"SD Family\"/>\n",
      "https://cdn.nur.kz/images/272x153/8bdd23a3bb20632a.jpeg?version=1\n",
      "<img alt=\"SD Family\" class=\"post-preview-media__picture\" decoding=\"async\" sizes=\"(max-width: 755px) 97px, (max-width: 1151px) calc((100vw - 152px) / 3), 231px\" src=\"https://cdn.nur.kz/images/272x153/8bdd23a3bb20632a.jpeg?version=1\" srcset=\"https://cdn.nur.kz/images/720x405/8bdd23a3bb20632a.jpeg?version=1 720w, https://cdn.nur.kz/images/560x315/8bdd23a3bb20632a.jpeg?version=1 560w, https://cdn.nur.kz/images/272x153/8bdd23a3bb20632a.jpeg?version=1 272w, https://cdn.nur.kz/images/176x99/8bdd23a3bb20632a.jpeg?version=1 176w\" title=\"SD Family\"/>\n",
      "https://cdn.nur.kz/images/272x153/8bdd23a3bb20632a.jpeg?version=1\n",
      "<img alt=\"Школа\" class=\"post-preview-media__picture lazyload\" data-sizes=\"auto\" data-srcset=\"https://cdn.nur.kz/images/720x405/8f4eabafb1960e0c.jpeg?version=1 720w, https://cdn.nur.kz/images/560x315/8f4eabafb1960e0c.jpeg?version=1 560w, https://cdn.nur.kz/images/272x153/8f4eabafb1960e0c.jpeg?version=1 272w, https://cdn.nur.kz/images/176x99/8f4eabafb1960e0c.jpeg?version=1 176w\" decoding=\"async\" src=\"https://cdn.nur.kz/images/272x153/8f4eabafb1960e0c.jpeg?version=1\" title=\"Школа\"/>\n",
      "https://cdn.nur.kz/images/272x153/8f4eabafb1960e0c.jpeg?version=1\n",
      "<img alt=\"Школа\" class=\"post-preview-media__picture\" decoding=\"async\" sizes=\"(max-width: 755px) 97px, (max-width: 1151px) calc((100vw - 152px) / 3), 231px\" src=\"https://cdn.nur.kz/images/272x153/8f4eabafb1960e0c.jpeg?version=1\" srcset=\"https://cdn.nur.kz/images/720x405/8f4eabafb1960e0c.jpeg?version=1 720w, https://cdn.nur.kz/images/560x315/8f4eabafb1960e0c.jpeg?version=1 560w, https://cdn.nur.kz/images/272x153/8f4eabafb1960e0c.jpeg?version=1 272w, https://cdn.nur.kz/images/176x99/8f4eabafb1960e0c.jpeg?version=1 176w\" title=\"Школа\"/>\n",
      "https://cdn.nur.kz/images/272x153/8f4eabafb1960e0c.jpeg?version=1\n",
      "<img alt=\"Жанжигит Омархан\" class=\"post-preview-media__picture lazyload\" data-sizes=\"auto\" data-srcset=\"https://cdn.nur.kz/images/720x405/ac07c6f86d444263.jpeg?version=1 720w, https://cdn.nur.kz/images/560x315/ac07c6f86d444263.jpeg?version=1 560w, https://cdn.nur.kz/images/272x153/ac07c6f86d444263.jpeg?version=1 272w, https://cdn.nur.kz/images/176x99/ac07c6f86d444263.jpeg?version=1 176w\" decoding=\"async\" src=\"https://cdn.nur.kz/images/272x153/ac07c6f86d444263.jpeg?version=1\" title=\"Жанжигит Омархан\"/>\n",
      "https://cdn.nur.kz/images/272x153/ac07c6f86d444263.jpeg?version=1\n",
      "<img alt=\"Жанжигит Омархан\" class=\"post-preview-media__picture\" decoding=\"async\" sizes=\"(max-width: 755px) 97px, (max-width: 1151px) calc((100vw - 152px) / 3), 231px\" src=\"https://cdn.nur.kz/images/272x153/ac07c6f86d444263.jpeg?version=1\" srcset=\"https://cdn.nur.kz/images/720x405/ac07c6f86d444263.jpeg?version=1 720w, https://cdn.nur.kz/images/560x315/ac07c6f86d444263.jpeg?version=1 560w, https://cdn.nur.kz/images/272x153/ac07c6f86d444263.jpeg?version=1 272w, https://cdn.nur.kz/images/176x99/ac07c6f86d444263.jpeg?version=1 176w\" title=\"Жанжигит Омархан\"/>\n",
      "https://cdn.nur.kz/images/272x153/ac07c6f86d444263.jpeg?version=1\n",
      "<img alt=\"NUR.KZ logo footer\" class=\"white-logo\" loading=\"lazy\" src=\"https://www.nur.kz/nur/img/logo-main-footer.svg\"/>\n",
      "https://www.nur.kz/nur/img/logo-main-footer.svg\n",
      "<img alt=\"facebook\" class=\"bottom-nav__link-icon lazyload\" data-src=\"https://www.nur.kz/nur/img/social-icons/desktop/facebook.svg\" src=\"https://www.nur.kz/nur/img/placeholder-1x1.gif?v=2\"/>\n",
      "https://www.nur.kz/nur/img/placeholder-1x1.gif?v=2\n",
      "<img alt=\"vkontakte\" class=\"bottom-nav__link-icon lazyload\" data-src=\"https://www.nur.kz/nur/img/social-icons/desktop/vkontakte.svg\" src=\"https://www.nur.kz/nur/img/placeholder-1x1.gif?v=2\"/>\n",
      "https://www.nur.kz/nur/img/placeholder-1x1.gif?v=2\n",
      "<img alt=\"odnoklassniki\" class=\"bottom-nav__link-icon lazyload\" data-src=\"https://www.nur.kz/nur/img/social-icons/desktop/odnoklassniki.svg\" src=\"https://www.nur.kz/nur/img/placeholder-1x1.gif?v=2\"/>\n",
      "https://www.nur.kz/nur/img/placeholder-1x1.gif?v=2\n",
      "<img alt=\"instagram\" class=\"bottom-nav__link-icon lazyload\" data-src=\"https://www.nur.kz/nur/img/social-icons/desktop/instagram.svg\" src=\"https://www.nur.kz/nur/img/placeholder-1x1.gif?v=2\"/>\n",
      "https://www.nur.kz/nur/img/placeholder-1x1.gif?v=2\n",
      "<img alt=\"telegram\" class=\"bottom-nav__link-icon lazyload\" data-src=\"https://www.nur.kz/nur/img/social-icons/desktop/telegram.svg\" src=\"https://www.nur.kz/nur/img/placeholder-1x1.gif?v=2\"/>\n",
      "https://www.nur.kz/nur/img/placeholder-1x1.gif?v=2\n",
      "<img alt=\"tiktok\" class=\"bottom-nav__link-icon lazyload\" data-src=\"https://www.nur.kz/nur/img/social-icons/desktop/tiktok.svg\" src=\"https://www.nur.kz/nur/img/placeholder-1x1.gif?v=2\"/>\n",
      "https://www.nur.kz/nur/img/placeholder-1x1.gif?v=2\n",
      "<img alt=\"app store\" class=\"mobile-download-links__icon lazyload\" data-src=\"https://www.nur.kz/nur/img/app-store.svg\" src=\"https://www.nur.kz/nur/img/placeholder-1x1.gif?v=2\"/>\n",
      "https://www.nur.kz/nur/img/placeholder-1x1.gif?v=2\n",
      "<img alt=\"google play\" class=\"mobile-download-links__icon lazyload\" data-src=\"https://www.nur.kz/nur/img/google-play.svg\" src=\"https://www.nur.kz/nur/img/placeholder-1x1.gif?v=2\"/>\n",
      "https://www.nur.kz/nur/img/placeholder-1x1.gif?v=2\n",
      "<img alt=\"huawei app gallery\" class=\"mobile-download-links__icon lazyload\" data-src=\"https://www.nur.kz/nur/img/huawei-app-gallery.svg\" src=\"https://www.nur.kz/nur/img/placeholder-1x1.gif?v=2\"/>\n",
      "https://www.nur.kz/nur/img/placeholder-1x1.gif?v=2\n",
      "<img alt=\"yandex Metrica\" src=\"https://mc.yandex.ru/watch/35102860\" style=\"position:absolute; left:-9999px;\">\n",
      "</img>\n",
      "https://mc.yandex.ru/watch/35102860\n",
      "<img alt=\"\" height=\"1\" src=\"https://certify.alexametrics.com/atrk.gif?account=UVumr1WyR620WR\" style=\"display:none\" width=\"1\"/>\n",
      "https://certify.alexametrics.com/atrk.gif?account=UVumr1WyR620WR\n"
     ]
    }
   ],
   "source": [
    "for link in soup.find_all('img'):# in html image is represented by the tag <img>\n",
    "    print(link)\n",
    "    print(link.get('src'))"
   ]
  },
  {
   "cell_type": "markdown",
   "metadata": {},
   "source": [
    "## Scrape data from HTML tables\n"
   ]
  },
  {
   "cell_type": "code",
   "execution_count": 108,
   "metadata": {},
   "outputs": [],
   "source": [
    "#The below url contains an html table with data about colors and color codes.\n",
    "url = \"https://cf-courses-data.s3.us.cloud-object-storage.appdomain.cloud/IBM-DA0321EN-SkillsNetwork/labs/datasets/HTMLColorCodes.html\""
   ]
  },
  {
   "cell_type": "markdown",
   "metadata": {},
   "source": [
    "Before proceeding to scrape a web site, you need to examine the contents, and the way data is organized on the website. Open the above url in your browser and check how many rows and columns are there in the color table.\n"
   ]
  },
  {
   "cell_type": "code",
   "execution_count": 109,
   "metadata": {},
   "outputs": [],
   "source": [
    "# get the contents of the webpage in text format and store in a variable called data\n",
    "data  = requests.get(url).text"
   ]
  },
  {
   "cell_type": "code",
   "execution_count": 110,
   "metadata": {},
   "outputs": [],
   "source": [
    "soup = BeautifulSoup(data,\"html.parser\")"
   ]
  },
  {
   "cell_type": "code",
   "execution_count": 111,
   "metadata": {},
   "outputs": [],
   "source": [
    "#find a html table in the web page\n",
    "table = soup.find('table') # in html table is represented by the tag <table>"
   ]
  },
  {
   "cell_type": "code",
   "execution_count": 112,
   "metadata": {},
   "outputs": [
    {
     "name": "stdout",
     "output_type": "stream",
     "text": [
      "Color Name--->None\n",
      "lightsalmon--->#FFA07A\n",
      "salmon--->#FA8072\n",
      "darksalmon--->#E9967A\n",
      "lightcoral--->#F08080\n",
      "coral--->#FF7F50\n",
      "tomato--->#FF6347\n",
      "orangered--->#FF4500\n",
      "gold--->#FFD700\n",
      "orange--->#FFA500\n",
      "darkorange--->#FF8C00\n",
      "lightyellow--->#FFFFE0\n",
      "lemonchiffon--->#FFFACD\n",
      "papayawhip--->#FFEFD5\n",
      "moccasin--->#FFE4B5\n",
      "peachpuff--->#FFDAB9\n",
      "palegoldenrod--->#EEE8AA\n",
      "khaki--->#F0E68C\n",
      "darkkhaki--->#BDB76B\n",
      "yellow--->#FFFF00\n",
      "lawngreen--->#7CFC00\n",
      "chartreuse--->#7FFF00\n",
      "limegreen--->#32CD32\n",
      "lime--->#00FF00\n",
      "forestgreen--->#228B22\n",
      "green--->#008000\n",
      "powderblue--->#B0E0E6\n",
      "lightblue--->#ADD8E6\n",
      "lightskyblue--->#87CEFA\n",
      "skyblue--->#87CEEB\n",
      "deepskyblue--->#00BFFF\n",
      "lightsteelblue--->#B0C4DE\n",
      "dodgerblue--->#1E90FF\n"
     ]
    }
   ],
   "source": [
    "#Get all rows from the table\n",
    "for row in table.find_all('tr'): # in html table row is represented by the tag <tr>\n",
    "    # Get all columns in each row.\n",
    "    cols = row.find_all('td') # in html a column is represented by the tag <td>\n",
    "    color_name = cols[2].string # store the value in column 3 as color_name\n",
    "    color_code = cols[3].string # store the value in column 4 as color_code\n",
    "    print(\"{}--->{}\".format(color_name,color_code))"
   ]
  },
  {
   "cell_type": "markdown",
   "metadata": {},
   "source": [
    "## Scrape data from HTML tables into a DataFrame using BeautifulSoup and Pandas\n"
   ]
  },
  {
   "cell_type": "code",
   "execution_count": 113,
   "metadata": {},
   "outputs": [],
   "source": [
    "import pandas as pd"
   ]
  },
  {
   "cell_type": "code",
   "execution_count": 114,
   "metadata": {},
   "outputs": [],
   "source": [
    "#The below url contains html tables with data about world population.\n",
    "url = \"https://en.wikipedia.org/wiki/World_population\""
   ]
  },
  {
   "cell_type": "markdown",
   "metadata": {},
   "source": [
    "Before proceeding to scrape a web site, you need to examine the contents, and the way data is organized on the website. Open the above url in your browser and check the tables on the webpage.\n"
   ]
  },
  {
   "cell_type": "code",
   "execution_count": 115,
   "metadata": {},
   "outputs": [],
   "source": [
    "# get the contents of the webpage in text format and store in a variable called data\n",
    "data  = requests.get(url).text"
   ]
  },
  {
   "cell_type": "code",
   "execution_count": 116,
   "metadata": {},
   "outputs": [],
   "source": [
    "soup = BeautifulSoup(data,\"html.parser\")"
   ]
  },
  {
   "cell_type": "code",
   "execution_count": 117,
   "metadata": {},
   "outputs": [],
   "source": [
    "#find all html tables in the web page\n",
    "tables = soup.find_all('table') # in html table is represented by the tag <table>"
   ]
  },
  {
   "cell_type": "code",
   "execution_count": 118,
   "metadata": {},
   "outputs": [
    {
     "data": {
      "text/plain": [
       "26"
      ]
     },
     "execution_count": 118,
     "metadata": {},
     "output_type": "execute_result"
    }
   ],
   "source": [
    "# we can see how many tables were found by checking the length of the tables list\n",
    "len(tables)"
   ]
  },
  {
   "cell_type": "markdown",
   "metadata": {},
   "source": [
    "Assume that we are looking for the `10 most densly populated countries` table, we can look through the tables list and find the right one we are look for based on the data in each table or we can search for the table name if it is in the table but this option might not always work.\n"
   ]
  },
  {
   "cell_type": "code",
   "execution_count": 119,
   "metadata": {},
   "outputs": [
    {
     "name": "stdout",
     "output_type": "stream",
     "text": [
      "5\n"
     ]
    }
   ],
   "source": [
    "for index,table in enumerate(tables):\n",
    "    if (\"10 most densely populated countries\" in str(table)):\n",
    "        table_index = index\n",
    "print(table_index)"
   ]
  },
  {
   "cell_type": "markdown",
   "metadata": {},
   "source": [
    "See if you can locate the table name of the table, `10 most densly populated countries`, below.\n"
   ]
  },
  {
   "cell_type": "code",
   "execution_count": 120,
   "metadata": {},
   "outputs": [
    {
     "name": "stdout",
     "output_type": "stream",
     "text": [
      "<table class=\"wikitable sortable\" style=\"text-align:right\">\n",
      " <caption>\n",
      "  10 most densely populated countries\n",
      "  <small>\n",
      "   (with population above 5 million)\n",
      "  </small>\n",
      " </caption>\n",
      " <tbody>\n",
      "  <tr>\n",
      "   <th>\n",
      "    Rank\n",
      "   </th>\n",
      "   <th>\n",
      "    Country\n",
      "   </th>\n",
      "   <th>\n",
      "    Population\n",
      "   </th>\n",
      "   <th>\n",
      "    Area\n",
      "    <br/>\n",
      "    <small>\n",
      "     (km\n",
      "     <sup>\n",
      "      2\n",
      "     </sup>\n",
      "     )\n",
      "    </small>\n",
      "   </th>\n",
      "   <th>\n",
      "    Density\n",
      "    <br/>\n",
      "    <small>\n",
      "     (pop/km\n",
      "     <sup>\n",
      "      2\n",
      "     </sup>\n",
      "     )\n",
      "    </small>\n",
      "   </th>\n",
      "  </tr>\n",
      "  <tr>\n",
      "   <td>\n",
      "    1\n",
      "   </td>\n",
      "   <td align=\"left\">\n",
      "    <span class=\"flagicon\">\n",
      "     <img alt=\"\" class=\"thumbborder\" data-file-height=\"600\" data-file-width=\"900\" decoding=\"async\" height=\"15\" src=\"//upload.wikimedia.org/wikipedia/commons/thumb/4/48/Flag_of_Singapore.svg/23px-Flag_of_Singapore.svg.png\" srcset=\"//upload.wikimedia.org/wikipedia/commons/thumb/4/48/Flag_of_Singapore.svg/35px-Flag_of_Singapore.svg.png 1.5x, //upload.wikimedia.org/wikipedia/commons/thumb/4/48/Flag_of_Singapore.svg/45px-Flag_of_Singapore.svg.png 2x\" width=\"23\"/>\n",
      "    </span>\n",
      "    <a href=\"/wiki/Singapore\" title=\"Singapore\">\n",
      "     Singapore\n",
      "    </a>\n",
      "   </td>\n",
      "   <td>\n",
      "    5,704,000\n",
      "   </td>\n",
      "   <td>\n",
      "    710\n",
      "   </td>\n",
      "   <td>\n",
      "    8,033\n",
      "   </td>\n",
      "  </tr>\n",
      "  <tr>\n",
      "   <td>\n",
      "    2\n",
      "   </td>\n",
      "   <td align=\"left\">\n",
      "    <span class=\"flagicon\">\n",
      "     <img alt=\"\" class=\"thumbborder\" data-file-height=\"600\" data-file-width=\"1000\" decoding=\"async\" height=\"14\" src=\"//upload.wikimedia.org/wikipedia/commons/thumb/f/f9/Flag_of_Bangladesh.svg/23px-Flag_of_Bangladesh.svg.png\" srcset=\"//upload.wikimedia.org/wikipedia/commons/thumb/f/f9/Flag_of_Bangladesh.svg/35px-Flag_of_Bangladesh.svg.png 1.5x, //upload.wikimedia.org/wikipedia/commons/thumb/f/f9/Flag_of_Bangladesh.svg/46px-Flag_of_Bangladesh.svg.png 2x\" width=\"23\"/>\n",
      "    </span>\n",
      "    <a href=\"/wiki/Bangladesh\" title=\"Bangladesh\">\n",
      "     Bangladesh\n",
      "    </a>\n",
      "   </td>\n",
      "   <td>\n",
      "    172,180,000\n",
      "   </td>\n",
      "   <td>\n",
      "    143,998\n",
      "   </td>\n",
      "   <td>\n",
      "    1,196\n",
      "   </td>\n",
      "  </tr>\n",
      "  <tr>\n",
      "   <td>\n",
      "    3\n",
      "   </td>\n",
      "   <td align=\"left\">\n",
      "    <p>\n",
      "     <span class=\"flagicon\">\n",
      "      <img alt=\"\" class=\"thumbborder\" data-file-height=\"600\" data-file-width=\"1200\" decoding=\"async\" height=\"12\" src=\"//upload.wikimedia.org/wikipedia/commons/thumb/0/00/Flag_of_Palestine.svg/23px-Flag_of_Palestine.svg.png\" srcset=\"//upload.wikimedia.org/wikipedia/commons/thumb/0/00/Flag_of_Palestine.svg/35px-Flag_of_Palestine.svg.png 1.5x, //upload.wikimedia.org/wikipedia/commons/thumb/0/00/Flag_of_Palestine.svg/46px-Flag_of_Palestine.svg.png 2x\" width=\"23\"/>\n",
      "     </span>\n",
      "     <a href=\"/wiki/State_of_Palestine\" title=\"State of Palestine\">\n",
      "      Palestine\n",
      "     </a>\n",
      "    </p>\n",
      "   </td>\n",
      "   <td>\n",
      "    5,266,785\n",
      "   </td>\n",
      "   <td>\n",
      "    6,020\n",
      "   </td>\n",
      "   <td>\n",
      "    847\n",
      "   </td>\n",
      "  </tr>\n",
      "  <tr>\n",
      "   <td>\n",
      "    4\n",
      "   </td>\n",
      "   <td align=\"left\">\n",
      "    <span class=\"flagicon\">\n",
      "     <img alt=\"\" class=\"thumbborder\" data-file-height=\"600\" data-file-width=\"900\" decoding=\"async\" height=\"15\" src=\"//upload.wikimedia.org/wikipedia/commons/thumb/5/59/Flag_of_Lebanon.svg/23px-Flag_of_Lebanon.svg.png\" srcset=\"//upload.wikimedia.org/wikipedia/commons/thumb/5/59/Flag_of_Lebanon.svg/35px-Flag_of_Lebanon.svg.png 1.5x, //upload.wikimedia.org/wikipedia/commons/thumb/5/59/Flag_of_Lebanon.svg/45px-Flag_of_Lebanon.svg.png 2x\" width=\"23\"/>\n",
      "    </span>\n",
      "    <a href=\"/wiki/Lebanon\" title=\"Lebanon\">\n",
      "     Lebanon\n",
      "    </a>\n",
      "   </td>\n",
      "   <td>\n",
      "    6,856,000\n",
      "   </td>\n",
      "   <td>\n",
      "    10,452\n",
      "   </td>\n",
      "   <td>\n",
      "    656\n",
      "   </td>\n",
      "  </tr>\n",
      "  <tr>\n",
      "   <td>\n",
      "    5\n",
      "   </td>\n",
      "   <td align=\"left\">\n",
      "    <span class=\"flagicon\">\n",
      "     <img alt=\"\" class=\"thumbborder\" data-file-height=\"600\" data-file-width=\"900\" decoding=\"async\" height=\"15\" src=\"//upload.wikimedia.org/wikipedia/commons/thumb/7/72/Flag_of_the_Republic_of_China.svg/23px-Flag_of_the_Republic_of_China.svg.png\" srcset=\"//upload.wikimedia.org/wikipedia/commons/thumb/7/72/Flag_of_the_Republic_of_China.svg/35px-Flag_of_the_Republic_of_China.svg.png 1.5x, //upload.wikimedia.org/wikipedia/commons/thumb/7/72/Flag_of_the_Republic_of_China.svg/45px-Flag_of_the_Republic_of_China.svg.png 2x\" width=\"23\"/>\n",
      "    </span>\n",
      "    <a href=\"/wiki/Taiwan\" title=\"Taiwan\">\n",
      "     Taiwan\n",
      "    </a>\n",
      "   </td>\n",
      "   <td>\n",
      "    23,604,000\n",
      "   </td>\n",
      "   <td>\n",
      "    36,193\n",
      "   </td>\n",
      "   <td>\n",
      "    652\n",
      "   </td>\n",
      "  </tr>\n",
      "  <tr>\n",
      "   <td>\n",
      "    6\n",
      "   </td>\n",
      "   <td align=\"left\">\n",
      "    <span class=\"flagicon\">\n",
      "     <img alt=\"\" class=\"thumbborder\" data-file-height=\"600\" data-file-width=\"900\" decoding=\"async\" height=\"15\" src=\"//upload.wikimedia.org/wikipedia/commons/thumb/0/09/Flag_of_South_Korea.svg/23px-Flag_of_South_Korea.svg.png\" srcset=\"//upload.wikimedia.org/wikipedia/commons/thumb/0/09/Flag_of_South_Korea.svg/35px-Flag_of_South_Korea.svg.png 1.5x, //upload.wikimedia.org/wikipedia/commons/thumb/0/09/Flag_of_South_Korea.svg/45px-Flag_of_South_Korea.svg.png 2x\" width=\"23\"/>\n",
      "    </span>\n",
      "    <a href=\"/wiki/South_Korea\" title=\"South Korea\">\n",
      "     South Korea\n",
      "    </a>\n",
      "   </td>\n",
      "   <td>\n",
      "    51,781,000\n",
      "   </td>\n",
      "   <td>\n",
      "    99,538\n",
      "   </td>\n",
      "   <td>\n",
      "    520\n",
      "   </td>\n",
      "  </tr>\n",
      "  <tr>\n",
      "   <td>\n",
      "    7\n",
      "   </td>\n",
      "   <td align=\"left\">\n",
      "    <span class=\"flagicon\">\n",
      "     <img alt=\"\" class=\"thumbborder\" data-file-height=\"720\" data-file-width=\"1080\" decoding=\"async\" height=\"15\" src=\"//upload.wikimedia.org/wikipedia/commons/thumb/1/17/Flag_of_Rwanda.svg/23px-Flag_of_Rwanda.svg.png\" srcset=\"//upload.wikimedia.org/wikipedia/commons/thumb/1/17/Flag_of_Rwanda.svg/35px-Flag_of_Rwanda.svg.png 1.5x, //upload.wikimedia.org/wikipedia/commons/thumb/1/17/Flag_of_Rwanda.svg/45px-Flag_of_Rwanda.svg.png 2x\" width=\"23\"/>\n",
      "    </span>\n",
      "    <a href=\"/wiki/Rwanda\" title=\"Rwanda\">\n",
      "     Rwanda\n",
      "    </a>\n",
      "   </td>\n",
      "   <td>\n",
      "    12,374,000\n",
      "   </td>\n",
      "   <td>\n",
      "    26,338\n",
      "   </td>\n",
      "   <td>\n",
      "    470\n",
      "   </td>\n",
      "  </tr>\n",
      "  <tr>\n",
      "   <td>\n",
      "    8\n",
      "   </td>\n",
      "   <td align=\"left\">\n",
      "    <span class=\"flagicon\">\n",
      "     <img alt=\"\" class=\"thumbborder\" data-file-height=\"600\" data-file-width=\"1000\" decoding=\"async\" height=\"14\" src=\"//upload.wikimedia.org/wikipedia/commons/thumb/5/56/Flag_of_Haiti.svg/23px-Flag_of_Haiti.svg.png\" srcset=\"//upload.wikimedia.org/wikipedia/commons/thumb/5/56/Flag_of_Haiti.svg/35px-Flag_of_Haiti.svg.png 1.5x, //upload.wikimedia.org/wikipedia/commons/thumb/5/56/Flag_of_Haiti.svg/46px-Flag_of_Haiti.svg.png 2x\" width=\"23\"/>\n",
      "    </span>\n",
      "    <a href=\"/wiki/Haiti\" title=\"Haiti\">\n",
      "     Haiti\n",
      "    </a>\n",
      "   </td>\n",
      "   <td>\n",
      "    11,578,000\n",
      "   </td>\n",
      "   <td>\n",
      "    27,065\n",
      "   </td>\n",
      "   <td>\n",
      "    428\n",
      "   </td>\n",
      "  </tr>\n",
      "  <tr>\n",
      "   <td>\n",
      "    9\n",
      "   </td>\n",
      "   <td align=\"left\">\n",
      "    <span class=\"flagicon\">\n",
      "     <img alt=\"\" class=\"thumbborder\" data-file-height=\"600\" data-file-width=\"900\" decoding=\"async\" height=\"15\" src=\"//upload.wikimedia.org/wikipedia/commons/thumb/2/20/Flag_of_the_Netherlands.svg/23px-Flag_of_the_Netherlands.svg.png\" srcset=\"//upload.wikimedia.org/wikipedia/commons/thumb/2/20/Flag_of_the_Netherlands.svg/35px-Flag_of_the_Netherlands.svg.png 1.5x, //upload.wikimedia.org/wikipedia/commons/thumb/2/20/Flag_of_the_Netherlands.svg/45px-Flag_of_the_Netherlands.svg.png 2x\" width=\"23\"/>\n",
      "    </span>\n",
      "    <a href=\"/wiki/Netherlands\" title=\"Netherlands\">\n",
      "     Netherlands\n",
      "    </a>\n",
      "   </td>\n",
      "   <td>\n",
      "    17,690,000\n",
      "   </td>\n",
      "   <td>\n",
      "    41,526\n",
      "   </td>\n",
      "   <td>\n",
      "    426\n",
      "   </td>\n",
      "  </tr>\n",
      "  <tr>\n",
      "   <td>\n",
      "    10\n",
      "   </td>\n",
      "   <td align=\"left\">\n",
      "    <span class=\"flagicon\">\n",
      "     <img alt=\"\" class=\"thumbborder\" data-file-height=\"800\" data-file-width=\"1100\" decoding=\"async\" height=\"15\" src=\"//upload.wikimedia.org/wikipedia/commons/thumb/d/d4/Flag_of_Israel.svg/21px-Flag_of_Israel.svg.png\" srcset=\"//upload.wikimedia.org/wikipedia/commons/thumb/d/d4/Flag_of_Israel.svg/32px-Flag_of_Israel.svg.png 1.5x, //upload.wikimedia.org/wikipedia/commons/thumb/d/d4/Flag_of_Israel.svg/41px-Flag_of_Israel.svg.png 2x\" width=\"21\"/>\n",
      "    </span>\n",
      "    <a href=\"/wiki/Israel\" title=\"Israel\">\n",
      "     Israel\n",
      "    </a>\n",
      "   </td>\n",
      "   <td>\n",
      "    9,470,000\n",
      "   </td>\n",
      "   <td>\n",
      "    22,072\n",
      "   </td>\n",
      "   <td>\n",
      "    429\n",
      "   </td>\n",
      "  </tr>\n",
      " </tbody>\n",
      "</table>\n",
      "\n"
     ]
    }
   ],
   "source": [
    "print(tables[table_index].prettify())"
   ]
  },
  {
   "cell_type": "code",
   "execution_count": 121,
   "metadata": {},
   "outputs": [
    {
     "data": {
      "text/html": [
       "<div>\n",
       "<style scoped>\n",
       "    .dataframe tbody tr th:only-of-type {\n",
       "        vertical-align: middle;\n",
       "    }\n",
       "\n",
       "    .dataframe tbody tr th {\n",
       "        vertical-align: top;\n",
       "    }\n",
       "\n",
       "    .dataframe thead th {\n",
       "        text-align: right;\n",
       "    }\n",
       "</style>\n",
       "<table border=\"1\" class=\"dataframe\">\n",
       "  <thead>\n",
       "    <tr style=\"text-align: right;\">\n",
       "      <th></th>\n",
       "      <th>Rank</th>\n",
       "      <th>Country</th>\n",
       "      <th>Population</th>\n",
       "      <th>Area</th>\n",
       "      <th>Density</th>\n",
       "    </tr>\n",
       "  </thead>\n",
       "  <tbody>\n",
       "    <tr>\n",
       "      <th>0</th>\n",
       "      <td>1</td>\n",
       "      <td>Singapore</td>\n",
       "      <td>5,704,000</td>\n",
       "      <td>710</td>\n",
       "      <td>8,033</td>\n",
       "    </tr>\n",
       "    <tr>\n",
       "      <th>1</th>\n",
       "      <td>2</td>\n",
       "      <td>Bangladesh</td>\n",
       "      <td>172,180,000</td>\n",
       "      <td>143,998</td>\n",
       "      <td>1,196</td>\n",
       "    </tr>\n",
       "    <tr>\n",
       "      <th>2</th>\n",
       "      <td>3</td>\n",
       "      <td>\\n Palestine\\n\\n</td>\n",
       "      <td>5,266,785</td>\n",
       "      <td>6,020</td>\n",
       "      <td>847</td>\n",
       "    </tr>\n",
       "    <tr>\n",
       "      <th>3</th>\n",
       "      <td>4</td>\n",
       "      <td>Lebanon</td>\n",
       "      <td>6,856,000</td>\n",
       "      <td>10,452</td>\n",
       "      <td>656</td>\n",
       "    </tr>\n",
       "    <tr>\n",
       "      <th>4</th>\n",
       "      <td>5</td>\n",
       "      <td>Taiwan</td>\n",
       "      <td>23,604,000</td>\n",
       "      <td>36,193</td>\n",
       "      <td>652</td>\n",
       "    </tr>\n",
       "    <tr>\n",
       "      <th>5</th>\n",
       "      <td>6</td>\n",
       "      <td>South Korea</td>\n",
       "      <td>51,781,000</td>\n",
       "      <td>99,538</td>\n",
       "      <td>520</td>\n",
       "    </tr>\n",
       "    <tr>\n",
       "      <th>6</th>\n",
       "      <td>7</td>\n",
       "      <td>Rwanda</td>\n",
       "      <td>12,374,000</td>\n",
       "      <td>26,338</td>\n",
       "      <td>470</td>\n",
       "    </tr>\n",
       "    <tr>\n",
       "      <th>7</th>\n",
       "      <td>8</td>\n",
       "      <td>Haiti</td>\n",
       "      <td>11,578,000</td>\n",
       "      <td>27,065</td>\n",
       "      <td>428</td>\n",
       "    </tr>\n",
       "    <tr>\n",
       "      <th>8</th>\n",
       "      <td>9</td>\n",
       "      <td>Netherlands</td>\n",
       "      <td>17,690,000</td>\n",
       "      <td>41,526</td>\n",
       "      <td>426</td>\n",
       "    </tr>\n",
       "    <tr>\n",
       "      <th>9</th>\n",
       "      <td>10</td>\n",
       "      <td>Israel</td>\n",
       "      <td>9,470,000</td>\n",
       "      <td>22,072</td>\n",
       "      <td>429</td>\n",
       "    </tr>\n",
       "  </tbody>\n",
       "</table>\n",
       "</div>"
      ],
      "text/plain": [
       "  Rank           Country   Population     Area Density\n",
       "0    1         Singapore    5,704,000      710   8,033\n",
       "1    2        Bangladesh  172,180,000  143,998   1,196\n",
       "2    3  \\n Palestine\\n\\n    5,266,785    6,020     847\n",
       "3    4           Lebanon    6,856,000   10,452     656\n",
       "4    5            Taiwan   23,604,000   36,193     652\n",
       "5    6       South Korea   51,781,000   99,538     520\n",
       "6    7            Rwanda   12,374,000   26,338     470\n",
       "7    8             Haiti   11,578,000   27,065     428\n",
       "8    9       Netherlands   17,690,000   41,526     426\n",
       "9   10            Israel    9,470,000   22,072     429"
      ]
     },
     "execution_count": 121,
     "metadata": {},
     "output_type": "execute_result"
    }
   ],
   "source": [
    "population_data = pd.DataFrame(columns=[\"Rank\", \"Country\", \"Population\", \"Area\", \"Density\"])\n",
    "\n",
    "for row in tables[table_index].tbody.find_all(\"tr\"):\n",
    "    col = row.find_all(\"td\")\n",
    "    if (col != []):\n",
    "        rank = col[0].text\n",
    "        country = col[1].text\n",
    "        population = col[2].text.strip()\n",
    "        area = col[3].text.strip()\n",
    "        density = col[4].text.strip()\n",
    "        population_data = population_data.append({\"Rank\":rank, \"Country\":country, \"Population\":population, \"Area\":area, \"Density\":density}, ignore_index=True)\n",
    "\n",
    "population_data"
   ]
  },
  {
   "cell_type": "markdown",
   "metadata": {},
   "source": [
    "## Scrape data from HTML tables into a DataFrame using BeautifulSoup and read_html\n"
   ]
  },
  {
   "cell_type": "markdown",
   "metadata": {},
   "source": [
    "Using the same `url`, `data`, `soup`, and `tables` object as in the last section we can use the `read_html` function to create a DataFrame.\n",
    "\n",
    "Remember the table we need is located in `tables[table_index]`\n",
    "\n",
    "We can now use the `pandas` function `read_html` and give it the string version of the table as well as the `flavor` which is the parsing engine `bs4`.\n"
   ]
  },
  {
   "cell_type": "code",
   "execution_count": 59,
   "metadata": {},
   "outputs": [
    {
     "data": {
      "text/plain": [
       "[   Rank      Country  Population  Area(km2)  Density(pop/km2)\n",
       " 0     1    Singapore     5704000        710              8033\n",
       " 1     2   Bangladesh   171670000     143998              1192\n",
       " 2     3    Palestine     5266785       6020               847\n",
       " 3     4      Lebanon     6856000      10452               656\n",
       " 4     5       Taiwan    23604000      36193               652\n",
       " 5     6  South Korea    51781000      99538               520\n",
       " 6     7       Rwanda    12374000      26338               470\n",
       " 7     8        Haiti    11578000      27065               428\n",
       " 8     9  Netherlands    17660000      41526               425\n",
       " 9    10       Israel     9430000      22072               427]"
      ]
     },
     "execution_count": 59,
     "metadata": {},
     "output_type": "execute_result"
    }
   ],
   "source": [
    "pd.read_html(str(tables[5]), flavor='bs4')"
   ]
  },
  {
   "cell_type": "markdown",
   "metadata": {},
   "source": [
    "The function `read_html` always returns a list of DataFrames so we must pick the one we want out of the list.\n"
   ]
  },
  {
   "cell_type": "code",
   "execution_count": 60,
   "metadata": {},
   "outputs": [
    {
     "data": {
      "text/html": [
       "<div>\n",
       "<style scoped>\n",
       "    .dataframe tbody tr th:only-of-type {\n",
       "        vertical-align: middle;\n",
       "    }\n",
       "\n",
       "    .dataframe tbody tr th {\n",
       "        vertical-align: top;\n",
       "    }\n",
       "\n",
       "    .dataframe thead th {\n",
       "        text-align: right;\n",
       "    }\n",
       "</style>\n",
       "<table border=\"1\" class=\"dataframe\">\n",
       "  <thead>\n",
       "    <tr style=\"text-align: right;\">\n",
       "      <th></th>\n",
       "      <th>Rank</th>\n",
       "      <th>Country</th>\n",
       "      <th>Population</th>\n",
       "      <th>Area(km2)</th>\n",
       "      <th>Density(pop/km2)</th>\n",
       "    </tr>\n",
       "  </thead>\n",
       "  <tbody>\n",
       "    <tr>\n",
       "      <th>0</th>\n",
       "      <td>1</td>\n",
       "      <td>Singapore</td>\n",
       "      <td>5704000</td>\n",
       "      <td>710</td>\n",
       "      <td>8033</td>\n",
       "    </tr>\n",
       "    <tr>\n",
       "      <th>1</th>\n",
       "      <td>2</td>\n",
       "      <td>Bangladesh</td>\n",
       "      <td>171670000</td>\n",
       "      <td>143998</td>\n",
       "      <td>1192</td>\n",
       "    </tr>\n",
       "    <tr>\n",
       "      <th>2</th>\n",
       "      <td>3</td>\n",
       "      <td>Palestine</td>\n",
       "      <td>5266785</td>\n",
       "      <td>6020</td>\n",
       "      <td>847</td>\n",
       "    </tr>\n",
       "    <tr>\n",
       "      <th>3</th>\n",
       "      <td>4</td>\n",
       "      <td>Lebanon</td>\n",
       "      <td>6856000</td>\n",
       "      <td>10452</td>\n",
       "      <td>656</td>\n",
       "    </tr>\n",
       "    <tr>\n",
       "      <th>4</th>\n",
       "      <td>5</td>\n",
       "      <td>Taiwan</td>\n",
       "      <td>23604000</td>\n",
       "      <td>36193</td>\n",
       "      <td>652</td>\n",
       "    </tr>\n",
       "    <tr>\n",
       "      <th>5</th>\n",
       "      <td>6</td>\n",
       "      <td>South Korea</td>\n",
       "      <td>51781000</td>\n",
       "      <td>99538</td>\n",
       "      <td>520</td>\n",
       "    </tr>\n",
       "    <tr>\n",
       "      <th>6</th>\n",
       "      <td>7</td>\n",
       "      <td>Rwanda</td>\n",
       "      <td>12374000</td>\n",
       "      <td>26338</td>\n",
       "      <td>470</td>\n",
       "    </tr>\n",
       "    <tr>\n",
       "      <th>7</th>\n",
       "      <td>8</td>\n",
       "      <td>Haiti</td>\n",
       "      <td>11578000</td>\n",
       "      <td>27065</td>\n",
       "      <td>428</td>\n",
       "    </tr>\n",
       "    <tr>\n",
       "      <th>8</th>\n",
       "      <td>9</td>\n",
       "      <td>Netherlands</td>\n",
       "      <td>17660000</td>\n",
       "      <td>41526</td>\n",
       "      <td>425</td>\n",
       "    </tr>\n",
       "    <tr>\n",
       "      <th>9</th>\n",
       "      <td>10</td>\n",
       "      <td>Israel</td>\n",
       "      <td>9430000</td>\n",
       "      <td>22072</td>\n",
       "      <td>427</td>\n",
       "    </tr>\n",
       "  </tbody>\n",
       "</table>\n",
       "</div>"
      ],
      "text/plain": [
       "   Rank      Country  Population  Area(km2)  Density(pop/km2)\n",
       "0     1    Singapore     5704000        710              8033\n",
       "1     2   Bangladesh   171670000     143998              1192\n",
       "2     3    Palestine     5266785       6020               847\n",
       "3     4      Lebanon     6856000      10452               656\n",
       "4     5       Taiwan    23604000      36193               652\n",
       "5     6  South Korea    51781000      99538               520\n",
       "6     7       Rwanda    12374000      26338               470\n",
       "7     8        Haiti    11578000      27065               428\n",
       "8     9  Netherlands    17660000      41526               425\n",
       "9    10       Israel     9430000      22072               427"
      ]
     },
     "execution_count": 60,
     "metadata": {},
     "output_type": "execute_result"
    }
   ],
   "source": [
    "population_data_read_html = pd.read_html(str(tables[5]), flavor='bs4')[0]\n",
    "\n",
    "population_data_read_html"
   ]
  },
  {
   "cell_type": "markdown",
   "metadata": {},
   "source": [
    "## Scrape data from HTML tables into a DataFrame using read_html\n"
   ]
  },
  {
   "cell_type": "markdown",
   "metadata": {},
   "source": [
    "We can also use the `read_html` function to directly get DataFrames from a `url`.\n"
   ]
  },
  {
   "cell_type": "code",
   "execution_count": 61,
   "metadata": {},
   "outputs": [],
   "source": [
    "dataframe_list = pd.read_html(url, flavor='bs4')"
   ]
  },
  {
   "cell_type": "markdown",
   "metadata": {},
   "source": [
    "We can see there are 25 DataFrames just like when we used `find_all` on the `soup` object.\n"
   ]
  },
  {
   "cell_type": "code",
   "execution_count": 62,
   "metadata": {},
   "outputs": [
    {
     "data": {
      "text/plain": [
       "26"
      ]
     },
     "execution_count": 62,
     "metadata": {},
     "output_type": "execute_result"
    }
   ],
   "source": [
    "len(dataframe_list)"
   ]
  },
  {
   "cell_type": "markdown",
   "metadata": {},
   "source": [
    "Finally we can pick the DataFrame we need out of the list.\n"
   ]
  },
  {
   "cell_type": "code",
   "execution_count": 63,
   "metadata": {},
   "outputs": [
    {
     "data": {
      "text/html": [
       "<div>\n",
       "<style scoped>\n",
       "    .dataframe tbody tr th:only-of-type {\n",
       "        vertical-align: middle;\n",
       "    }\n",
       "\n",
       "    .dataframe tbody tr th {\n",
       "        vertical-align: top;\n",
       "    }\n",
       "\n",
       "    .dataframe thead th {\n",
       "        text-align: right;\n",
       "    }\n",
       "</style>\n",
       "<table border=\"1\" class=\"dataframe\">\n",
       "  <thead>\n",
       "    <tr style=\"text-align: right;\">\n",
       "      <th></th>\n",
       "      <th>Rank</th>\n",
       "      <th>Country</th>\n",
       "      <th>Population</th>\n",
       "      <th>Area(km2)</th>\n",
       "      <th>Density(pop/km2)</th>\n",
       "    </tr>\n",
       "  </thead>\n",
       "  <tbody>\n",
       "    <tr>\n",
       "      <th>0</th>\n",
       "      <td>1</td>\n",
       "      <td>Singapore</td>\n",
       "      <td>5704000</td>\n",
       "      <td>710</td>\n",
       "      <td>8033</td>\n",
       "    </tr>\n",
       "    <tr>\n",
       "      <th>1</th>\n",
       "      <td>2</td>\n",
       "      <td>Bangladesh</td>\n",
       "      <td>171670000</td>\n",
       "      <td>143998</td>\n",
       "      <td>1192</td>\n",
       "    </tr>\n",
       "    <tr>\n",
       "      <th>2</th>\n",
       "      <td>3</td>\n",
       "      <td>Palestine</td>\n",
       "      <td>5266785</td>\n",
       "      <td>6020</td>\n",
       "      <td>847</td>\n",
       "    </tr>\n",
       "    <tr>\n",
       "      <th>3</th>\n",
       "      <td>4</td>\n",
       "      <td>Lebanon</td>\n",
       "      <td>6856000</td>\n",
       "      <td>10452</td>\n",
       "      <td>656</td>\n",
       "    </tr>\n",
       "    <tr>\n",
       "      <th>4</th>\n",
       "      <td>5</td>\n",
       "      <td>Taiwan</td>\n",
       "      <td>23604000</td>\n",
       "      <td>36193</td>\n",
       "      <td>652</td>\n",
       "    </tr>\n",
       "    <tr>\n",
       "      <th>5</th>\n",
       "      <td>6</td>\n",
       "      <td>South Korea</td>\n",
       "      <td>51781000</td>\n",
       "      <td>99538</td>\n",
       "      <td>520</td>\n",
       "    </tr>\n",
       "    <tr>\n",
       "      <th>6</th>\n",
       "      <td>7</td>\n",
       "      <td>Rwanda</td>\n",
       "      <td>12374000</td>\n",
       "      <td>26338</td>\n",
       "      <td>470</td>\n",
       "    </tr>\n",
       "    <tr>\n",
       "      <th>7</th>\n",
       "      <td>8</td>\n",
       "      <td>Haiti</td>\n",
       "      <td>11578000</td>\n",
       "      <td>27065</td>\n",
       "      <td>428</td>\n",
       "    </tr>\n",
       "    <tr>\n",
       "      <th>8</th>\n",
       "      <td>9</td>\n",
       "      <td>Netherlands</td>\n",
       "      <td>17660000</td>\n",
       "      <td>41526</td>\n",
       "      <td>425</td>\n",
       "    </tr>\n",
       "    <tr>\n",
       "      <th>9</th>\n",
       "      <td>10</td>\n",
       "      <td>Israel</td>\n",
       "      <td>9430000</td>\n",
       "      <td>22072</td>\n",
       "      <td>427</td>\n",
       "    </tr>\n",
       "  </tbody>\n",
       "</table>\n",
       "</div>"
      ],
      "text/plain": [
       "   Rank      Country  Population  Area(km2)  Density(pop/km2)\n",
       "0     1    Singapore     5704000        710              8033\n",
       "1     2   Bangladesh   171670000     143998              1192\n",
       "2     3    Palestine     5266785       6020               847\n",
       "3     4      Lebanon     6856000      10452               656\n",
       "4     5       Taiwan    23604000      36193               652\n",
       "5     6  South Korea    51781000      99538               520\n",
       "6     7       Rwanda    12374000      26338               470\n",
       "7     8        Haiti    11578000      27065               428\n",
       "8     9  Netherlands    17660000      41526               425\n",
       "9    10       Israel     9430000      22072               427"
      ]
     },
     "execution_count": 63,
     "metadata": {},
     "output_type": "execute_result"
    }
   ],
   "source": [
    "dataframe_list[5]"
   ]
  },
  {
   "cell_type": "markdown",
   "metadata": {},
   "source": [
    "We can also use the `match` parameter to select the specific table we want. If the table contains a string matching the text it will be read.\n"
   ]
  },
  {
   "cell_type": "code",
   "execution_count": 64,
   "metadata": {},
   "outputs": [
    {
     "data": {
      "text/html": [
       "<div>\n",
       "<style scoped>\n",
       "    .dataframe tbody tr th:only-of-type {\n",
       "        vertical-align: middle;\n",
       "    }\n",
       "\n",
       "    .dataframe tbody tr th {\n",
       "        vertical-align: top;\n",
       "    }\n",
       "\n",
       "    .dataframe thead th {\n",
       "        text-align: right;\n",
       "    }\n",
       "</style>\n",
       "<table border=\"1\" class=\"dataframe\">\n",
       "  <thead>\n",
       "    <tr style=\"text-align: right;\">\n",
       "      <th></th>\n",
       "      <th>Rank</th>\n",
       "      <th>Country</th>\n",
       "      <th>Population</th>\n",
       "      <th>Area(km2)</th>\n",
       "      <th>Density(pop/km2)</th>\n",
       "    </tr>\n",
       "  </thead>\n",
       "  <tbody>\n",
       "    <tr>\n",
       "      <th>0</th>\n",
       "      <td>1</td>\n",
       "      <td>Singapore</td>\n",
       "      <td>5704000</td>\n",
       "      <td>710</td>\n",
       "      <td>8033</td>\n",
       "    </tr>\n",
       "    <tr>\n",
       "      <th>1</th>\n",
       "      <td>2</td>\n",
       "      <td>Bangladesh</td>\n",
       "      <td>171670000</td>\n",
       "      <td>143998</td>\n",
       "      <td>1192</td>\n",
       "    </tr>\n",
       "    <tr>\n",
       "      <th>2</th>\n",
       "      <td>3</td>\n",
       "      <td>Palestine</td>\n",
       "      <td>5266785</td>\n",
       "      <td>6020</td>\n",
       "      <td>847</td>\n",
       "    </tr>\n",
       "    <tr>\n",
       "      <th>3</th>\n",
       "      <td>4</td>\n",
       "      <td>Lebanon</td>\n",
       "      <td>6856000</td>\n",
       "      <td>10452</td>\n",
       "      <td>656</td>\n",
       "    </tr>\n",
       "    <tr>\n",
       "      <th>4</th>\n",
       "      <td>5</td>\n",
       "      <td>Taiwan</td>\n",
       "      <td>23604000</td>\n",
       "      <td>36193</td>\n",
       "      <td>652</td>\n",
       "    </tr>\n",
       "    <tr>\n",
       "      <th>5</th>\n",
       "      <td>6</td>\n",
       "      <td>South Korea</td>\n",
       "      <td>51781000</td>\n",
       "      <td>99538</td>\n",
       "      <td>520</td>\n",
       "    </tr>\n",
       "    <tr>\n",
       "      <th>6</th>\n",
       "      <td>7</td>\n",
       "      <td>Rwanda</td>\n",
       "      <td>12374000</td>\n",
       "      <td>26338</td>\n",
       "      <td>470</td>\n",
       "    </tr>\n",
       "    <tr>\n",
       "      <th>7</th>\n",
       "      <td>8</td>\n",
       "      <td>Haiti</td>\n",
       "      <td>11578000</td>\n",
       "      <td>27065</td>\n",
       "      <td>428</td>\n",
       "    </tr>\n",
       "    <tr>\n",
       "      <th>8</th>\n",
       "      <td>9</td>\n",
       "      <td>Netherlands</td>\n",
       "      <td>17660000</td>\n",
       "      <td>41526</td>\n",
       "      <td>425</td>\n",
       "    </tr>\n",
       "    <tr>\n",
       "      <th>9</th>\n",
       "      <td>10</td>\n",
       "      <td>Israel</td>\n",
       "      <td>9430000</td>\n",
       "      <td>22072</td>\n",
       "      <td>427</td>\n",
       "    </tr>\n",
       "  </tbody>\n",
       "</table>\n",
       "</div>"
      ],
      "text/plain": [
       "   Rank      Country  Population  Area(km2)  Density(pop/km2)\n",
       "0     1    Singapore     5704000        710              8033\n",
       "1     2   Bangladesh   171670000     143998              1192\n",
       "2     3    Palestine     5266785       6020               847\n",
       "3     4      Lebanon     6856000      10452               656\n",
       "4     5       Taiwan    23604000      36193               652\n",
       "5     6  South Korea    51781000      99538               520\n",
       "6     7       Rwanda    12374000      26338               470\n",
       "7     8        Haiti    11578000      27065               428\n",
       "8     9  Netherlands    17660000      41526               425\n",
       "9    10       Israel     9430000      22072               427"
      ]
     },
     "execution_count": 64,
     "metadata": {},
     "output_type": "execute_result"
    }
   ],
   "source": [
    "pd.read_html(url, match=\"10 most densely populated countries\", flavor='bs4')[0]"
   ]
  },
  {
   "cell_type": "markdown",
   "metadata": {},
   "source": [
    "## Authors\n"
   ]
  },
  {
   "cell_type": "markdown",
   "metadata": {},
   "source": [
    "Ramesh Sannareddy\n"
   ]
  },
  {
   "cell_type": "markdown",
   "metadata": {},
   "source": [
    "### Other Contributors\n"
   ]
  },
  {
   "cell_type": "markdown",
   "metadata": {},
   "source": [
    "Rav Ahuja\n"
   ]
  },
  {
   "cell_type": "markdown",
   "metadata": {},
   "source": [
    "## Change Log\n"
   ]
  },
  {
   "cell_type": "markdown",
   "metadata": {},
   "source": [
    "| Date (YYYY-MM-DD) | Version | Changed By                                               | Change Description |\n",
    "| ----------------- | ------- | -------------------------------------------------------- | ------------------ |\n",
    "| 2021-08-04        | 0.2     | Made changes to markdown of nextsibling                  |                    |\n",
    "| 2020-10-17        | 0.1     | Joseph Santarcangelo  Created initial version of the lab |                    |\n"
   ]
  },
  {
   "cell_type": "markdown",
   "metadata": {},
   "source": [
    "Copyright © 2020 IBM Corporation. This notebook and its source code are released under the terms of the [MIT License](https://cognitiveclass.ai/mit-license?utm_medium=Exinfluencer&utm_source=Exinfluencer&utm_content=000026UJ&utm_term=10006555&utm_id=NA-SkillsNetwork-Channel-SkillsNetworkCoursesIBMDeveloperSkillsNetworkPY0220ENSkillsNetwork23455606-2021-01-01&cm_mmc=Email_Newsletter-\\_-Developer_Ed%2BTech-\\_-WW_WW-\\_-SkillsNetwork-Courses-IBMDeveloperSkillsNetwork-PY0101EN-SkillsNetwork-19487395&cm_mmca1=000026UJ&cm_mmca2=10006555&cm_mmca3=M12345678&cvosrc=email.Newsletter.M12345678&cvo_campaign=000026UJ).\n"
   ]
  },
  {
   "cell_type": "code",
   "execution_count": null,
   "metadata": {},
   "outputs": [],
   "source": []
  },
  {
   "cell_type": "code",
   "execution_count": null,
   "metadata": {},
   "outputs": [],
   "source": []
  }
 ],
 "metadata": {
  "kernelspec": {
   "display_name": "Python",
   "language": "python",
   "name": "conda-env-python-py"
  },
  "language_info": {
   "codemirror_mode": {
    "name": "ipython",
    "version": 3
   },
   "file_extension": ".py",
   "mimetype": "text/x-python",
   "name": "python",
   "nbconvert_exporter": "python",
   "pygments_lexer": "ipython3",
   "version": "3.7.12"
  }
 },
 "nbformat": 4,
 "nbformat_minor": 4
}
